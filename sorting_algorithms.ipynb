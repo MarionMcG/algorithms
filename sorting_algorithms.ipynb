{
 "cells": [
  {
   "cell_type": "markdown",
   "metadata": {},
   "source": [
    "# An Investigation of Sorting Algorithms"
   ]
  },
  {
   "cell_type": "markdown",
   "metadata": {},
   "source": [
    "**Notes:** Code cells are structured so you can 'Restart and Run All' if required. May be useful as many code cells are dependent on previous code cells.\n"
   ]
  },
  {
   "cell_type": "markdown",
   "metadata": {},
   "source": [
    "### Libraries"
   ]
  },
  {
   "cell_type": "code",
   "execution_count": 2,
   "metadata": {},
   "outputs": [],
   "source": [
    "import numpy as np # For randomly generating numbers\n",
    "import pandas as pd #For generating dataframes and plots for same\n",
    "import time"
   ]
  },
  {
   "cell_type": "markdown",
   "metadata": {},
   "source": [
    "## Introduction"
   ]
  },
  {
   "cell_type": "markdown",
   "metadata": {},
   "source": [
    "In the course of this investigation, I will discuss and benchmark the following sorting algorithms:\n",
    "* Bubble Sort\n",
    "* Insertion Sort\n",
    "* Merge Sort\n",
    "* Bucket Sort\n",
    "* Tim Sort"
   ]
  },
  {
   "cell_type": "markdown",
   "metadata": {},
   "source": [
    "## Generating Random Data"
   ]
  },
  {
   "cell_type": "code",
   "execution_count": 3,
   "metadata": {},
   "outputs": [],
   "source": [
    "def rand(n):\n",
    "    array = []\n",
    "    for i in range(0, n, 1): # for every integer between 1 and n\n",
    "        gen_rand= np.random.randint(0, 100) # generate a random number\n",
    "        array.append(gen_rand) # and add it to the array\n",
    "    return array"
   ]
  },
  {
   "cell_type": "markdown",
   "metadata": {},
   "source": [
    "## Simple Comparison Based Algorithms - Bubble Sort vs. Insertion Sort"
   ]
  },
  {
   "cell_type": "markdown",
   "metadata": {},
   "source": [
    "### Bubble Sort"
   ]
  },
  {
   "cell_type": "code",
   "execution_count": 4,
   "metadata": {},
   "outputs": [],
   "source": [
    "def bubbleSort(alist):\n",
    "    start = time.time()\n",
    "    for passnum in range(len(alist)-1,0,-1):\n",
    "        for i in range(passnum):\n",
    "            if alist[i]>alist[i+1]:\n",
    "                temp = alist[i]\n",
    "                alist[i] = alist[i+1]\n",
    "                alist[i+1] = temp\n",
    "    end = time.time()\n",
    "    return round(((end - start)*1000), 3)\n",
    "                \n",
    "# Reference: interactivepython.org/runestone/static/pythonds/SortSearch/TheBubbleSort.html, accessed 13th April 2019."
   ]
  },
  {
   "cell_type": "code",
   "execution_count": 4,
   "metadata": {},
   "outputs": [
    {
     "name": "stdout",
     "output_type": "stream",
     "text": [
      "36.4 ns ± 0.532 ns per loop (mean ± std. dev. of 7 runs, 10000000 loops each)\n"
     ]
    }
   ],
   "source": [
    "%timeit(bubbleSort)"
   ]
  },
  {
   "cell_type": "code",
   "execution_count": 5,
   "metadata": {},
   "outputs": [
    {
     "data": {
      "text/plain": [
       "0.0"
      ]
     },
     "execution_count": 5,
     "metadata": {},
     "output_type": "execute_result"
    }
   ],
   "source": [
    "bubbleSort(rand(10)) #10 random variables"
   ]
  },
  {
   "cell_type": "code",
   "execution_count": 6,
   "metadata": {},
   "outputs": [
    {
     "data": {
      "text/plain": [
       "16623.211"
      ]
     },
     "execution_count": 6,
     "metadata": {},
     "output_type": "execute_result"
    }
   ],
   "source": [
    "bubbleSort(rand(10000)) #10,000"
   ]
  },
  {
   "cell_type": "markdown",
   "metadata": {},
   "source": [
    "### Insertion Sort"
   ]
  },
  {
   "cell_type": "code",
   "execution_count": 5,
   "metadata": {},
   "outputs": [],
   "source": [
    "def binary_search(the_array, item, start, end):\n",
    "    if start == end:\n",
    "        if the_array[start] > item:\n",
    "            return start\n",
    "        else:\n",
    "            return start + 1\n",
    "    if start > end:\n",
    "        return start\n",
    "\n",
    "    mid = round((start + end)/ 2)\n",
    "\n",
    "    if the_array[mid] < item:\n",
    "        return binary_search(the_array, item, mid + 1, end)\n",
    "\n",
    "    elif the_array[mid] > item:\n",
    "        return binary_search(the_array, item, start, mid - 1)\n",
    "\n",
    "    else:\n",
    "        return mid"
   ]
  },
  {
   "cell_type": "code",
   "execution_count": 6,
   "metadata": {},
   "outputs": [],
   "source": [
    "def insertionSort(the_array):\n",
    "    start = time.time()          \n",
    "    l = len(the_array)\n",
    "    for index in range(1, l):\n",
    "        value = the_array[index]\n",
    "        pos = binary_search(the_array, value, 0, index - 1)\n",
    "        the_array = the_array[:pos] + [value] + the_array[pos:index] + the_array[index+1:]\n",
    "    end = time.time()\n",
    "    return round(((end - start)*1000), 3) #Return time in milliseconds\n",
    "\n",
    "#Reference:http://interactivepython.org/courselib/static/pythonds/SortSearch/TheInsertionSort.html, accessed 13th April 2019.\n",
    "#Reference:http://skerritt.tech/blog/timsort/, accessed 13th April 2019."
   ]
  },
  {
   "cell_type": "code",
   "execution_count": 9,
   "metadata": {},
   "outputs": [
    {
     "name": "stdout",
     "output_type": "stream",
     "text": [
      "38.3 ns ± 0.621 ns per loop (mean ± std. dev. of 7 runs, 10000000 loops each)\n"
     ]
    }
   ],
   "source": [
    "%timeit(insertionSort)"
   ]
  },
  {
   "cell_type": "code",
   "execution_count": 10,
   "metadata": {},
   "outputs": [
    {
     "data": {
      "text/plain": [
       "0.0"
      ]
     },
     "execution_count": 10,
     "metadata": {},
     "output_type": "execute_result"
    }
   ],
   "source": [
    "insertionSort(rand(10)) #10 random variables"
   ]
  },
  {
   "cell_type": "code",
   "execution_count": 11,
   "metadata": {},
   "outputs": [
    {
     "data": {
      "text/plain": [
       "1330.337"
      ]
     },
     "execution_count": 11,
     "metadata": {},
     "output_type": "execute_result"
    }
   ],
   "source": [
    "insertionSort(rand(10000)) #10,000 random variables"
   ]
  },
  {
   "cell_type": "markdown",
   "metadata": {},
   "source": [
    "## An Efficient Comparison Based Sorting Algorithm - Merge Sort"
   ]
  },
  {
   "cell_type": "code",
   "execution_count": 7,
   "metadata": {},
   "outputs": [],
   "source": [
    "def mergeSort(alist):\n",
    "    start = time.time()\n",
    "   \n",
    "    if len(alist)>1:\n",
    "        mid = len(alist)//2\n",
    "        lefthalf = alist[:mid]\n",
    "        righthalf = alist[mid:]\n",
    "\n",
    "        mergeSort(lefthalf)\n",
    "        mergeSort(righthalf)\n",
    "\n",
    "        i=0\n",
    "        j=0\n",
    "        k=0\n",
    "        while i < len(lefthalf) and j < len(righthalf):\n",
    "            if lefthalf[i] < righthalf[j]:\n",
    "                alist[k]=lefthalf[i]\n",
    "                i=i+1\n",
    "            else:\n",
    "                alist[k]=righthalf[j]\n",
    "                j=j+1\n",
    "            k=k+1\n",
    "\n",
    "        while i < len(lefthalf):\n",
    "            alist[k]=lefthalf[i]\n",
    "            i=i+1\n",
    "            k=k+1\n",
    "\n",
    "        while j < len(righthalf):\n",
    "            alist[k]=righthalf[j]\n",
    "            j=j+1\n",
    "            k=k+1 \n",
    "    end = time.time()\n",
    "    return round(((end - start)*1000), 3)\n",
    "#Reference: http://interactivepython.org/courselib/static/pythonds/SortSearch/TheMergeSort.html, accessed 13th April 2019."
   ]
  },
  {
   "cell_type": "code",
   "execution_count": 13,
   "metadata": {},
   "outputs": [
    {
     "name": "stdout",
     "output_type": "stream",
     "text": [
      "41.3 ns ± 1.01 ns per loop (mean ± std. dev. of 7 runs, 10000000 loops each)\n"
     ]
    }
   ],
   "source": [
    "%timeit(mergeSort)"
   ]
  },
  {
   "cell_type": "code",
   "execution_count": 14,
   "metadata": {},
   "outputs": [
    {
     "data": {
      "text/plain": [
       "0.0"
      ]
     },
     "execution_count": 14,
     "metadata": {},
     "output_type": "execute_result"
    }
   ],
   "source": [
    "mergeSort(rand(10)) #10 random variables"
   ]
  },
  {
   "cell_type": "code",
   "execution_count": 15,
   "metadata": {},
   "outputs": [
    {
     "data": {
      "text/plain": [
       "124.031"
      ]
     },
     "execution_count": 15,
     "metadata": {},
     "output_type": "execute_result"
    }
   ],
   "source": [
    "mergeSort(rand(10000)) #10,000 random variables"
   ]
  },
  {
   "cell_type": "code",
   "execution_count": 16,
   "metadata": {},
   "outputs": [
    {
     "data": {
      "text/plain": [
       "1505.381"
      ]
     },
     "execution_count": 16,
     "metadata": {},
     "output_type": "execute_result"
    }
   ],
   "source": [
    "mergeSort(rand(100000))"
   ]
  },
  {
   "cell_type": "markdown",
   "metadata": {},
   "source": [
    "## Bucket Sort"
   ]
  },
  {
   "cell_type": "code",
   "execution_count": 8,
   "metadata": {},
   "outputs": [],
   "source": [
    "def insertion_sort(the_array):\n",
    "    l = len(the_array)\n",
    "    for index in range(1, l):\n",
    "        value = the_array[index]\n",
    "        pos = binary_search(the_array, value, 0, index - 1)\n",
    "        the_array = the_array[:pos] + [value] + the_array[pos:index] + the_array[index+1:]\n",
    "    the_array\n",
    "#Reference and code are the same as insertionSort above. This function returns the_array instead of time elapsed"
   ]
  },
  {
   "cell_type": "code",
   "execution_count": 9,
   "metadata": {},
   "outputs": [],
   "source": [
    "def bucketSort(alist):\n",
    "    start = time.time()\n",
    "    largest = max(alist)\n",
    "    length = len(alist)\n",
    "    size = largest/length\n",
    " \n",
    "    buckets = [[] for _ in range(length)]\n",
    "    for i in range(length):\n",
    "        j = int(alist[i]/size)\n",
    "        if j != length:\n",
    "            buckets[j].append(alist[i])\n",
    "        else:\n",
    "            buckets[length - 1].append(alist[i])\n",
    " \n",
    "    for i in range(length):\n",
    "        insertion_sort(buckets[i])\n",
    " \n",
    "    result = []\n",
    "    for i in range(length):\n",
    "        result = result + buckets[i]\n",
    "\n",
    "    end = time.time()\n",
    "    return round(((end - start)*1000), 3)\n",
    "#Reference: https://www.sanfoundry.com/python-program-implement-bucket-sort/, accessed 13th April 2019."
   ]
  },
  {
   "cell_type": "code",
   "execution_count": 19,
   "metadata": {},
   "outputs": [
    {
     "name": "stdout",
     "output_type": "stream",
     "text": [
      "40.1 ns ± 2.58 ns per loop (mean ± std. dev. of 7 runs, 10000000 loops each)\n"
     ]
    }
   ],
   "source": [
    "%timeit(bucketSort)"
   ]
  },
  {
   "cell_type": "code",
   "execution_count": 20,
   "metadata": {},
   "outputs": [
    {
     "data": {
      "text/plain": [
       "0.0"
      ]
     },
     "execution_count": 20,
     "metadata": {},
     "output_type": "execute_result"
    }
   ],
   "source": [
    "bucketSort(rand(10))"
   ]
  },
  {
   "cell_type": "code",
   "execution_count": 21,
   "metadata": {},
   "outputs": [
    {
     "data": {
      "text/plain": [
       "32268.181"
      ]
     },
     "execution_count": 21,
     "metadata": {},
     "output_type": "execute_result"
    }
   ],
   "source": [
    "bucketSort(rand(100000))"
   ]
  },
  {
   "cell_type": "markdown",
   "metadata": {},
   "source": [
    "## TimSort"
   ]
  },
  {
   "cell_type": "code",
   "execution_count": 27,
   "metadata": {},
   "outputs": [],
   "source": [
    "def merge(left, right): #Input is two sorted lists\n",
    "    if not left:\n",
    "        return right\n",
    "    if not right:\n",
    "        return left\n",
    "    if left[0] < right[0]:\n",
    "        return [left[0]] + merge(left[1:], right)\n",
    "    return [right[0]] + merge(left, right[1:])\n",
    "\n",
    "#Reference:http://skerritt.tech/blog/timsort/, accessed 13th April 2019."
   ]
  },
  {
   "cell_type": "code",
   "execution_count": 28,
   "metadata": {},
   "outputs": [],
   "source": [
    "def timSort(the_array):\n",
    "    start = time.time()\n",
    "    runs, sorted_runs = [], []\n",
    "    length = len(the_array)\n",
    "    new_run = [the_array[0]]\n",
    "\n",
    "    # for every i in the range of 1 to length of array\n",
    "    for i in range(1, length):\n",
    "        # if i is at the end of the list\n",
    "        if i == length - 1:\n",
    "            new_run.append(the_array[i])\n",
    "            runs.append(new_run)\n",
    "            break\n",
    "        # if the i'th element of the array is less than the one before it\n",
    "        if the_array[i] < the_array[i-1]:\n",
    "            # if new_run is set to None (NULL)\n",
    "            if not new_run:\n",
    "                runs.append([the_array[i]])\n",
    "                new_run.append(the_array[i])\n",
    "            else:\n",
    "                runs.append(new_run)\n",
    "                new_run = []\n",
    "        # else if its equal to or more than\n",
    "        else:\n",
    "            new_run.append(the_array[i])\n",
    "\n",
    "    # for every item in runs, append it using insertion sort\n",
    "    for item in runs:\n",
    "        sorted_runs.append(insertion_sort(item))\n",
    "    \n",
    "    # for every run in sorted_runs, merge them\n",
    "    sorted_array = []\n",
    "    for run in sorted_runs:\n",
    "        sorted_array = merge(sorted_array, run)\n",
    "\n",
    "    end = time.time()\n",
    "    return round(((end - start)*1000), 3)\n",
    "\n",
    "#Reference:http://skerritt.tech/blog/timsort/, accessed 13th April 2019."
   ]
  },
  {
   "cell_type": "code",
   "execution_count": 24,
   "metadata": {},
   "outputs": [
    {
     "name": "stdout",
     "output_type": "stream",
     "text": [
      "62 ns ± 4.8 ns per loop (mean ± std. dev. of 7 runs, 10000000 loops each)\n"
     ]
    }
   ],
   "source": [
    "%timeit(timSort)"
   ]
  },
  {
   "cell_type": "code",
   "execution_count": 25,
   "metadata": {},
   "outputs": [
    {
     "data": {
      "text/plain": [
       "183.047"
      ]
     },
     "execution_count": 25,
     "metadata": {},
     "output_type": "execute_result"
    }
   ],
   "source": [
    "timSort(rand(100000))\n"
   ]
  },
  {
   "cell_type": "markdown",
   "metadata": {},
   "source": [
    "## Benchmarking Functions"
   ]
  },
  {
   "cell_type": "code",
   "execution_count": 29,
   "metadata": {},
   "outputs": [],
   "source": [
    "# Passes multiple randomly generated arrays to only 1 function\n",
    "# Helpful little function that I used to verify results when writing bench_all ()\n",
    "\n",
    "def bench(func):\n",
    "    array_1 = []\n",
    "    array_2 =[]\n",
    "    # Rand_size = input size of randomly generated datasets\n",
    "    rand_size = [10, 50, 100, 250, 500, 750, 1000, 5000, 7500, 10000]\n",
    "    for i in rand_size:\n",
    "            y = func(rand(i)) #Pass each randomly generated dataset through the function\n",
    "            x = i #Set x equal to the size\n",
    "            array_1.append(x) #Add x values to array 1 \n",
    "            array_2.append(y) #Add y values to array 2\n",
    "       \n",
    "    d = {'Input Size': array_1, 'Time Elapsed': array_2} #Generate df with data\n",
    "    df = pd.DataFrame(data=d);\n",
    "    graph = df.plot(x='Input Size',y='Time Elapsed');\n",
    "    display(df, graph);"
   ]
  },
  {
   "cell_type": "code",
   "execution_count": 13,
   "metadata": {},
   "outputs": [],
   "source": [
    "# Passes 10 unique and randomly generated arrays to 5 functions\n",
    "def bench_all(func, func2, func3, func4, func5):\n",
    "    \n",
    "    array_1 = []\n",
    "    array_2 = []\n",
    "    array_3 = []\n",
    "    array_4 = []\n",
    "    array_5 = []\n",
    "    array_6 = []\n",
    "    # Rand_size = input size of randomly generated datasets\n",
    "    rand_size = [10, 50, 100, 250, 500, 750, 1000, 5000, 7500, 10000]\n",
    "    \n",
    "    for i in rand_size:\n",
    "            y = func(rand(i)) #Pass 10 randomly generated dataset through each function\n",
    "            y1 = func2(rand(i))\n",
    "            y2 = func3(rand(i))\n",
    "            y3 = func4(rand(i))\n",
    "            y4 = func5(rand(i))\n",
    "            x = i #Set x equal to the size\n",
    "    \n",
    "            array_1.append(x) #Add x values to array 1 \n",
    "            array_2.append(y) #Add y values to their arrays\n",
    "            array_3.append(y1)\n",
    "            array_4.append(y2)\n",
    "            array_5.append(y3)\n",
    "            array_6.append(y4)\n",
    "    temp_df = pd.DataFrame({'Input Size': array_1, 'BubbleSort': array_2, 'InsertionSort': array_3, 'MergeSort': array_4, \n",
    "                             'BucketSort': array_5, 'TimSort':array_6})\n",
    "\n",
    "    pd.DataFrame(temp_df).to_csv(\"data/run_once.csv\")"
   ]
  },
  {
   "cell_type": "markdown",
   "metadata": {},
   "source": [
    "## Comparing Sorting Algorithms "
   ]
  },
  {
   "cell_type": "code",
   "execution_count": 21,
   "metadata": {},
   "outputs": [],
   "source": [
    "bench_all(bubbleSort, insertionSort, mergeSort, bucketSort, timSort)"
   ]
  },
  {
   "cell_type": "code",
   "execution_count": 22,
   "metadata": {},
   "outputs": [
    {
     "data": {
      "text/html": [
       "<div>\n",
       "<style scoped>\n",
       "    .dataframe tbody tr th:only-of-type {\n",
       "        vertical-align: middle;\n",
       "    }\n",
       "\n",
       "    .dataframe tbody tr th {\n",
       "        vertical-align: top;\n",
       "    }\n",
       "\n",
       "    .dataframe thead th {\n",
       "        text-align: right;\n",
       "    }\n",
       "</style>\n",
       "<table border=\"1\" class=\"dataframe\">\n",
       "  <thead>\n",
       "    <tr style=\"text-align: right;\">\n",
       "      <th></th>\n",
       "      <th>Unnamed: 0</th>\n",
       "      <th>Input Size</th>\n",
       "      <th>BubbleSort</th>\n",
       "      <th>InsertionSort</th>\n",
       "      <th>MergeSort</th>\n",
       "      <th>BucketSort</th>\n",
       "      <th>TimSort</th>\n",
       "    </tr>\n",
       "  </thead>\n",
       "  <tbody>\n",
       "    <tr>\n",
       "      <th>0</th>\n",
       "      <td>0</td>\n",
       "      <td>10</td>\n",
       "      <td>0.000</td>\n",
       "      <td>0.000</td>\n",
       "      <td>0.000</td>\n",
       "      <td>0.000</td>\n",
       "      <td>0.000</td>\n",
       "    </tr>\n",
       "    <tr>\n",
       "      <th>1</th>\n",
       "      <td>1</td>\n",
       "      <td>50</td>\n",
       "      <td>1.000</td>\n",
       "      <td>0.000</td>\n",
       "      <td>0.000</td>\n",
       "      <td>1.003</td>\n",
       "      <td>0.000</td>\n",
       "    </tr>\n",
       "    <tr>\n",
       "      <th>2</th>\n",
       "      <td>2</td>\n",
       "      <td>100</td>\n",
       "      <td>0.998</td>\n",
       "      <td>1.000</td>\n",
       "      <td>0.999</td>\n",
       "      <td>1.001</td>\n",
       "      <td>0.999</td>\n",
       "    </tr>\n",
       "    <tr>\n",
       "      <th>3</th>\n",
       "      <td>3</td>\n",
       "      <td>250</td>\n",
       "      <td>10.006</td>\n",
       "      <td>4.002</td>\n",
       "      <td>4.001</td>\n",
       "      <td>2.000</td>\n",
       "      <td>1.001</td>\n",
       "    </tr>\n",
       "    <tr>\n",
       "      <th>4</th>\n",
       "      <td>4</td>\n",
       "      <td>500</td>\n",
       "      <td>100.025</td>\n",
       "      <td>13.007</td>\n",
       "      <td>7.002</td>\n",
       "      <td>3.002</td>\n",
       "      <td>1.999</td>\n",
       "    </tr>\n",
       "    <tr>\n",
       "      <th>5</th>\n",
       "      <td>5</td>\n",
       "      <td>750</td>\n",
       "      <td>133.032</td>\n",
       "      <td>22.007</td>\n",
       "      <td>10.004</td>\n",
       "      <td>5.001</td>\n",
       "      <td>1.001</td>\n",
       "    </tr>\n",
       "    <tr>\n",
       "      <th>6</th>\n",
       "      <td>6</td>\n",
       "      <td>1000</td>\n",
       "      <td>204.052</td>\n",
       "      <td>29.005</td>\n",
       "      <td>13.001</td>\n",
       "      <td>7.004</td>\n",
       "      <td>3.001</td>\n",
       "    </tr>\n",
       "    <tr>\n",
       "      <th>7</th>\n",
       "      <td>7</td>\n",
       "      <td>5000</td>\n",
       "      <td>5495.393</td>\n",
       "      <td>465.118</td>\n",
       "      <td>74.018</td>\n",
       "      <td>89.023</td>\n",
       "      <td>9.002</td>\n",
       "    </tr>\n",
       "    <tr>\n",
       "      <th>8</th>\n",
       "      <td>8</td>\n",
       "      <td>7500</td>\n",
       "      <td>10651.697</td>\n",
       "      <td>974.249</td>\n",
       "      <td>113.027</td>\n",
       "      <td>243.062</td>\n",
       "      <td>14.004</td>\n",
       "    </tr>\n",
       "    <tr>\n",
       "      <th>9</th>\n",
       "      <td>9</td>\n",
       "      <td>10000</td>\n",
       "      <td>19303.895</td>\n",
       "      <td>1777.450</td>\n",
       "      <td>174.042</td>\n",
       "      <td>343.087</td>\n",
       "      <td>18.005</td>\n",
       "    </tr>\n",
       "  </tbody>\n",
       "</table>\n",
       "</div>"
      ],
      "text/plain": [
       "   Unnamed: 0  Input Size  BubbleSort  InsertionSort  MergeSort  BucketSort  \\\n",
       "0           0          10       0.000          0.000      0.000       0.000   \n",
       "1           1          50       1.000          0.000      0.000       1.003   \n",
       "2           2         100       0.998          1.000      0.999       1.001   \n",
       "3           3         250      10.006          4.002      4.001       2.000   \n",
       "4           4         500     100.025         13.007      7.002       3.002   \n",
       "5           5         750     133.032         22.007     10.004       5.001   \n",
       "6           6        1000     204.052         29.005     13.001       7.004   \n",
       "7           7        5000    5495.393        465.118     74.018      89.023   \n",
       "8           8        7500   10651.697        974.249    113.027     243.062   \n",
       "9           9       10000   19303.895       1777.450    174.042     343.087   \n",
       "\n",
       "   TimSort  \n",
       "0    0.000  \n",
       "1    0.000  \n",
       "2    0.999  \n",
       "3    1.001  \n",
       "4    1.999  \n",
       "5    1.001  \n",
       "6    3.001  \n",
       "7    9.002  \n",
       "8   14.004  \n",
       "9   18.005  "
      ]
     },
     "execution_count": 22,
     "metadata": {},
     "output_type": "execute_result"
    }
   ],
   "source": [
    "df = pd.read_csv('data/run_once.csv')\n",
    "df"
   ]
  },
  {
   "cell_type": "code",
   "execution_count": 26,
   "metadata": {},
   "outputs": [
    {
     "data": {
      "image/png": "[encoded data removed]",
      "text/plain": [
       "<Figure size 432x288 with 1 Axes>"
      ]
     },
     "metadata": {},
     "output_type": "display_data"
    }
   ],
   "source": [
    "ax = df.plot(x='Input Size', y=['BubbleSort', 'InsertionSort', 'MergeSort', 'BucketSort', 'TimSort'])\n",
    "ax.set_ylabel(\"Time Elapsed (milliseconds)\");"
   ]
  },
  {
   "cell_type": "code",
   "execution_count": 24,
   "metadata": {},
   "outputs": [
    {
     "data": {
      "image/png": "[encoded data removed]",
      "text/plain": [
       "<Figure size 432x288 with 1 Axes>"
      ]
     },
     "metadata": {},
     "output_type": "display_data"
    }
   ],
   "source": [
    "ax = df.plot(x='Input Size', y=['InsertionSort', 'MergeSort', 'BucketSort', 'TimSort'])\n",
    "ax.set_ylabel(\"Time Elapsed (milliseconds)\");"
   ]
  },
  {
   "cell_type": "code",
   "execution_count": 25,
   "metadata": {},
   "outputs": [
    {
     "data": {
      "image/png": "[encoded data removed]",
      "text/plain": [
       "<Figure size 432x288 with 1 Axes>"
      ]
     },
     "metadata": {},
     "output_type": "display_data"
    }
   ],
   "source": [
    "ax = df.plot(x='Input Size', y=['MergeSort', 'BucketSort', 'TimSort'])\n",
    "ax.set_ylabel(\"Time Elapsed (milliseconds)\");"
   ]
  },
  {
   "cell_type": "markdown",
   "metadata": {},
   "source": [
    "## Benchmarking Sorting Algorithms"
   ]
  },
  {
   "cell_type": "code",
   "execution_count": 56,
   "metadata": {},
   "outputs": [],
   "source": [
    "df2 = pd.DataFrame()"
   ]
  },
  {
   "cell_type": "code",
   "execution_count": null,
   "metadata": {},
   "outputs": [],
   "source": []
  }
 ],
 "metadata": {
  "kernelspec": {
   "display_name": "Python 3",
   "language": "python",
   "name": "python3"
  },
  "language_info": {
   "codemirror_mode": {
    "name": "ipython",
    "version": 3
   },
   "file_extension": ".py",
   "mimetype": "text/x-python",
   "name": "python",
   "nbconvert_exporter": "python",
   "pygments_lexer": "ipython3",
   "version": "3.6.5"
  }
 },
 "nbformat": 4,
 "nbformat_minor": 2
}
