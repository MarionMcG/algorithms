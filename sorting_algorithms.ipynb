{
 "cells": [
  {
   "cell_type": "markdown",
   "metadata": {},
   "source": [
    "# An Investigation of Sorting Algorithms"
   ]
  },
  {
   "cell_type": "markdown",
   "metadata": {},
   "source": [
    "## Libraries"
   ]
  },
  {
   "cell_type": "code",
   "execution_count": 180,
   "metadata": {},
   "outputs": [],
   "source": [
    "import numpy as np # For randomly generating numbers\n",
    "import pandas as pd #For reading csv files, generating dataframes and plots for same\n",
    "import matplotlib.pyplot as plt\n",
    "import time"
   ]
  },
  {
   "cell_type": "markdown",
   "metadata": {},
   "source": [
    "## Introduction"
   ]
  },
  {
   "cell_type": "markdown",
   "metadata": {},
   "source": [
    "<b>A sorting algorithm arranges a list of items in some predetermined order.</b> \n",
    "\n",
    "For this investigation, I'm going to look at ordering discrete numerical elements, in ascending order, for smallest to biggest. Sorting is essentially a permutation of list elements, and does not alter any of the elements in the list. \n",
    "\n",
    "Much of early computing advancements focused on finding effective sorting methods. This is because sorting elements allow for a number of tasks to be completed quicker than in a list of unsorted items. It's essential in data analysis, when determining the maximum, minimum, median and inter-quartile range. Also, sorting is often pre-processing step in search algorithms, allowing for more effective identification of specific or duplicate entries."
   ]
  },
  {
   "cell_type": "markdown",
   "metadata": {},
   "source": [
    "**Terminology**\n",
    "\n",
    "* The **worst - case scenario** refers to an input that will result in the longest possible running time. In the case of sorting algorithms, this will often refer to an input that is in reverse order, or already sorted. \n",
    "\n",
    "\n",
    "* With respect to duplicate entries, a **stable sorting algorithm** will preserve the order of duplicate entries while an **unstable sorting algorithm** will not. All of the sorting algorithms I've chosen to investigate are stable sorting algorithms. \n",
    "\n",
    "\n",
    "* An **in-place sorting algorithm** uses a fixed additional amount of working space, and is independent of it's input size. Another trait of an in-place algorithm is that the input is overwritten by the output.\n"
   ]
  },
  {
   "cell_type": "markdown",
   "metadata": {},
   "source": [
    "** Project Intentions **\n",
    "\n",
    "In the course of this investigation, I will discuss and benchmark the following sorting algorithms:\n",
    "* Bubble Sort\n",
    "* Insertion Sort\n",
    "* Binary Insertion\n",
    "* Merge Sort\n",
    "* Bucket Sort\n",
    "\n",
    "I have chosen these sorting algorithms as they include examples of simple and effective comparison based sorting algorithms, non-comparison based sorting algorithms and hybrid sorting algorithms. My decision to examine Binary Insertion Sort, was in part due to the improved time complexity of this algorithm, when compared to the traditional Insertion Sort. \n",
    "\n",
    "I will discuss these types of sorting algorithms with reference to the specific examples I have chosen, and plot their running time against the size of inputs. To more effectively compare these algorithms, I will also run each algorithm ten times for each input, and determine the average running time."
   ]
  },
  {
   "cell_type": "code",
   "execution_count": 197,
   "metadata": {},
   "outputs": [
    {
     "data": {
      "image/png": "[encoded data removed]",
      "text/plain": [
       "<Figure size 648x432 with 1 Axes>"
      ]
     },
     "metadata": {},
     "output_type": "display_data"
    }
   ],
   "source": [
    "num = range(1, 1000, 10)\n",
    "f = plt.subplots(figsize = (9, 6))\n",
    "x = [(n) for n in num]\n",
    "plt.plot(num, x,  label = 'Linear')\n",
    "y = [(n**2)/100 for n in num]\n",
    "plt.plot(num, y,  label = 'Quadratic')\n",
    "z = [(10*(np.log2(n))) for n in num]\n",
    "plt.plot(num, z,  label = 'Logarithmic')\n",
    "plt.axis([0, 1000, 0, 1000])\n",
    "plt.legend();"
   ]
  },
  {
   "cell_type": "markdown",
   "metadata": {},
   "source": [
    "**Space Complexity**"
   ]
  },
  {
   "cell_type": "markdown",
   "metadata": {},
   "source": [
    "## Functions\n",
    "### Generating Random Data"
   ]
  },
  {
   "cell_type": "code",
   "execution_count": 2,
   "metadata": {},
   "outputs": [],
   "source": [
    "#Function used to generate random data\n",
    "def rand(n):\n",
    "    array = []\n",
    "    for i in range(0, n, 1): # for every integer between 1 and n\n",
    "        gen_rand= np.random.randint(0, 100) # generate a random number\n",
    "        array.append(gen_rand) # and add it to the array\n",
    "    return array"
   ]
  },
  {
   "cell_type": "markdown",
   "metadata": {},
   "source": [
    "### Benchmarking Functions"
   ]
  },
  {
   "cell_type": "code",
   "execution_count": 200,
   "metadata": {},
   "outputs": [],
   "source": [
    "#Inputs random array to each function ONLY ONCE\n",
    "#Returns running time in milliseconds\n",
    "def compare_all():\n",
    "    array_1 = []    \n",
    "    rand_size = [10, 50, 100, 250, 500, 750, 1000, 5000, 7500, 10000]\n",
    "    functions = [bubbleSort, insertion_sort, insertionSort, mergeSort, bucketSort, sorted]\n",
    "    \n",
    "    for func in functions: #For every function\n",
    "        for i in rand_size: #For every input size i\n",
    "                size = rand(i) #generate a random array of i values\n",
    "                start = time.time()\n",
    "                func(size) #pass the array to the function\n",
    "                end = time.time()\n",
    "                clock = round(((end - start)*1000), 3) #running time in milliseconds\n",
    "                array_1.append(clock) #Add running time value to array_1\n",
    "\n",
    "    df = pd.DataFrame({'Input Size': rand_size, \n",
    "                       'BubbleSort': array_1[slice(0, 10, 1)], \n",
    "                       'InsertionSort': array_1[slice(10, 20, 1)], \n",
    "                       'Binary InsertionSort': array_1[slice(20, 30, 1)], \n",
    "                       'MergeSort':array_1[slice(30, 40, 1)], \n",
    "                       'BucketSort':array_1[slice(40, 50, 1)], \n",
    "                       'Sorted':array_1[slice(50, 60, 1)]})\n",
    "    \n",
    "    df.to_csv(\"data/run_once.csv\", index=False)"
   ]
  },
  {
   "cell_type": "code",
   "execution_count": null,
   "metadata": {},
   "outputs": [],
   "source": [
    "#Input an array with 100 values\n",
    "#Returns the mean of every 10 values, as an array\n",
    "def mean_array(the_array):\n",
    "    average_time = []\n",
    "    y1 = np.mean(the_array[slice(0, 10, 1)])\n",
    "    y2 = np.mean(the_array[slice(10, 20, 1)])\n",
    "    y3 = np.mean(the_array[slice(20, 30, 1)])\n",
    "    y4 = np.mean(the_array[slice(30, 40, 1)])\n",
    "    y5 = np.mean(the_array[slice(40, 50, 1)])\n",
    "    y6 = np.mean(the_array[slice(50, 60, 1)])\n",
    "    y7 = np.mean(the_array[slice(60, 70, 1)])\n",
    "    y8 = np.mean(the_array[slice(70, 80, 1)])\n",
    "    y9 = np.mean(the_array[slice(80, 90, 1)])\n",
    "    y10 =np.mean(the_array[slice(90, 100, 1)])\n",
    "    \n",
    "    results = [y1, y2, y3, y4, y5, y6, y7, y8, y9, y10]\n",
    "    return results"
   ]
  },
  {
   "cell_type": "code",
   "execution_count": null,
   "metadata": {},
   "outputs": [],
   "source": [
    "#Inputs each random array to each function ten times\n",
    "#Returns average running time in milliseconds\n",
    "def bench_ten_runs():\n",
    "    results=[]\n",
    "    average_time = []\n",
    "    final_array= []\n",
    "    num_runs = 10\n",
    "    rand_size = [10, 50, 100, 250, 500, 750, 1000, 5000, 7500, 10000]\n",
    "    functions = [bubbleSort, insertion_sort, insertionSort, mergeSort, bucketSort, sorted]\n",
    "    \n",
    "  \n",
    "    for func in functions: #For each function\n",
    "        for i in rand_size: #input a value\n",
    "            size = rand(i) \n",
    "            for r in range(num_runs):#ten times\n",
    "                start = time.time()\n",
    "                func(size) \n",
    "                end = time.time()\n",
    "                clock = (end - start)*1000\n",
    "                results.append(clock)  # Add time elapsed to array results\n",
    "        average_time = mean_array(results) # Find average time, for each i in rand_size\n",
    "        average_time = np.round(average_time, 3) # Round result to 3 dps\n",
    "        final_array.append(average_time) # Append to final_array\n",
    "        average_time = [] #set both average_time\n",
    "        results=[]  #and results to [], before passing through the next function\n",
    "        \n",
    "    df4 = pd.DataFrame({'Input Size': rand_size, 'BubbleSort': final_array[0], \n",
    "                       'InsertionSort': final_array[1], 'Binary InsertionSort': final_array[2], \n",
    "                             'MergeSort':final_array[3], 'BucketSort':final_array[4], 'Sorted':final_array[5]})\n",
    "    \n",
    "    df4.to_csv(\"data/avg_ten_runs.csv\", index=False)"
   ]
  },
  {
   "cell_type": "markdown",
   "metadata": {},
   "source": [
    "## Discussion of Sorting Algorithms"
   ]
  },
  {
   "cell_type": "markdown",
   "metadata": {},
   "source": [
    "### Bubble Sort"
   ]
  },
  {
   "cell_type": "markdown",
   "metadata": {},
   "source": [
    "Bubble Sort is a simple comparison based sorting algorithm. It compares every number to it's adjacent number(s), and returns the larger number of the two, in the position with the larger index. It continues this process multiple times, looping through the array, until the set is fully sorted. Let's look at an example."
   ]
  },
  {
   "cell_type": "markdown",
   "metadata": {},
   "source": [
    "<img src=\"https://www.w3resource.com/w3r_images/bubble-short.png\" style=\"width: 600px;\" />"
   ]
  },
  {
   "cell_type": "markdown",
   "metadata": {},
   "source": [
    "In the example above, it could be argued that the list of five numbers was already partially sorted before the algorithm was run. The largest value 8 has the largest index. In the first pass, my algorithm compares four pairs of numbers, or $(n-1)$ values, swapping where necessary. As a result, the second largest number ends up in the second last position. \n",
    "\n",
    "In this case, it takes 3 passes to sort the input. However in the worse case scenario, it would take $(n-1)$ passes. \n",
    "\n",
    "So in the worst case scenario, my algorithm would compare $(n-1)$ pairs of numbers, $(n-1)$ times.  \n",
    "\n",
    "This means that the number of operations the algorithm performs would be approximated by $(n-1)(n-1)$, giving us a $O(n^2)$ time complexity. I expect that in small sets BubbleSort will work very well, but with larger input sizes it will take considerably longer to run. \n",
    "\n",
    "BubbleSort can be modified to stop early if it finds that the list has become sorted, and in that case it could have a running time of $O(n)$. However that is the best case scenario, where the input is almost sorted list. "
   ]
  },
  {
   "cell_type": "code",
   "execution_count": 6,
   "metadata": {},
   "outputs": [],
   "source": [
    "def bubbleSort(alist):\n",
    "    for passnum in range(len(alist)-1,0,-1): \n",
    "        for i in range(passnum): #Goes through a list from last value to first\n",
    "            if alist[i]>alist[i+1]: # Compares every value to value on its left\n",
    "                temp = alist[i]  \n",
    "                alist[i] = alist[i+1] \n",
    "                alist[i+1] = temp #Swaps two values, if needed, so the larger value has the larger index                \n",
    "# Reference: interactivepython.org/runestone/static/pythonds/SortSearch/TheBubbleSort.html, accessed 13th April 2019."
   ]
  },
  {
   "cell_type": "markdown",
   "metadata": {},
   "source": [
    "\n",
    "\n",
    "Bubble sort is a stable sort with a space complexity of $O(1)$."
   ]
  },
  {
   "cell_type": "code",
   "execution_count": 7,
   "metadata": {},
   "outputs": [
    {
     "data": {
      "text/plain": [
       "[83, 33, 61, 9, 7, 31, 18, 52, 12, 10]"
      ]
     },
     "execution_count": 7,
     "metadata": {},
     "output_type": "execute_result"
    }
   ],
   "source": [
    "mylist = rand(10)\n",
    "mylist"
   ]
  },
  {
   "cell_type": "code",
   "execution_count": 8,
   "metadata": {},
   "outputs": [],
   "source": [
    "bubbleSort(mylist)"
   ]
  },
  {
   "cell_type": "code",
   "execution_count": 9,
   "metadata": {},
   "outputs": [
    {
     "data": {
      "text/plain": [
       "[7, 9, 10, 12, 18, 31, 33, 52, 61, 83]"
      ]
     },
     "execution_count": 9,
     "metadata": {},
     "output_type": "execute_result"
    }
   ],
   "source": [
    "mylist"
   ]
  },
  {
   "cell_type": "markdown",
   "metadata": {},
   "source": [
    "Now that BubbleSort has run on a small input, mylist, I can clearly see that it is an in-place sorting algorithm. There is no need to return the sorted list in my function, as Bubblesort has replaced the input, mylist, with the sorted array. "
   ]
  },
  {
   "cell_type": "code",
   "execution_count": 10,
   "metadata": {},
   "outputs": [
    {
     "data": {
      "text/plain": [
       "0.0"
      ]
     },
     "execution_count": 10,
     "metadata": {},
     "output_type": "execute_result"
    }
   ],
   "source": [
    "start =time.time()\n",
    "bubbleSort(rand(10)) #10 random variables\n",
    "end = time.time()\n",
    "np.round((end - start)* 1000, 3)"
   ]
  },
  {
   "cell_type": "code",
   "execution_count": 11,
   "metadata": {},
   "outputs": [
    {
     "data": {
      "text/plain": [
       "21143.372"
      ]
     },
     "execution_count": 11,
     "metadata": {},
     "output_type": "execute_result"
    }
   ],
   "source": [
    "start =time.time()\n",
    "bubbleSort(rand(10000)) #10,000\n",
    "end = time.time()\n",
    "np.round((end - start)* 1000, 3)"
   ]
  },
  {
   "cell_type": "markdown",
   "metadata": {},
   "source": [
    "### Insertion Sort vs. Binary Insertion Sort"
   ]
  },
  {
   "cell_type": "markdown",
   "metadata": {},
   "source": [
    "Insertion Sort takes an unsorted list and compares every element to every element preceding it. In my example below, the first comparison occurs when I compare the second element, 7, with the first element 9. 7 is less than 9, so we swap them. Then we are comparing the element at index 3 to all the preceeding elements. 6 is less than both 9 and 7 so it is moved to index 1. "
   ]
  },
  {
   "cell_type": "markdown",
   "metadata": {},
   "source": [
    "<img src=\"https://cdncontribute.geeksforgeeks.org/wp-content/uploads/insertion_sort-recursion.png\" style=\"width: 300px;\" />"
   ]
  },
  {
   "cell_type": "markdown",
   "metadata": {},
   "source": [
    "In this way, Insertion Sort maintains a sorted list to the left of the element it's currently comparing, and an unsorted list to the right. In the worse case, if an input was in reverse order, it would have to compare each element with every preceding number in the sorted list. \n",
    "\n",
    "My example above, is not the worst case. There are some instances where the algorithm terminates early, finding the correct index for a number without having to check every single element of it's already sorted list. "
   ]
  },
  {
   "cell_type": "markdown",
   "metadata": {},
   "source": [
    "This sorting algorithm makes $(1 + 2 + 3 + 4 + 5 + 6 + ... + n-1)$ comparisons, and in the worst case, it will also complete $(n-1)$ swaps. This implies that the function will have $O(n^2)$ time complexity, similar to BubbleSort. This is also implied by the structure of the algorithm, which contains two nested loops below. "
   ]
  },
  {
   "cell_type": "code",
   "execution_count": 12,
   "metadata": {},
   "outputs": [],
   "source": [
    "def insertion_sort(alist):\n",
    "    for index in range(1,len(alist)): #for every element in alist\n",
    "        currentvalue = alist[index] \n",
    "        position = index \n",
    "\n",
    "        while position>0 and alist[position-1]>currentvalue: #Until we reach the first value, if the preceding value is bigger \n",
    "            alist[position]=alist[position-1] \n",
    "            position = position-1 \n",
    "\n",
    "            alist[position]=currentvalue #then swap the values and their indexes\n"
   ]
  },
  {
   "cell_type": "code",
   "execution_count": 13,
   "metadata": {},
   "outputs": [
    {
     "data": {
      "text/plain": [
       "[67, 24, 32, 65, 89, 12, 72, 55, 46, 46]"
      ]
     },
     "execution_count": 13,
     "metadata": {},
     "output_type": "execute_result"
    }
   ],
   "source": [
    "mylist = rand(10)\n",
    "mylist"
   ]
  },
  {
   "cell_type": "code",
   "execution_count": 14,
   "metadata": {},
   "outputs": [
    {
     "data": {
      "text/plain": [
       "[12, 24, 32, 46, 46, 55, 65, 67, 72, 89]"
      ]
     },
     "execution_count": 14,
     "metadata": {},
     "output_type": "execute_result"
    }
   ],
   "source": [
    "insertion_sort(mylist)\n",
    "mylist"
   ]
  },
  {
   "cell_type": "markdown",
   "metadata": {},
   "source": [
    "Like BubbleSort, Insertion Sort is an inplace sorting algorithm, overwiting the original input with the sorted array. "
   ]
  },
  {
   "cell_type": "markdown",
   "metadata": {},
   "source": [
    "This algorithm is also as inefficient as BubbleSort, and iterates through the set linearly comparing each value to other values in the set. \n",
    "\n",
    "A variation of insertion sort is Binary Insertion Sort. This combines the insertion sort process with a binary search algorithm, and results in fewer comparisons having to be made. Binary Search acts upon already sorted sets. As a result, it is uniquely suited to the Insertion Sort process, where the elements to the left of the item been sorted, are already sorted in order from smallest to biggest. \n",
    "\n",
    "In this way, the binary search algorithm can find the correct positon for a new element, without comparing it to all previous elements. Even without calculating the Big O Notation, it is obvious that this should be a more efficient sorting method. \n"
   ]
  },
  {
   "cell_type": "markdown",
   "metadata": {},
   "source": [
    "\n",
    "Binary insetion sort with duplicate elements - can be sorted to left or right of the duplicate. \n",
    "\n",
    "stable, in place and works well on small sets and on sets that are almost fully sorted \n",
    "\n",
    "very inefficient for large random sets \n",
    "\n",
    "iterative\n",
    "\n",
    "In normal insertion sort, it takes O(n) comparisons(at nth iteration) in worst case. We can reduce it to O(log n) by using binary search.\n",
    "\n"
   ]
  },
  {
   "cell_type": "code",
   "execution_count": 15,
   "metadata": {},
   "outputs": [],
   "source": [
    "#Takes a new item, and return the appropriate index for item in sorted array\n",
    "\n",
    "def binary_search(the_array, item, start, end): #Input is a sorted array, item to be place in array, start and end\n",
    "    \n",
    "    if start == end: # if there's only one item in the sorted array\n",
    "        if the_array[start] > item: # and start item is bigger than the new item\n",
    "            return start #return start (so the smaller number has index 0)\n",
    "        else:\n",
    "            return start + 1 #otherwise return start+1 (so the bigger number has index 1)\n",
    "        \n",
    "    if start > end: #at the last element of the array\n",
    "        return start #return the index of the last element\n",
    "\n",
    "    mid = round((start + end)/ 2) #Returns the mean of the range of indices \n",
    "    \n",
    "    # determine which side to search\n",
    "    if the_array[mid] < item: # if new item is less than the middle value\n",
    "        return binary_search(the_array, item, mid + 1, end) # search array of indices above mid\n",
    "\n",
    "    elif the_array[mid] > item:\n",
    "        return binary_search(the_array, item, start, mid - 1) # search array of indices below mid\n",
    "\n",
    "    else:\n",
    "        return mid # Otherwise mid = item, so return mid\n",
    "\n",
    "def insertionSort(the_array):\n",
    "        \n",
    "    l = len(the_array) #set l to the number of values in array\n",
    "    for index in range(1, l): #for every index\n",
    "        value = the_array[index] #value is equal to element in that position\n",
    "        pos = binary_search(the_array, value, 0, index - 1) #perform binary search to find the appropriate index for value\n",
    "        the_array = the_array[:pos] + [value] + the_array[pos:index] + the_array[index+1:]\n",
    "    return the_array\n",
    "\n",
    "#Reference:http://interactivepython.org/courselib/static/pythonds/SortSearch/TheInsertionSort.html, accessed 13th April 2019.\n",
    "#Reference:http://skerritt.tech/blog/timsort/, accessed 13th April 2019."
   ]
  },
  {
   "cell_type": "code",
   "execution_count": 16,
   "metadata": {},
   "outputs": [
    {
     "data": {
      "text/plain": [
       "[98, 77, 97, 58, 58, 64, 85, 3, 92, 81]"
      ]
     },
     "execution_count": 16,
     "metadata": {},
     "output_type": "execute_result"
    }
   ],
   "source": [
    "mylist = rand(10)\n",
    "mylist"
   ]
  },
  {
   "cell_type": "code",
   "execution_count": 17,
   "metadata": {},
   "outputs": [
    {
     "data": {
      "text/plain": [
       "[3, 58, 58, 64, 77, 81, 85, 92, 97, 98]"
      ]
     },
     "execution_count": 17,
     "metadata": {},
     "output_type": "execute_result"
    }
   ],
   "source": [
    "insertionSort(mylist)"
   ]
  },
  {
   "cell_type": "markdown",
   "metadata": {},
   "source": [
    "I have returned the sorted list from the function in order to check the algorithm runs correctly, but this also highlights another difference between these two algorithms. Unlike Insertion Sort, Binary Insertion Sort is not an inplace sorting algorithm. When I call the input mylist again, the unsorted input is returned. "
   ]
  },
  {
   "cell_type": "code",
   "execution_count": 18,
   "metadata": {},
   "outputs": [
    {
     "data": {
      "text/plain": [
       "[98, 77, 97, 58, 58, 64, 85, 3, 92, 81]"
      ]
     },
     "execution_count": 18,
     "metadata": {},
     "output_type": "execute_result"
    }
   ],
   "source": [
    "mylist"
   ]
  },
  {
   "cell_type": "code",
   "execution_count": 19,
   "metadata": {},
   "outputs": [
    {
     "name": "stdout",
     "output_type": "stream",
     "text": [
      "47.9 ns ± 4.89 ns per loop (mean ± std. dev. of 7 runs, 10000000 loops each)\n"
     ]
    }
   ],
   "source": [
    "%timeit(insertionSort)"
   ]
  },
  {
   "cell_type": "code",
   "execution_count": 20,
   "metadata": {},
   "outputs": [
    {
     "data": {
      "text/plain": [
       "0.0"
      ]
     },
     "execution_count": 20,
     "metadata": {},
     "output_type": "execute_result"
    }
   ],
   "source": [
    "start =time.time()\n",
    "insertionSort(rand(10)) #10 random variables\n",
    "end = time.time()\n",
    "np.round((end - start)* 1000, 3)"
   ]
  },
  {
   "cell_type": "code",
   "execution_count": 21,
   "metadata": {},
   "outputs": [
    {
     "data": {
      "text/plain": [
       "1459.369"
      ]
     },
     "execution_count": 21,
     "metadata": {},
     "output_type": "execute_result"
    }
   ],
   "source": [
    "start =time.time()\n",
    "insertionSort(rand(10000)) #10,000 random variables\n",
    "end = time.time()\n",
    "np.round((end - start)* 1000, 3)"
   ]
  },
  {
   "cell_type": "code",
   "execution_count": 117,
   "metadata": {},
   "outputs": [],
   "source": [
    "def insertionSort(the_array):\n",
    "        \n",
    "    l = len(the_array) #set l to the number of values in array\n",
    "    for index in range(1, l): #for every index\n",
    "        value = the_array[index] #value is equal to element in that position\n",
    "        pos = binary_search(the_array, value, 0, index - 1) #perform binary search to find the appropriate index for value\n",
    "        the_array = the_array[:pos] + [value] + the_array[pos:index] + the_array[index+1:]\n",
    "    return the_array\n",
    " \n",
    "def binary_search(alist, key, start, end):\n",
    "    '''If key is in the list at index p, then return p.\n",
    "    If there are multiple such keys in the list, then return the index of any one.\n",
    "    If key is not in the list and a < key < b where a and b are elements in the list, then return the index of a.\n",
    "    If key is not in the list and key < a where a is the first element in the list, then return -1.\n",
    "    Only elements with indexes start to end - 1 inclusive are considered.\n",
    "    '''\n",
    "    if end - start <= 1:\n",
    "        if key < alist[start]:\n",
    "            return start - 1\n",
    "        else:\n",
    "            return start\n",
    " \n",
    "    mid = (start + end)//2\n",
    "    if alist[mid] < key:\n",
    "        return binary_search(alist, key, mid, end)\n",
    "    elif alist[mid] > key:\n",
    "        return binary_search(alist, key, start, mid)\n",
    "    else:\n",
    "        return mid\n"
   ]
  },
  {
   "cell_type": "markdown",
   "metadata": {},
   "source": [
    "### Merge Sort"
   ]
  },
  {
   "cell_type": "markdown",
   "metadata": {},
   "source": [
    "Merge Sort is known as a divide and conquer algorithm. "
   ]
  },
  {
   "cell_type": "markdown",
   "metadata": {},
   "source": [
    "<img src=\"https://www.w3schools.in/wp-content/uploads/2016/09/Merge-Sort-Technique-1.png\" style=\"width: 400px;\" />"
   ]
  },
  {
   "cell_type": "markdown",
   "metadata": {},
   "source": [
    "Merge Sort involves splitting an input into smaller subsets, and ordering those small lists before merging. In fact, merge sort \n",
    "keeps splitting the subsets until we have n lists of size 1. The algorithm then merges the lists to form n/2 lists of size 2 or 3. It does this by comparing the elements at index 0 in both sets, and the smaller of the two will have index 0, in the merged list. \n",
    "\n",
    "On it's next merge, the algorithm is working with larger lists but it begins by comparing the elements at index 0. Again the smallest item from both lists will be in the first position. The algorithm then compares the index 0 element that remains, to the value at index 1 in the other set. The smaller of the two is again added to the merged list. The algorithm now compares the item with the smalles index in one set, to the item with the smallest index in the other set, again adding the smaller of the two to the merged set. \n",
    "\n",
    "The algorithm continues to\n"
   ]
  },
  {
   "cell_type": "markdown",
   "metadata": {},
   "source": [
    "Mergesort's time complextity is equal to $n(logn)$, making it the most efficient sorting algorithm we've encountered so far. Given an input with size 8, mergesort would split the list into two lists of size 4. Then 4 lists of size 2 and finally 8 lists of size 1. \n",
    "Given f(n), a function for execution time based on input size, $f(n) = 8(n /8)$ "
   ]
  },
  {
   "cell_type": "markdown",
   "metadata": {},
   "source": [
    "Mergesort is a recursive algorithm, that calls MergeSort within itself, as you can see in the code example below. "
   ]
  },
  {
   "cell_type": "code",
   "execution_count": 22,
   "metadata": {},
   "outputs": [],
   "source": [
    "def mergeSort(alist):\n",
    "\n",
    "    if len(alist)>1: #If there's more than one element\n",
    "        mid = len(alist)//2 #get the middle index\n",
    "        lefthalf = alist[:mid] #lower subarray is below mid\n",
    "        righthalf = alist[mid:] #upper subarray is above mid\n",
    "\n",
    "        mergeSort(lefthalf) \n",
    "        mergeSort(righthalf) #Pass both subarrays back into merge sort\n",
    "\n",
    "        i=0\n",
    "        j=0\n",
    "        k=0\n",
    "        while i < len(lefthalf) and j < len(righthalf): #until we've reached the end of ONE subarray\n",
    "            if lefthalf[i] < righthalf[j]: #if the ith number on left is less than the ith number on right\n",
    "                alist[k]=lefthalf[i] #the kth element of alist is the ith value in the lefthalf\n",
    "                i=i+1 #Next we'll compare the (i+1)th value on the left, to the ith value on the right \n",
    "            else:\n",
    "                alist[k]=righthalf[j] #otherwise the kth element of alist is the ith value in the righthalf\n",
    "                j=j+1#Next we'll compare the (i+1)th value on the right, to the ith value on the left \n",
    "            k=k+1 # +1 to k, as we're going to be looking at the next element next\n",
    "\n",
    "        while i < len(lefthalf): #if there's still one number in the lefthalf\n",
    "            alist[k]=lefthalf[i] #add it to alist\n",
    "            i=i+1\n",
    "            k=k+1\n",
    "\n",
    "        while j < len(righthalf): #if there's still one number in the righthalf \n",
    "            alist[k]=righthalf[j] #add it to alist\n",
    "            j=j+1\n",
    "            k=k+1\n",
    "        \n",
    "            \n",
    "#Reference: http://interactivepython.org/courselib/static/pythonds/SortSearch/TheMergeSort.html, accessed 13th April 2019."
   ]
  },
  {
   "cell_type": "code",
   "execution_count": 23,
   "metadata": {},
   "outputs": [
    {
     "data": {
      "text/plain": [
       "[9, 86, 50, 2, 31, 6, 63, 68, 86, 37]"
      ]
     },
     "execution_count": 23,
     "metadata": {},
     "output_type": "execute_result"
    }
   ],
   "source": [
    "mylist = rand(10)\n",
    "mylist"
   ]
  },
  {
   "cell_type": "code",
   "execution_count": 24,
   "metadata": {},
   "outputs": [],
   "source": [
    "mergeSort(mylist)"
   ]
  },
  {
   "cell_type": "code",
   "execution_count": 25,
   "metadata": {},
   "outputs": [
    {
     "data": {
      "text/plain": [
       "[2, 6, 9, 31, 37, 50, 63, 68, 86, 86]"
      ]
     },
     "execution_count": 25,
     "metadata": {},
     "output_type": "execute_result"
    }
   ],
   "source": [
    "mylist"
   ]
  },
  {
   "cell_type": "markdown",
   "metadata": {},
   "source": [
    "Merge Sort is an inplace sorting algorithm like Bubble Sort and Insertion Sort. "
   ]
  },
  {
   "cell_type": "code",
   "execution_count": 26,
   "metadata": {},
   "outputs": [
    {
     "name": "stdout",
     "output_type": "stream",
     "text": [
      "45.1 ns ± 2.64 ns per loop (mean ± std. dev. of 7 runs, 10000000 loops each)\n"
     ]
    }
   ],
   "source": [
    "%timeit(mergeSort)"
   ]
  },
  {
   "cell_type": "code",
   "execution_count": 27,
   "metadata": {},
   "outputs": [
    {
     "data": {
      "text/plain": [
       "0.0"
      ]
     },
     "execution_count": 27,
     "metadata": {},
     "output_type": "execute_result"
    }
   ],
   "source": [
    "start =time.time()\n",
    "mergeSort(rand(10)) #10 random variables\n",
    "end = time.time()\n",
    "np.round((end - start)* 1000, 3)"
   ]
  },
  {
   "cell_type": "code",
   "execution_count": 28,
   "metadata": {},
   "outputs": [
    {
     "data": {
      "text/plain": [
       "148.034"
      ]
     },
     "execution_count": 28,
     "metadata": {},
     "output_type": "execute_result"
    }
   ],
   "source": [
    "start =time.time()\n",
    "mergeSort(rand(10000)) #10,000 random variables\n",
    "end = time.time()\n",
    "\n",
    "np.round((end - start)* 1000, 3)"
   ]
  },
  {
   "cell_type": "code",
   "execution_count": 29,
   "metadata": {},
   "outputs": [
    {
     "data": {
      "text/plain": [
       "2603.653"
      ]
     },
     "execution_count": 29,
     "metadata": {},
     "output_type": "execute_result"
    }
   ],
   "source": [
    "start =time.time()\n",
    "mergeSort(rand(100000))\n",
    "end = time.time()\n",
    "\n",
    "np.round((end - start)* 1000, 3)"
   ]
  },
  {
   "cell_type": "markdown",
   "metadata": {},
   "source": [
    "### Bucket Sort"
   ]
  },
  {
   "cell_type": "markdown",
   "metadata": {},
   "source": [
    "Bucket sort is a divide and conquer sorting algorithm. It divides a list into a number of buckets. Each bucket is sorted individually. This can be done by applying a different sorting algorithm, or by recursively applying the bucket sorting algorithm."
   ]
  },
  {
   "cell_type": "markdown",
   "metadata": {},
   "source": [
    "Given a list of numbers, $29$, $25$, $3$, $49$, $9$, $37$, $21$, $43$"
   ]
  },
  {
   "cell_type": "markdown",
   "metadata": {},
   "source": [
    "<img src = \"https://upload.wikimedia.org/wikipedia/commons/e/e3/Bucket_sort_2.svg\" style=\"width: 400px;\" />"
   ]
  },
  {
   "cell_type": "markdown",
   "metadata": {},
   "source": [
    "Bucket sort is a stable sort which works by distributing the elements of an array into a series of buckets. Each bucket is then sorted individually, wither using a different sorting algorithm or by recursively applying the Buketsort algorithm. \n",
    "\n",
    "Time coplexity is n^2 in the worst case, and n+k in the besta and average, where k is the number of buckets. \n",
    "Worst case space complexity is O(nk)\n",
    "\n",
    "buckets sorts performance degrades with clustering if many values occur close tgether they wil fall in to a single buckets and be sorted slowly"
   ]
  },
  {
   "cell_type": "markdown",
   "metadata": {},
   "source": [
    "**WIKI says**\n",
    "\n",
    "\n",
    "\n",
    "A bucket sort works best when the elements of the data set are evenly distributed across all buckets."
   ]
  },
  {
   "cell_type": "code",
   "execution_count": 30,
   "metadata": {},
   "outputs": [],
   "source": [
    "def bucketSort(alist):\n",
    "    largest = max(alist) #Set max\n",
    "    length = len(alist) #Set input size = length\n",
    "    size = largest/length #Divide max by len to get range of buckets\n",
    " \n",
    "    buckets = [[] for _ in range(length)]\n",
    "    for i in range(length):\n",
    "        j = int(alist[i]/size)\n",
    "        if j != length:\n",
    "            buckets[j].append(alist[i])\n",
    "        else:\n",
    "            buckets[length - 1].append(alist[i])\n",
    " \n",
    "    for i in range(length):\n",
    "        insertionSort(buckets[i]) # apply insertion sort\n",
    " \n",
    "    result = []\n",
    "    for i in range(length):\n",
    "        result = result + buckets[i]\n",
    "    return result\n",
    "\n",
    "#Reference: https://www.sanfoundry.com/python-program-implement-bucket-sort/, accessed 13th April 2019."
   ]
  },
  {
   "cell_type": "code",
   "execution_count": 31,
   "metadata": {},
   "outputs": [
    {
     "data": {
      "text/plain": [
       "[18, 39, 21, 54, 38, 48, 45, 33, 0, 67]"
      ]
     },
     "execution_count": 31,
     "metadata": {},
     "output_type": "execute_result"
    }
   ],
   "source": [
    "mylist = rand(10)\n",
    "mylist"
   ]
  },
  {
   "cell_type": "code",
   "execution_count": 32,
   "metadata": {},
   "outputs": [
    {
     "data": {
      "text/plain": [
       "[0, 18, 21, 33, 39, 38, 45, 48, 54, 67]"
      ]
     },
     "execution_count": 32,
     "metadata": {},
     "output_type": "execute_result"
    }
   ],
   "source": [
    "bucketSort(mylist)"
   ]
  },
  {
   "cell_type": "markdown",
   "metadata": {},
   "source": [
    "Note that I returned the sorted array from my function as Bucket Sort is not an in-place sorting algorithm"
   ]
  },
  {
   "cell_type": "code",
   "execution_count": 33,
   "metadata": {},
   "outputs": [
    {
     "name": "stdout",
     "output_type": "stream",
     "text": [
      "53.1 ns ± 9.83 ns per loop (mean ± std. dev. of 7 runs, 10000000 loops each)\n"
     ]
    }
   ],
   "source": [
    "%timeit(bucketSort)"
   ]
  },
  {
   "cell_type": "code",
   "execution_count": 34,
   "metadata": {},
   "outputs": [
    {
     "data": {
      "text/plain": [
       "1.002"
      ]
     },
     "execution_count": 34,
     "metadata": {},
     "output_type": "execute_result"
    }
   ],
   "source": [
    "start =time.time()\n",
    "bucketSort(rand(10))\n",
    "end = time.time()\n",
    "np.round((end - start)* 1000, 3)"
   ]
  },
  {
   "cell_type": "markdown",
   "metadata": {},
   "source": [
    "## Comparing Sorting Algorithms "
   ]
  },
  {
   "cell_type": "markdown",
   "metadata": {},
   "source": [
    "For the purposes of benchmarking my sorting algorithms, I will pass ten sets of randomly generated data to each once. I will be comparing BubbleSort, InsertionSort, Binary InsertionSort, MergeSort and BucketSort. "
   ]
  },
  {
   "cell_type": "code",
   "execution_count": 201,
   "metadata": {},
   "outputs": [
    {
     "ename": "MemoryError",
     "evalue": "",
     "output_type": "error",
     "traceback": [
      "\u001b[1;31m---------------------------------------------------------------------------\u001b[0m",
      "\u001b[1;31mMemoryError\u001b[0m                               Traceback (most recent call last)",
      "\u001b[1;32m<ipython-input-201-436884dd906a>\u001b[0m in \u001b[0;36m<module>\u001b[1;34m()\u001b[0m\n\u001b[1;32m----> 1\u001b[1;33m \u001b[0mcompare_all\u001b[0m\u001b[1;33m(\u001b[0m\u001b[1;33m)\u001b[0m \u001b[1;31m#Run function and create csv file with results\u001b[0m\u001b[1;33m\u001b[0m\u001b[0m\n\u001b[0m",
      "\u001b[1;32m<ipython-input-200-cf28512523a7>\u001b[0m in \u001b[0;36mcompare_all\u001b[1;34m()\u001b[0m\n\u001b[0;32m     10\u001b[0m                 \u001b[0msize\u001b[0m \u001b[1;33m=\u001b[0m \u001b[0mrand\u001b[0m\u001b[1;33m(\u001b[0m\u001b[0mi\u001b[0m\u001b[1;33m)\u001b[0m \u001b[1;31m#generate a random array of i values\u001b[0m\u001b[1;33m\u001b[0m\u001b[0m\n\u001b[0;32m     11\u001b[0m                 \u001b[0mstart\u001b[0m \u001b[1;33m=\u001b[0m \u001b[0mtime\u001b[0m\u001b[1;33m.\u001b[0m\u001b[0mtime\u001b[0m\u001b[1;33m(\u001b[0m\u001b[1;33m)\u001b[0m\u001b[1;33m\u001b[0m\u001b[0m\n\u001b[1;32m---> 12\u001b[1;33m                 \u001b[0mfunc\u001b[0m\u001b[1;33m(\u001b[0m\u001b[0msize\u001b[0m\u001b[1;33m)\u001b[0m \u001b[1;31m#pass the array to the function\u001b[0m\u001b[1;33m\u001b[0m\u001b[0m\n\u001b[0m\u001b[0;32m     13\u001b[0m                 \u001b[0mend\u001b[0m \u001b[1;33m=\u001b[0m \u001b[0mtime\u001b[0m\u001b[1;33m.\u001b[0m\u001b[0mtime\u001b[0m\u001b[1;33m(\u001b[0m\u001b[1;33m)\u001b[0m\u001b[1;33m\u001b[0m\u001b[0m\n\u001b[0;32m     14\u001b[0m                 \u001b[0mclock\u001b[0m \u001b[1;33m=\u001b[0m \u001b[0mround\u001b[0m\u001b[1;33m(\u001b[0m\u001b[1;33m(\u001b[0m\u001b[1;33m(\u001b[0m\u001b[0mend\u001b[0m \u001b[1;33m-\u001b[0m \u001b[0mstart\u001b[0m\u001b[1;33m)\u001b[0m\u001b[1;33m*\u001b[0m\u001b[1;36m1000\u001b[0m\u001b[1;33m)\u001b[0m\u001b[1;33m,\u001b[0m \u001b[1;36m3\u001b[0m\u001b[1;33m)\u001b[0m \u001b[1;31m#running time in milliseconds\u001b[0m\u001b[1;33m\u001b[0m\u001b[0m\n",
      "\u001b[1;32m<ipython-input-117-984612937c34>\u001b[0m in \u001b[0;36minsertionSort\u001b[1;34m(the_array)\u001b[0m\n\u001b[0;32m      5\u001b[0m         \u001b[0mvalue\u001b[0m \u001b[1;33m=\u001b[0m \u001b[0mthe_array\u001b[0m\u001b[1;33m[\u001b[0m\u001b[0mindex\u001b[0m\u001b[1;33m]\u001b[0m \u001b[1;31m#value is equal to element in that position\u001b[0m\u001b[1;33m\u001b[0m\u001b[0m\n\u001b[0;32m      6\u001b[0m         \u001b[0mpos\u001b[0m \u001b[1;33m=\u001b[0m \u001b[0mbinary_search\u001b[0m\u001b[1;33m(\u001b[0m\u001b[0mthe_array\u001b[0m\u001b[1;33m,\u001b[0m \u001b[0mvalue\u001b[0m\u001b[1;33m,\u001b[0m \u001b[1;36m0\u001b[0m\u001b[1;33m,\u001b[0m \u001b[0mindex\u001b[0m \u001b[1;33m-\u001b[0m \u001b[1;36m1\u001b[0m\u001b[1;33m)\u001b[0m \u001b[1;31m#perform binary search to find the appropriate index for value\u001b[0m\u001b[1;33m\u001b[0m\u001b[0m\n\u001b[1;32m----> 7\u001b[1;33m         \u001b[0mthe_array\u001b[0m \u001b[1;33m=\u001b[0m \u001b[0mthe_array\u001b[0m\u001b[1;33m[\u001b[0m\u001b[1;33m:\u001b[0m\u001b[0mpos\u001b[0m\u001b[1;33m]\u001b[0m \u001b[1;33m+\u001b[0m \u001b[1;33m[\u001b[0m\u001b[0mvalue\u001b[0m\u001b[1;33m]\u001b[0m \u001b[1;33m+\u001b[0m \u001b[0mthe_array\u001b[0m\u001b[1;33m[\u001b[0m\u001b[0mpos\u001b[0m\u001b[1;33m:\u001b[0m\u001b[0mindex\u001b[0m\u001b[1;33m]\u001b[0m \u001b[1;33m+\u001b[0m \u001b[0mthe_array\u001b[0m\u001b[1;33m[\u001b[0m\u001b[0mindex\u001b[0m\u001b[1;33m+\u001b[0m\u001b[1;36m1\u001b[0m\u001b[1;33m:\u001b[0m\u001b[1;33m]\u001b[0m\u001b[1;33m\u001b[0m\u001b[0m\n\u001b[0m\u001b[0;32m      8\u001b[0m     \u001b[1;32mreturn\u001b[0m \u001b[0mthe_array\u001b[0m\u001b[1;33m\u001b[0m\u001b[0m\n\u001b[0;32m      9\u001b[0m \u001b[1;33m\u001b[0m\u001b[0m\n",
      "\u001b[1;31mMemoryError\u001b[0m: "
     ]
    }
   ],
   "source": [
    "compare_all() #Run function and create csv file with results"
   ]
  },
  {
   "cell_type": "code",
   "execution_count": 35,
   "metadata": {},
   "outputs": [
    {
     "data": {
      "text/html": [
       "<div>\n",
       "<style scoped>\n",
       "    .dataframe tbody tr th:only-of-type {\n",
       "        vertical-align: middle;\n",
       "    }\n",
       "\n",
       "    .dataframe tbody tr th {\n",
       "        vertical-align: top;\n",
       "    }\n",
       "\n",
       "    .dataframe thead th {\n",
       "        text-align: right;\n",
       "    }\n",
       "</style>\n",
       "<table border=\"1\" class=\"dataframe\">\n",
       "  <thead>\n",
       "    <tr style=\"text-align: right;\">\n",
       "      <th></th>\n",
       "      <th>Input Size</th>\n",
       "      <th>BubbleSort</th>\n",
       "      <th>InsertionSort</th>\n",
       "      <th>Binary InsertionSort</th>\n",
       "      <th>MergeSort</th>\n",
       "      <th>BucketSort</th>\n",
       "      <th>Sorted</th>\n",
       "    </tr>\n",
       "  </thead>\n",
       "  <tbody>\n",
       "    <tr>\n",
       "      <th>0</th>\n",
       "      <td>10</td>\n",
       "      <td>0.000</td>\n",
       "      <td>0.000</td>\n",
       "      <td>0.000</td>\n",
       "      <td>0.000</td>\n",
       "      <td>0.000</td>\n",
       "      <td>0.000</td>\n",
       "    </tr>\n",
       "    <tr>\n",
       "      <th>1</th>\n",
       "      <td>50</td>\n",
       "      <td>1.001</td>\n",
       "      <td>1.001</td>\n",
       "      <td>1.002</td>\n",
       "      <td>1.002</td>\n",
       "      <td>0.000</td>\n",
       "      <td>0.000</td>\n",
       "    </tr>\n",
       "    <tr>\n",
       "      <th>2</th>\n",
       "      <td>100</td>\n",
       "      <td>0.999</td>\n",
       "      <td>1.000</td>\n",
       "      <td>1.000</td>\n",
       "      <td>1.000</td>\n",
       "      <td>0.000</td>\n",
       "      <td>0.999</td>\n",
       "    </tr>\n",
       "    <tr>\n",
       "      <th>3</th>\n",
       "      <td>250</td>\n",
       "      <td>13.007</td>\n",
       "      <td>31.009</td>\n",
       "      <td>4.001</td>\n",
       "      <td>1.000</td>\n",
       "      <td>0.999</td>\n",
       "      <td>0.000</td>\n",
       "    </tr>\n",
       "    <tr>\n",
       "      <th>4</th>\n",
       "      <td>500</td>\n",
       "      <td>84.020</td>\n",
       "      <td>26.008</td>\n",
       "      <td>10.003</td>\n",
       "      <td>3.999</td>\n",
       "      <td>3.003</td>\n",
       "      <td>0.000</td>\n",
       "    </tr>\n",
       "    <tr>\n",
       "      <th>5</th>\n",
       "      <td>750</td>\n",
       "      <td>207.054</td>\n",
       "      <td>114.025</td>\n",
       "      <td>126.033</td>\n",
       "      <td>6.002</td>\n",
       "      <td>7.002</td>\n",
       "      <td>0.000</td>\n",
       "    </tr>\n",
       "    <tr>\n",
       "      <th>6</th>\n",
       "      <td>1000</td>\n",
       "      <td>317.083</td>\n",
       "      <td>217.053</td>\n",
       "      <td>64.014</td>\n",
       "      <td>9.002</td>\n",
       "      <td>11.003</td>\n",
       "      <td>1.000</td>\n",
       "    </tr>\n",
       "    <tr>\n",
       "      <th>7</th>\n",
       "      <td>5000</td>\n",
       "      <td>7679.935</td>\n",
       "      <td>6218.567</td>\n",
       "      <td>1250.319</td>\n",
       "      <td>129.033</td>\n",
       "      <td>639.164</td>\n",
       "      <td>1.997</td>\n",
       "    </tr>\n",
       "    <tr>\n",
       "      <th>8</th>\n",
       "      <td>7500</td>\n",
       "      <td>17319.371</td>\n",
       "      <td>12814.232</td>\n",
       "      <td>2817.712</td>\n",
       "      <td>190.048</td>\n",
       "      <td>353.092</td>\n",
       "      <td>2.999</td>\n",
       "    </tr>\n",
       "    <tr>\n",
       "      <th>9</th>\n",
       "      <td>10000</td>\n",
       "      <td>31661.993</td>\n",
       "      <td>28189.116</td>\n",
       "      <td>4825.219</td>\n",
       "      <td>356.089</td>\n",
       "      <td>891.230</td>\n",
       "      <td>4.000</td>\n",
       "    </tr>\n",
       "  </tbody>\n",
       "</table>\n",
       "</div>"
      ],
      "text/plain": [
       "   Input Size  BubbleSort  InsertionSort  Binary InsertionSort  MergeSort  \\\n",
       "0          10       0.000          0.000                 0.000      0.000   \n",
       "1          50       1.001          1.001                 1.002      1.002   \n",
       "2         100       0.999          1.000                 1.000      1.000   \n",
       "3         250      13.007         31.009                 4.001      1.000   \n",
       "4         500      84.020         26.008                10.003      3.999   \n",
       "5         750     207.054        114.025               126.033      6.002   \n",
       "6        1000     317.083        217.053                64.014      9.002   \n",
       "7        5000    7679.935       6218.567              1250.319    129.033   \n",
       "8        7500   17319.371      12814.232              2817.712    190.048   \n",
       "9       10000   31661.993      28189.116              4825.219    356.089   \n",
       "\n",
       "   BucketSort  Sorted  \n",
       "0       0.000   0.000  \n",
       "1       0.000   0.000  \n",
       "2       0.000   0.999  \n",
       "3       0.999   0.000  \n",
       "4       3.003   0.000  \n",
       "5       7.002   0.000  \n",
       "6      11.003   1.000  \n",
       "7     639.164   1.997  \n",
       "8     353.092   2.999  \n",
       "9     891.230   4.000  "
      ]
     },
     "execution_count": 35,
     "metadata": {},
     "output_type": "execute_result"
    }
   ],
   "source": [
    "df = pd.read_csv('data/run_once.csv')\n",
    "df"
   ]
  },
  {
   "cell_type": "code",
   "execution_count": 36,
   "metadata": {},
   "outputs": [],
   "source": [
    "ax = df.plot(x='Input Size', y=['BubbleSort', 'InsertionSort', 'Binary InsertionSort', 'MergeSort', 'BucketSort'])\n",
    "ax.set_ylabel(\"Time Elapsed (milliseconds)\");"
   ]
  },
  {
   "cell_type": "markdown",
   "metadata": {},
   "source": [
    "As expected BubbleSort and Insertion Sort, seem to most closely resemble quadratic functions. I am surprised that Insertion Sort is only marginally more efficient than BubbleSort.\n",
    "\n",
    "Binary Insertion Sort, performed marginally better than both of these algorithms. While MergeSort performed as expected, I was suprised BucketSort didn't more closely resemble a quadratic. \n",
    "\n",
    "Let's look at just the four best performing algorithms."
   ]
  },
  {
   "cell_type": "code",
   "execution_count": 37,
   "metadata": {},
   "outputs": [
    {
     "data": {
      "image/png": "[encoded data removed]",
      "text/plain": [
       "<Figure size 432x288 with 1 Axes>"
      ]
     },
     "metadata": {},
     "output_type": "display_data"
    }
   ],
   "source": [
    "ax = df.plot(x='Input Size', y=['Binary InsertionSort', 'MergeSort', 'BucketSort'])\n",
    "ax.set_ylabel(\"Time Elapsed (milliseconds)\");"
   ]
  },
  {
   "cell_type": "markdown",
   "metadata": {},
   "source": [
    "In this plot, it is clearer that Binary Insertion Sort, while more effective than Bubble Sort and Insertion Sort, could still model a quadratic function. Merge Sort which I expected to have logarithmic complexity performed as expected. However Bucket Sort doesn't appear quadratic. \n",
    "\n",
    "If I plot MergeSort, Bucket Sort and Sorted only."
   ]
  },
  {
   "cell_type": "code",
   "execution_count": 38,
   "metadata": {},
   "outputs": [
    {
     "data": {
      "image/png": "[encoded data removed]",
      "text/plain": [
       "<Figure size 432x288 with 1 Axes>"
      ]
     },
     "metadata": {},
     "output_type": "display_data"
    }
   ],
   "source": [
    "ax = df.plot(x='Input Size', y=['MergeSort','Sorted'])\n",
    "ax.set_ylabel(\"Time Elapsed (milliseconds)\");"
   ]
  },
  {
   "cell_type": "code",
   "execution_count": 39,
   "metadata": {},
   "outputs": [
    {
     "data": {
      "image/png": "[encoded data removed]",
      "text/plain": [
       "<Figure size 432x288 with 1 Axes>"
      ]
     },
     "metadata": {},
     "output_type": "display_data"
    }
   ],
   "source": [
    "ax = df.plot(x='Input Size', y=['MergeSort', 'BucketSort', 'Sorted'])\n",
    "ax.set_ylabel(\"Time Elapsed (milliseconds)\");"
   ]
  },
  {
   "cell_type": "markdown",
   "metadata": {},
   "source": [
    "Bucket Sort may not model a quadratic function in this instance, but this result is based on only one run. By looking at how Bucket Sort performs over ten runs and getting the average execution time per run, I should get a better estimation of this algorithms performance. \n",
    "\n",
    "From this plot, it looks like Bucket Sort is almost as efficient as MergeSort when the input size is around 7500. No other algorithm shows a dip at this input size, and it is probably not significant. "
   ]
  },
  {
   "cell_type": "markdown",
   "metadata": {},
   "source": [
    "## Benchmarking Sorting Algorithms"
   ]
  },
  {
   "cell_type": "markdown",
   "metadata": {},
   "source": [
    "For the purposes of benchmarking my sorting algorithms, I will pass ten sets of randomly generated data to each function ten times. I will be use the same six algorithms from the previous comparison: BubbleSort, InsertionSort, Binary InsertionSort, MergeSort, BucketSort and Python's in-built Sorted function. "
   ]
  },
  {
   "cell_type": "code",
   "execution_count": null,
   "metadata": {},
   "outputs": [],
   "source": [
    "bench_ten_runs() #Run function and create csv file with results"
   ]
  },
  {
   "cell_type": "code",
   "execution_count": null,
   "metadata": {},
   "outputs": [],
   "source": [
    "df2 = pd.read_csv('data/avg_ten_runs.csv')\n",
    "df2"
   ]
  },
  {
   "cell_type": "code",
   "execution_count": null,
   "metadata": {},
   "outputs": [],
   "source": [
    "desc = (df2.describe()).transpose()\n",
    "desc.iloc[1:]"
   ]
  },
  {
   "cell_type": "markdown",
   "metadata": {},
   "source": [
    "From the summary statistics, it's easier to verify which algorithms perform best on different types of data. "
   ]
  },
  {
   "cell_type": "code",
   "execution_count": null,
   "metadata": {},
   "outputs": [],
   "source": [
    "ax = df2.plot(x='Input Size', y=['BubbleSort', 'InsertionSort', 'Binary InsertionSort', 'MergeSort', 'BucketSort', 'Sorted'])\n",
    "ax.set_ylabel(\"Time Elapsed (milliseconds)\");"
   ]
  },
  {
   "cell_type": "markdown",
   "metadata": {},
   "source": [
    "From this plot, it is obvious that BubbleSort is the least efficient sorting algorithm.\n",
    "\n",
    "Removing BubbleSort, I can get a better look at my other sorting algorithms."
   ]
  },
  {
   "cell_type": "code",
   "execution_count": null,
   "metadata": {},
   "outputs": [],
   "source": [
    "ax = df2.plot(x='Input Size', y=['InsertionSort', 'Binary InsertionSort', 'MergeSort', 'BucketSort', 'Sorted'])\n",
    "ax.set_ylabel(\"Time Elapsed (milliseconds)\");"
   ]
  },
  {
   "cell_type": "code",
   "execution_count": null,
   "metadata": {},
   "outputs": [],
   "source": [
    "ax= df2.plot(x = 'Input Size', y = 'MergeSort')"
   ]
  },
  {
   "cell_type": "markdown",
   "metadata": {},
   "source": [
    "I was suprised to find that Binary Insertion Sort appears to be less efficient that traditional Insertion Sort for all input sizes."
   ]
  },
  {
   "cell_type": "code",
   "execution_count": null,
   "metadata": {},
   "outputs": [],
   "source": [
    "import matplotlib.pyplot as plt\n",
    "ax = df2.plot(x='Input Size', y=['BubbleSort'])\n",
    "num = range(10000)\n",
    "y = [(n*2) for n in num]\n",
    "plt.plot(num, y, axes=ax)\n",
    "\n",
    "plt.show;"
   ]
  },
  {
   "cell_type": "markdown",
   "metadata": {},
   "source": [
    "## Summary"
   ]
  },
  {
   "cell_type": "markdown",
   "metadata": {},
   "source": [
    "* Benchmarking algorithms using the average of multiple runs, gives a better representation of how execution time increases with input size. I saw this particularly with the BucketSort algorithm.\n",
    "* Python's inbuilt sorting function, sorted(), is the best performaing sorting algorithm for all input sizes. "
   ]
  },
  {
   "cell_type": "markdown",
   "metadata": {},
   "source": [
    "## References\n"
   ]
  },
  {
   "cell_type": "markdown",
   "metadata": {},
   "source": [
    "#### Documentation\n",
    "* [The Python Standard Library](https://docs.python.org/3/library/)\n",
    "> * [Time](https://docs.python.org/3/library/time.html) function, accessed 13th April 2019. \n",
    "> * [Reading and Writing CSV files](https://docs.python.org/3/library/csv.html), accessed 13th April 2019.\n",
    "* [Pandas Documentation]()\n",
    "> * [pandas.DataFrame](https://pandas.pydata.org/pandas-docs/stable/reference/api/pandas.DataFrame.html) function, accessed 13th April 2019."
   ]
  },
  {
   "cell_type": "markdown",
   "metadata": {},
   "source": [
    "#### Wikipedia Pages \n",
    "* [In-Place Algorithm](https://en.wikipedia.org/wiki/In-place_algorithm), accessed 25 April 2019.\n",
    "* [TimSort](https://en.wikipedia.org/wiki/Timsort), accessed 23 April 2019."
   ]
  },
  {
   "cell_type": "markdown",
   "metadata": {},
   "source": [
    "#### Other \n",
    "* [Binary Insertion Sort](https://www.geeksforgeeks.org/binary-insertion-sort/), page on geeksforgeeks.org, accessed 25 April 2019.\n",
    "* [Timsort: The Fastest sorting algorithm for real-world problems](https://dev.to/s_awdesh/timsort-fastest-sorting-algorithm-for-real-world-problems--2jhd), blog post by Awdesh, accessed 5 May 2019.\n",
    "* [Python: MergeSort algorithm explained](https://www.youtube.com/watch?v=Nso25TkBsYI), a Youtube tutorial by Joe James, accessed 5 May 2019.\n",
    "* [In-Place Algorithm](https://www.geeksforgeeks.org/in-place-algorithm/) page on geeksforgeeks.org, accessed 9 May 2019.\n",
    "* [Is there a way to mathematically prove stability in sorting Algorithms?](https://www.quora.com/Is-there-a-way-to-mathematically-prove-stability-in-sorting-algorithms), posted on quora.com, accessed 09 May 2019.\n",
    "* [TimSort](https://www.geeksforgeeks.org/timsort/) page on geeksforgeeks.org, accessed 10 May 2019.\n",
    "* [Log to the base 2 in Python](https://stackoverflow.com/questions/3719631/log-to-the-base-2-in-python) on stackoverflow, accesssed 10 May, 2019."
   ]
  },
  {
   "cell_type": "code",
   "execution_count": null,
   "metadata": {},
   "outputs": [],
   "source": []
  }
 ],
 "metadata": {
  "kernelspec": {
   "display_name": "Python 3",
   "language": "python",
   "name": "python3"
  },
  "language_info": {
   "codemirror_mode": {
    "name": "ipython",
    "version": 3
   },
   "file_extension": ".py",
   "mimetype": "text/x-python",
   "name": "python",
   "nbconvert_exporter": "python",
   "pygments_lexer": "ipython3",
   "version": "3.6.5"
  }
 },
 "nbformat": 4,
 "nbformat_minor": 2
}
