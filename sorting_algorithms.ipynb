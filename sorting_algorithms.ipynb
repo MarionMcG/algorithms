{
 "cells": [
  {
   "cell_type": "markdown",
   "metadata": {},
   "source": [
    "# An Investigation of Sorting Algorithms"
   ]
  },
  {
   "cell_type": "markdown",
   "metadata": {},
   "source": [
    "## Libraries"
   ]
  },
  {
   "cell_type": "code",
   "execution_count": 1,
   "metadata": {},
   "outputs": [],
   "source": [
    "import numpy as np # For randomly generating numbers\n",
    "import pandas as pd #For reading csv files, generating dataframes and plots for same\n",
    "import time"
   ]
  },
  {
   "cell_type": "markdown",
   "metadata": {},
   "source": [
    "## Introduction"
   ]
  },
  {
   "cell_type": "markdown",
   "metadata": {},
   "source": [
    "<b>A sorting algorithm arranges a list of items in some predetermined order.</b> In terms of strings this may involve sorting elements in alphabethical order. For the purposes of this investigation, I'm going to look at ordering discrete numerical elements, in ascending order, for smallest to biggest. Sorting is essentially a permutation of list elements, and does not alter any of the elements in the list. \n",
    "\n",
    "Much of early computing advancements focused on finding effective sorting methods. This is because sorting elements allow for a number of tasks to be completed quicker than in a list of unsorted items. It's essential in data analysis, when determining the maximum, minimum, median and inter-quartile range. Also, sorting is often pre-processing step in search algorithms, allowing for more effective identification of specific or duplicate entries.\n",
    "\n",
    "**Terminology**\n",
    "\n",
    "* With respect to duplicate entries, a **stable sorting algorithm** will preserve the order of duplicate entries while an **unstable sorting algorithm** will not. \n",
    "\n",
    "\n",
    "* An **in-place sorting algorithm** uses a fixed additional amount of working space, and is independent of it's input size. Another definition of an in-place algorithm states that the input is usually overwritten by the output as the algorithm executes. In-place algorithm updates input sequence only through replacement or swapping of elements. \n"
   ]
  },
  {
   "cell_type": "markdown",
   "metadata": {},
   "source": [
    "In the course of this investigation, I will discuss and benchmark the following sorting algorithms:\n",
    "* Bubble Sort\n",
    "* Insertion Sort\n",
    "* Merge Sort\n",
    "* Bucket Sort\n",
    "* Tim Sort\n",
    "\n",
    "I have chosen these sorting algorithms as they include examples of simple and effective comparison based sorting algorithms, non-comparison based sorting algorithms and hybrid sorting algorithms. I will discuss these types of sortings algorithms with reference to the specific examples I have chosen, and plot their running time against the input size of lists to be sorted. To more effectively compare these algorithms, I will also run each algorithm ten times for each input, and determine the average running time."
   ]
  },
  {
   "cell_type": "markdown",
   "metadata": {},
   "source": [
    "## Functions\n",
    "### Generating Random Data"
   ]
  },
  {
   "cell_type": "code",
   "execution_count": 2,
   "metadata": {},
   "outputs": [],
   "source": [
    "def rand(n):\n",
    "    array = []\n",
    "    for i in range(0, n, 1): # for every integer between 1 and n\n",
    "        gen_rand= np.random.randint(0, 100) # generate a random number\n",
    "        array.append(gen_rand) # and add it to the array\n",
    "    return array"
   ]
  },
  {
   "cell_type": "markdown",
   "metadata": {},
   "source": [
    "### Benchmarking Functions"
   ]
  },
  {
   "cell_type": "code",
   "execution_count": 3,
   "metadata": {},
   "outputs": [],
   "source": [
    "#Inputs each random array to each function ONLY ONCE\n",
    "#Returns running time in milliseconds\n",
    "def compare_all():\n",
    "    array_1 = []    \n",
    "    rand_size = [10, 50, 100, 250, 500, 750, 1000, 5000, 7500, 10000]\n",
    "    functions = [bubbleSort, insertionSort, mergeSort, bucketSort, timSort]\n",
    "    \n",
    "    for func in functions: #For every function\n",
    "        for i in rand_size: #For every input size i\n",
    "                size = rand(i) #generate a random array of i values\n",
    "                start = time.time()\n",
    "                func(size) #pass the array to the function\n",
    "                end = time.time()\n",
    "                clock = round(((end - start)*1000), 3) #calculate running time in milliseconds\n",
    "                array_1.append(clock) #Add running time value to array_1\n",
    "\n",
    "    df = pd.DataFrame({'Input Size': rand_size, 'BubbleSort': array_1[slice(0, 10, 1)], \n",
    "                       'InsertionSort': array_1[slice(10, 20, 1)], 'MergeSort': array_1[slice(20, 30, 1)], \n",
    "                             'BucketSort':array_1[slice(30, 40, 1)], 'TimSort':array_1[slice(40, 50, 1)]})\n",
    "    \n",
    "    df.to_csv(\"data/run_once.csv\", index=False)"
   ]
  },
  {
   "cell_type": "code",
   "execution_count": 4,
   "metadata": {},
   "outputs": [],
   "source": [
    "#Input an array with 100 values\n",
    "#Returns the mean of every 10 values, as an array\n",
    "def mean_array(the_array):\n",
    "    average_time = []\n",
    "    y1 = np.mean(the_array[slice(0, 10, 1)])\n",
    "    y2 = np.mean(the_array[slice(10, 20, 1)])\n",
    "    y3 = np.mean(the_array[slice(20, 30, 1)])\n",
    "    y4 = np.mean(the_array[slice(30, 40, 1)])\n",
    "    y5 = np.mean(the_array[slice(40, 50, 1)])\n",
    "    y6 = np.mean(the_array[slice(50, 60, 1)])\n",
    "    y7 = np.mean(the_array[slice(60, 70, 1)])\n",
    "    y8 = np.mean(the_array[slice(70, 80, 1)])\n",
    "    y9 = np.mean(the_array[slice(80, 90, 1)])\n",
    "    y10 =np.mean(the_array[slice(90, 100, 1)])\n",
    "    \n",
    "    results = [y1, y2, y3, y4, y5, y6, y7, y8, y9, y10]\n",
    "    return results"
   ]
  },
  {
   "cell_type": "code",
   "execution_count": 5,
   "metadata": {},
   "outputs": [],
   "source": [
    "#Inputs each random array to each function ten times\n",
    "#Returns average running time in milliseconds\n",
    "def bench_ten_runs():\n",
    "    results=[]\n",
    "    average_time = []\n",
    "    final_array= []\n",
    "    num_runs = 10\n",
    "    rand_size = [10, 50, 100, 250, 500, 750, 1000, 5000, 7500, 10000]\n",
    "    functions = [bubbleSort, insertionSort, mergeSort, bucketSort, timSort]\n",
    "    \n",
    "  \n",
    "    for func in functions: #For each function\n",
    "        for i in rand_size: #input a value\n",
    "            size = rand(i) \n",
    "            for r in range(num_runs):#ten times\n",
    "                start = time.time()\n",
    "                func(size) \n",
    "                end = time.time()\n",
    "                clock = (end - start)*1000\n",
    "                results.append(clock)  # Add time elapsed to array results\n",
    "        average_time = mean_array(results) # Find average time, for each i in rand_size, using mean_array()\n",
    "        average_time = np.round(average_time, 3) # Round result to 3 dps\n",
    "        final_array.append(average_time) # Append to final_array\n",
    "        average_time = [] #set both average_time\n",
    "        results=[]  #and results to [], before passing through the next function\n",
    "        \n",
    "    df4 = pd.DataFrame({'Input Size': rand_size, 'BubbleSort': final_array[0], \n",
    "                       'InsertionSort': final_array[1], 'MergeSort': final_array[2], \n",
    "                             'BucketSort':final_array[3], 'TimSort':final_array[4]})\n",
    "    \n",
    "    df4.to_csv(\"data/avg_ten_runs.csv\", index=False)"
   ]
  },
  {
   "cell_type": "markdown",
   "metadata": {},
   "source": [
    "## Discussion of Sorting Algorithms"
   ]
  },
  {
   "cell_type": "markdown",
   "metadata": {},
   "source": [
    "### Bubble Sort"
   ]
  },
  {
   "cell_type": "markdown",
   "metadata": {},
   "source": [
    "Bubble Sort compares every number to it's adjacent number(s), and returns the larger number of the two, in the position with the larger index. It continues this process multiple times, looping through the array, until the set is fully sorted. "
   ]
  },
  {
   "cell_type": "markdown",
   "metadata": {},
   "source": [
    "Comparison based\n",
    "\n",
    "In place sorting\n",
    "\n",
    "can be practical in cases where data is almost fully sorted\n",
    "\n",
    "Time complexity is n in the best case, n^2 in the average and worst cases."
   ]
  },
  {
   "cell_type": "markdown",
   "metadata": {},
   "source": [
    "<img src=\"https://www.w3resource.com/w3r_images/bubble-short.png\" style=\"width: 600px;\"  align= \"left\"/>"
   ]
  },
  {
   "cell_type": "code",
   "execution_count": 6,
   "metadata": {},
   "outputs": [],
   "source": [
    "def bubbleSort(alist):\n",
    "    for passnum in range(len(alist)-1,0,-1): \n",
    "        for i in range(passnum): #Goes through a list from last value to first\n",
    "            if alist[i]>alist[i+1]: # Compares every value to value on its left\n",
    "                temp = alist[i]  \n",
    "                alist[i] = alist[i+1] \n",
    "                alist[i+1] = temp #If statement swap two values, so the larger value has the larger index\n",
    "            \n",
    "# Reference: interactivepython.org/runestone/static/pythonds/SortSearch/TheBubbleSort.html, accessed 13th April 2019."
   ]
  },
  {
   "cell_type": "code",
   "execution_count": 7,
   "metadata": {},
   "outputs": [
    {
     "name": "stdout",
     "output_type": "stream",
     "text": [
      "39.6 ns ± 1.48 ns per loop (mean ± std. dev. of 7 runs, 10000000 loops each)\n"
     ]
    }
   ],
   "source": [
    "%timeit(bubbleSort)"
   ]
  },
  {
   "cell_type": "code",
   "execution_count": 8,
   "metadata": {},
   "outputs": [
    {
     "data": {
      "text/plain": [
       "0.0"
      ]
     },
     "execution_count": 8,
     "metadata": {},
     "output_type": "execute_result"
    }
   ],
   "source": [
    "start =time.time()\n",
    "bubbleSort(rand(10)) #10 random variables\n",
    "end = time.time()\n",
    "np.round((end - start)* 1000, 3)"
   ]
  },
  {
   "cell_type": "code",
   "execution_count": 9,
   "metadata": {},
   "outputs": [
    {
     "data": {
      "text/plain": [
       "19851.017"
      ]
     },
     "execution_count": 9,
     "metadata": {},
     "output_type": "execute_result"
    }
   ],
   "source": [
    "start =time.time()\n",
    "bubbleSort(rand(10000)) #10,000\n",
    "end = time.time()\n",
    "np.round((end - start)* 1000, 3)"
   ]
  },
  {
   "cell_type": "markdown",
   "metadata": {},
   "source": [
    "### Insertion Sort vs. Binary Insertion Sort"
   ]
  },
  {
   "cell_type": "markdown",
   "metadata": {},
   "source": [
    "stable, in place and works well on small sets and on sets that are almost fully sorted \n",
    "\n",
    "very inefficient for large random sets \n",
    "\n",
    "iterative\n",
    "\n",
    "In normal insertion sort, it takes O(n) comparisons(at nth iteration) in worst case. We can reduce it to O(log n) by using binary search.\n",
    "\n"
   ]
  },
  {
   "cell_type": "code",
   "execution_count": 10,
   "metadata": {},
   "outputs": [],
   "source": [
    "def binary_search(the_array, item, start, end):\n",
    "    if start == end:\n",
    "        if the_array[start] > item:\n",
    "            return start\n",
    "        else:\n",
    "            return start + 1\n",
    "    if start > end:\n",
    "        return start\n",
    "\n",
    "    mid = round((start + end)/ 2) #Returns the mean of the range of indices \n",
    "    \n",
    "    # determine which side to search\n",
    "    if the_array[mid] < item:\n",
    "        return binary_search(the_array, item, mid + 1, end) # search array of indices above mid\n",
    "\n",
    "    elif the_array[mid] > item:\n",
    "        return binary_search(the_array, item, start, mid - 1) # search array of indices above mid\n",
    "\n",
    "    else:\n",
    "        return mid # Otherwise mid = item, so return mid"
   ]
  },
  {
   "cell_type": "code",
   "execution_count": 11,
   "metadata": {},
   "outputs": [],
   "source": [
    "def insertionSort(the_array):\n",
    "        \n",
    "    l = len(the_array) #set l to the number of values in array\n",
    "    for index in range(1, l): #for the every index\n",
    "        value = the_array[index] #set value\n",
    "        pos = binary_search(the_array, value, 0, index - 1) \n",
    "        the_array = the_array[:pos] + [value] + the_array[pos:index] + the_array[index+1:]\n",
    "    \n",
    "\n",
    "#Reference:http://interactivepython.org/courselib/static/pythonds/SortSearch/TheInsertionSort.html, accessed 13th April 2019.\n",
    "#Reference:http://skerritt.tech/blog/timsort/, accessed 13th April 2019."
   ]
  },
  {
   "cell_type": "code",
   "execution_count": 12,
   "metadata": {},
   "outputs": [
    {
     "name": "stdout",
     "output_type": "stream",
     "text": [
      "46.3 ns ± 2.82 ns per loop (mean ± std. dev. of 7 runs, 10000000 loops each)\n"
     ]
    }
   ],
   "source": [
    "%timeit(insertionSort)"
   ]
  },
  {
   "cell_type": "code",
   "execution_count": 13,
   "metadata": {},
   "outputs": [
    {
     "data": {
      "text/plain": [
       "0.0"
      ]
     },
     "execution_count": 13,
     "metadata": {},
     "output_type": "execute_result"
    }
   ],
   "source": [
    "start =time.time()\n",
    "insertionSort(rand(10)) #10 random variables\n",
    "end = time.time()\n",
    "np.round((end - start)* 1000, 3)"
   ]
  },
  {
   "cell_type": "code",
   "execution_count": 14,
   "metadata": {},
   "outputs": [
    {
     "data": {
      "text/plain": [
       "1966.494"
      ]
     },
     "execution_count": 14,
     "metadata": {},
     "output_type": "execute_result"
    }
   ],
   "source": [
    "start =time.time()\n",
    "insertionSort(rand(10000)) #10,000 random variables\n",
    "end = time.time()\n",
    "np.round((end - start)* 1000, 3)"
   ]
  },
  {
   "cell_type": "markdown",
   "metadata": {},
   "source": [
    "### Merge Sort"
   ]
  },
  {
   "cell_type": "code",
   "execution_count": 15,
   "metadata": {},
   "outputs": [],
   "source": [
    "def mergeSort(alist):\n",
    "\n",
    "    if len(alist)>1:\n",
    "        mid = len(alist)//2 #get value of middle index\n",
    "        lefthalf = alist[:mid] #lower subarray is below mid\n",
    "        righthalf = alist[mid:] #upper subarray is above mid\n",
    "\n",
    "        mergeSort(lefthalf) \n",
    "        mergeSort(righthalf) #Pass both subarrays back into merge sort\n",
    "\n",
    "        i=0\n",
    "        j=0\n",
    "        k=0\n",
    "        while i < len(lefthalf) and j < len(righthalf):\n",
    "            if lefthalf[i] < righthalf[j]:\n",
    "                alist[k]=lefthalf[i]\n",
    "                i=i+1 \n",
    "            else:\n",
    "                alist[k]=righthalf[j]\n",
    "                j=j+1\n",
    "            k=k+1\n",
    "\n",
    "        while i < len(lefthalf):\n",
    "            alist[k]=lefthalf[i]\n",
    "            i=i+1\n",
    "            k=k+1\n",
    "\n",
    "        while j < len(righthalf):\n",
    "            alist[k]=righthalf[j]\n",
    "            j=j+1\n",
    "            k=k+1 \n",
    "        \n",
    "            \n",
    "#Reference: http://interactivepython.org/courselib/static/pythonds/SortSearch/TheMergeSort.html, accessed 13th April 2019."
   ]
  },
  {
   "cell_type": "code",
   "execution_count": 16,
   "metadata": {},
   "outputs": [
    {
     "name": "stdout",
     "output_type": "stream",
     "text": [
      "80.3 ns ± 9.46 ns per loop (mean ± std. dev. of 7 runs, 10000000 loops each)\n"
     ]
    }
   ],
   "source": [
    "%timeit(mergeSort)"
   ]
  },
  {
   "cell_type": "code",
   "execution_count": 17,
   "metadata": {},
   "outputs": [
    {
     "data": {
      "text/plain": [
       "0.0"
      ]
     },
     "execution_count": 17,
     "metadata": {},
     "output_type": "execute_result"
    }
   ],
   "source": [
    "start =time.time()\n",
    "mergeSort(rand(10)) #10 random variables\n",
    "end = time.time()\n",
    "np.round((end - start)* 1000, 3)"
   ]
  },
  {
   "cell_type": "code",
   "execution_count": 18,
   "metadata": {},
   "outputs": [
    {
     "data": {
      "text/plain": [
       "141.035"
      ]
     },
     "execution_count": 18,
     "metadata": {},
     "output_type": "execute_result"
    }
   ],
   "source": [
    "start =time.time()\n",
    "mergeSort(rand(10000)) #10,000 random variables\n",
    "end = time.time()\n",
    "\n",
    "np.round((end - start)* 1000, 3)"
   ]
  },
  {
   "cell_type": "code",
   "execution_count": 19,
   "metadata": {},
   "outputs": [
    {
     "data": {
      "text/plain": [
       "2286.579"
      ]
     },
     "execution_count": 19,
     "metadata": {},
     "output_type": "execute_result"
    }
   ],
   "source": [
    "start =time.time()\n",
    "mergeSort(rand(100000))\n",
    "end = time.time()\n",
    "\n",
    "np.round((end - start)* 1000, 3)"
   ]
  },
  {
   "cell_type": "markdown",
   "metadata": {},
   "source": [
    "### Bucket Sort"
   ]
  },
  {
   "cell_type": "markdown",
   "metadata": {},
   "source": [
    "**WIKI says**\n",
    "\n",
    "Bucket sort is a divide and conquer sorting algorithm that generalizes counting sort by partitioning an array into a finite number of buckets. Each bucket is then sorted individually, either using a different sorting algorithm, or by recursively applying the bucket sorting algorithm.\n",
    "\n",
    "A bucket sort works best when the elements of the data set are evenly distributed across all buckets."
   ]
  },
  {
   "cell_type": "code",
   "execution_count": 20,
   "metadata": {},
   "outputs": [],
   "source": [
    "def bucketSort(alist):\n",
    "    largest = max(alist) #Set max\n",
    "    length = len(alist) #Set input size = length\n",
    "    size = largest/length\n",
    " \n",
    "    buckets = [[] for _ in range(length)]\n",
    "    for i in range(length):\n",
    "        j = int(alist[i]/size)\n",
    "        if j != length:\n",
    "            buckets[j].append(alist[i])\n",
    "        else:\n",
    "            buckets[length - 1].append(alist[i])\n",
    " \n",
    "    for i in range(length):\n",
    "        insertionSort(buckets[i])\n",
    " \n",
    "    result = []\n",
    "    for i in range(length):\n",
    "        result = result + buckets[i]\n",
    "\n",
    "#Reference: https://www.sanfoundry.com/python-program-implement-bucket-sort/, accessed 13th April 2019."
   ]
  },
  {
   "cell_type": "code",
   "execution_count": 21,
   "metadata": {},
   "outputs": [
    {
     "name": "stdout",
     "output_type": "stream",
     "text": [
      "62.2 ns ± 2.52 ns per loop (mean ± std. dev. of 7 runs, 10000000 loops each)\n"
     ]
    }
   ],
   "source": [
    "%timeit(bucketSort)"
   ]
  },
  {
   "cell_type": "code",
   "execution_count": 22,
   "metadata": {},
   "outputs": [
    {
     "data": {
      "text/plain": [
       "0.997"
      ]
     },
     "execution_count": 22,
     "metadata": {},
     "output_type": "execute_result"
    }
   ],
   "source": [
    "start =time.time()\n",
    "bucketSort(rand(10))\n",
    "end = time.time()\n",
    "np.round((end - start)* 1000, 3)"
   ]
  },
  {
   "cell_type": "code",
   "execution_count": 23,
   "metadata": {},
   "outputs": [
    {
     "data": {
      "text/plain": [
       "41105.924"
      ]
     },
     "execution_count": 23,
     "metadata": {},
     "output_type": "execute_result"
    }
   ],
   "source": [
    "start =time.time()\n",
    "bucketSort(rand(100000))\n",
    "end = time.time()\n",
    "\n",
    "np.round((end - start)* 1000, 3)"
   ]
  },
  {
   "cell_type": "markdown",
   "metadata": {},
   "source": [
    "### TimSort"
   ]
  },
  {
   "cell_type": "markdown",
   "metadata": {},
   "source": [
    "**WIKI SAYS**\n",
    "Timsort is a hybrid stable sorting algorithm, derived from merge sort and insertion sort, designed to perform well on many kinds of real-world data.\n",
    "\n",
    "The algorithm finds subsequences of the data that are already ordered, and uses that knowledge to sort the remainder more efficiently. This is done by merging an identified subsequence, called a run, with existing runs until certain criteria are fulfilled. Timsort has been Python's standard sorting algorithm since version 2.3. "
   ]
  },
  {
   "cell_type": "code",
   "execution_count": 24,
   "metadata": {},
   "outputs": [],
   "source": [
    "def merge(left, right): #Input is two sorted lists\n",
    "    if not left:\n",
    "        return right\n",
    "    if not right:\n",
    "        return left\n",
    "    if left[0] < right[0]:\n",
    "        return [left[0]] + merge(left[1:], right)\n",
    "    return [right[0]] + merge(left, right[1:])\n",
    "\n",
    "#Reference:http://skerritt.tech/blog/timsort/, accessed 13th April 2019."
   ]
  },
  {
   "cell_type": "code",
   "execution_count": 25,
   "metadata": {},
   "outputs": [],
   "source": [
    "def timSort(the_array):\n",
    " \n",
    "    runs, sorted_runs = [], []\n",
    "    length = len(the_array)\n",
    "    new_run = [the_array[0]]\n",
    "\n",
    "    # for every i in the range of 1 to length of array\n",
    "    for i in range(1, length):\n",
    "        # if i is at the end of the list\n",
    "        if i == length - 1:\n",
    "            new_run.append(the_array[i])\n",
    "            runs.append(new_run)\n",
    "            break\n",
    "        # if the i'th element of the array is less than the one before it\n",
    "        if the_array[i] < the_array[i-1]:\n",
    "            # if new_run is set to None (NULL)\n",
    "            if not new_run:\n",
    "                runs.append([the_array[i]])\n",
    "                new_run.append(the_array[i])\n",
    "            else:\n",
    "                runs.append(new_run)\n",
    "                new_run = []\n",
    "        # else if its equal to or more than\n",
    "        else:\n",
    "            new_run.append(the_array[i])\n",
    "\n",
    "    # for every item in runs, append it using insertion sort\n",
    "    for item in runs:\n",
    "        sorted_runs.append(insertionSort(item))\n",
    "    \n",
    "    # for every run in sorted_runs, merge them\n",
    "    sorted_array = []\n",
    "    for run in sorted_runs:\n",
    "        sorted_array = merge(sorted_array, run)\n",
    "\n",
    "\n",
    "#Reference:http://skerritt.tech/blog/timsort/, accessed 13th April 2019."
   ]
  },
  {
   "cell_type": "code",
   "execution_count": 26,
   "metadata": {},
   "outputs": [
    {
     "name": "stdout",
     "output_type": "stream",
     "text": [
      "44.4 ns ± 1.41 ns per loop (mean ± std. dev. of 7 runs, 10000000 loops each)\n"
     ]
    }
   ],
   "source": [
    "%timeit(timSort)"
   ]
  },
  {
   "cell_type": "code",
   "execution_count": 27,
   "metadata": {},
   "outputs": [
    {
     "data": {
      "text/plain": [
       "649.16"
      ]
     },
     "execution_count": 27,
     "metadata": {},
     "output_type": "execute_result"
    }
   ],
   "source": [
    "start =time.time()\n",
    "timSort(rand(100000))\n",
    "end = time.time()\n",
    "np.round((end - start)* 1000, 3)"
   ]
  },
  {
   "cell_type": "markdown",
   "metadata": {},
   "source": [
    "## Comparing Sorting Algorithms "
   ]
  },
  {
   "cell_type": "code",
   "execution_count": 28,
   "metadata": {},
   "outputs": [],
   "source": [
    "compare_all()"
   ]
  },
  {
   "cell_type": "code",
   "execution_count": 29,
   "metadata": {},
   "outputs": [
    {
     "data": {
      "text/html": [
       "<div>\n",
       "<style scoped>\n",
       "    .dataframe tbody tr th:only-of-type {\n",
       "        vertical-align: middle;\n",
       "    }\n",
       "\n",
       "    .dataframe tbody tr th {\n",
       "        vertical-align: top;\n",
       "    }\n",
       "\n",
       "    .dataframe thead th {\n",
       "        text-align: right;\n",
       "    }\n",
       "</style>\n",
       "<table border=\"1\" class=\"dataframe\">\n",
       "  <thead>\n",
       "    <tr style=\"text-align: right;\">\n",
       "      <th></th>\n",
       "      <th>Input Size</th>\n",
       "      <th>BubbleSort</th>\n",
       "      <th>InsertionSort</th>\n",
       "      <th>MergeSort</th>\n",
       "      <th>BucketSort</th>\n",
       "      <th>TimSort</th>\n",
       "    </tr>\n",
       "  </thead>\n",
       "  <tbody>\n",
       "    <tr>\n",
       "      <th>0</th>\n",
       "      <td>10</td>\n",
       "      <td>0.000</td>\n",
       "      <td>0.000</td>\n",
       "      <td>0.000</td>\n",
       "      <td>0.000</td>\n",
       "      <td>0.000</td>\n",
       "    </tr>\n",
       "    <tr>\n",
       "      <th>1</th>\n",
       "      <td>50</td>\n",
       "      <td>1.002</td>\n",
       "      <td>0.000</td>\n",
       "      <td>0.000</td>\n",
       "      <td>0.000</td>\n",
       "      <td>0.000</td>\n",
       "    </tr>\n",
       "    <tr>\n",
       "      <th>2</th>\n",
       "      <td>100</td>\n",
       "      <td>1.999</td>\n",
       "      <td>0.999</td>\n",
       "      <td>0.998</td>\n",
       "      <td>0.000</td>\n",
       "      <td>0.000</td>\n",
       "    </tr>\n",
       "    <tr>\n",
       "      <th>3</th>\n",
       "      <td>250</td>\n",
       "      <td>27.006</td>\n",
       "      <td>3.001</td>\n",
       "      <td>2.000</td>\n",
       "      <td>0.999</td>\n",
       "      <td>0.000</td>\n",
       "    </tr>\n",
       "    <tr>\n",
       "      <th>4</th>\n",
       "      <td>500</td>\n",
       "      <td>56.011</td>\n",
       "      <td>9.002</td>\n",
       "      <td>4.001</td>\n",
       "      <td>3.000</td>\n",
       "      <td>1.001</td>\n",
       "    </tr>\n",
       "    <tr>\n",
       "      <th>5</th>\n",
       "      <td>750</td>\n",
       "      <td>112.027</td>\n",
       "      <td>17.009</td>\n",
       "      <td>6.002</td>\n",
       "      <td>4.003</td>\n",
       "      <td>0.999</td>\n",
       "    </tr>\n",
       "    <tr>\n",
       "      <th>6</th>\n",
       "      <td>1000</td>\n",
       "      <td>200.051</td>\n",
       "      <td>30.008</td>\n",
       "      <td>9.002</td>\n",
       "      <td>7.002</td>\n",
       "      <td>2.001</td>\n",
       "    </tr>\n",
       "    <tr>\n",
       "      <th>7</th>\n",
       "      <td>5000</td>\n",
       "      <td>5161.306</td>\n",
       "      <td>433.108</td>\n",
       "      <td>58.015</td>\n",
       "      <td>95.024</td>\n",
       "      <td>11.004</td>\n",
       "    </tr>\n",
       "    <tr>\n",
       "      <th>8</th>\n",
       "      <td>7500</td>\n",
       "      <td>11381.875</td>\n",
       "      <td>933.236</td>\n",
       "      <td>82.020</td>\n",
       "      <td>191.048</td>\n",
       "      <td>16.003</td>\n",
       "    </tr>\n",
       "    <tr>\n",
       "      <th>9</th>\n",
       "      <td>10000</td>\n",
       "      <td>20301.131</td>\n",
       "      <td>1610.411</td>\n",
       "      <td>113.028</td>\n",
       "      <td>351.089</td>\n",
       "      <td>19.004</td>\n",
       "    </tr>\n",
       "  </tbody>\n",
       "</table>\n",
       "</div>"
      ],
      "text/plain": [
       "   Input Size  BubbleSort  InsertionSort  MergeSort  BucketSort  TimSort\n",
       "0          10       0.000          0.000      0.000       0.000    0.000\n",
       "1          50       1.002          0.000      0.000       0.000    0.000\n",
       "2         100       1.999          0.999      0.998       0.000    0.000\n",
       "3         250      27.006          3.001      2.000       0.999    0.000\n",
       "4         500      56.011          9.002      4.001       3.000    1.001\n",
       "5         750     112.027         17.009      6.002       4.003    0.999\n",
       "6        1000     200.051         30.008      9.002       7.002    2.001\n",
       "7        5000    5161.306        433.108     58.015      95.024   11.004\n",
       "8        7500   11381.875        933.236     82.020     191.048   16.003\n",
       "9       10000   20301.131       1610.411    113.028     351.089   19.004"
      ]
     },
     "execution_count": 29,
     "metadata": {},
     "output_type": "execute_result"
    }
   ],
   "source": [
    "df = pd.read_csv('data/run_once.csv')\n",
    "df"
   ]
  },
  {
   "cell_type": "code",
   "execution_count": 30,
   "metadata": {},
   "outputs": [],
   "source": [
    "ax = df.plot(x='Input Size', y=['BubbleSort', 'InsertionSort', 'MergeSort', 'BucketSort', 'TimSort'])\n",
    "ax.set_ylabel(\"Time Elapsed (milliseconds)\");"
   ]
  },
  {
   "cell_type": "code",
   "execution_count": 31,
   "metadata": {},
   "outputs": [
    {
     "data": {
      "image/png": "[encoded data removed]",
      "text/plain": [
       "<Figure size 432x288 with 1 Axes>"
      ]
     },
     "metadata": {},
     "output_type": "display_data"
    }
   ],
   "source": [
    "ax = df.plot(x='Input Size', y=['InsertionSort', 'MergeSort', 'BucketSort', 'TimSort'])\n",
    "ax.set_ylabel(\"Time Elapsed (milliseconds)\");"
   ]
  },
  {
   "cell_type": "code",
   "execution_count": 32,
   "metadata": {},
   "outputs": [
    {
     "data": {
      "image/png": "[encoded data removed]",
      "text/plain": [
       "<Figure size 432x288 with 1 Axes>"
      ]
     },
     "metadata": {},
     "output_type": "display_data"
    }
   ],
   "source": [
    "ax = df.plot(x='Input Size', y=['MergeSort', 'BucketSort', 'TimSort'])\n",
    "ax.set_ylabel(\"Time Elapsed (milliseconds)\");"
   ]
  },
  {
   "cell_type": "markdown",
   "metadata": {},
   "source": [
    "## Benchmarking Sorting Algorithms"
   ]
  },
  {
   "cell_type": "code",
   "execution_count": 33,
   "metadata": {},
   "outputs": [],
   "source": [
    "bench_ten_runs()"
   ]
  },
  {
   "cell_type": "code",
   "execution_count": 34,
   "metadata": {},
   "outputs": [
    {
     "data": {
      "text/html": [
       "<div>\n",
       "<style scoped>\n",
       "    .dataframe tbody tr th:only-of-type {\n",
       "        vertical-align: middle;\n",
       "    }\n",
       "\n",
       "    .dataframe tbody tr th {\n",
       "        vertical-align: top;\n",
       "    }\n",
       "\n",
       "    .dataframe thead th {\n",
       "        text-align: right;\n",
       "    }\n",
       "</style>\n",
       "<table border=\"1\" class=\"dataframe\">\n",
       "  <thead>\n",
       "    <tr style=\"text-align: right;\">\n",
       "      <th></th>\n",
       "      <th>Input Size</th>\n",
       "      <th>BubbleSort</th>\n",
       "      <th>InsertionSort</th>\n",
       "      <th>MergeSort</th>\n",
       "      <th>BucketSort</th>\n",
       "      <th>TimSort</th>\n",
       "    </tr>\n",
       "  </thead>\n",
       "  <tbody>\n",
       "    <tr>\n",
       "      <th>0</th>\n",
       "      <td>10</td>\n",
       "      <td>0.000</td>\n",
       "      <td>0.100</td>\n",
       "      <td>0.000</td>\n",
       "      <td>0.000</td>\n",
       "      <td>0.100</td>\n",
       "    </tr>\n",
       "    <tr>\n",
       "      <th>1</th>\n",
       "      <td>50</td>\n",
       "      <td>0.300</td>\n",
       "      <td>0.300</td>\n",
       "      <td>0.200</td>\n",
       "      <td>0.100</td>\n",
       "      <td>0.100</td>\n",
       "    </tr>\n",
       "    <tr>\n",
       "      <th>2</th>\n",
       "      <td>100</td>\n",
       "      <td>1.300</td>\n",
       "      <td>1.000</td>\n",
       "      <td>0.500</td>\n",
       "      <td>0.400</td>\n",
       "      <td>0.200</td>\n",
       "    </tr>\n",
       "    <tr>\n",
       "      <th>3</th>\n",
       "      <td>250</td>\n",
       "      <td>6.401</td>\n",
       "      <td>3.101</td>\n",
       "      <td>1.400</td>\n",
       "      <td>1.200</td>\n",
       "      <td>0.500</td>\n",
       "    </tr>\n",
       "    <tr>\n",
       "      <th>4</th>\n",
       "      <td>500</td>\n",
       "      <td>25.706</td>\n",
       "      <td>8.302</td>\n",
       "      <td>3.001</td>\n",
       "      <td>2.901</td>\n",
       "      <td>3.001</td>\n",
       "    </tr>\n",
       "    <tr>\n",
       "      <th>5</th>\n",
       "      <td>750</td>\n",
       "      <td>57.815</td>\n",
       "      <td>15.504</td>\n",
       "      <td>4.901</td>\n",
       "      <td>5.702</td>\n",
       "      <td>1.500</td>\n",
       "    </tr>\n",
       "    <tr>\n",
       "      <th>6</th>\n",
       "      <td>1000</td>\n",
       "      <td>109.227</td>\n",
       "      <td>24.306</td>\n",
       "      <td>6.602</td>\n",
       "      <td>9.602</td>\n",
       "      <td>2.000</td>\n",
       "    </tr>\n",
       "    <tr>\n",
       "      <th>7</th>\n",
       "      <td>5000</td>\n",
       "      <td>2831.616</td>\n",
       "      <td>423.007</td>\n",
       "      <td>48.412</td>\n",
       "      <td>114.829</td>\n",
       "      <td>12.103</td>\n",
       "    </tr>\n",
       "    <tr>\n",
       "      <th>8</th>\n",
       "      <td>7500</td>\n",
       "      <td>6117.146</td>\n",
       "      <td>1164.194</td>\n",
       "      <td>77.319</td>\n",
       "      <td>258.766</td>\n",
       "      <td>17.204</td>\n",
       "    </tr>\n",
       "    <tr>\n",
       "      <th>9</th>\n",
       "      <td>10000</td>\n",
       "      <td>11128.713</td>\n",
       "      <td>1666.421</td>\n",
       "      <td>106.126</td>\n",
       "      <td>404.802</td>\n",
       "      <td>27.907</td>\n",
       "    </tr>\n",
       "  </tbody>\n",
       "</table>\n",
       "</div>"
      ],
      "text/plain": [
       "   Input Size  BubbleSort  InsertionSort  MergeSort  BucketSort  TimSort\n",
       "0          10       0.000          0.100      0.000       0.000    0.100\n",
       "1          50       0.300          0.300      0.200       0.100    0.100\n",
       "2         100       1.300          1.000      0.500       0.400    0.200\n",
       "3         250       6.401          3.101      1.400       1.200    0.500\n",
       "4         500      25.706          8.302      3.001       2.901    3.001\n",
       "5         750      57.815         15.504      4.901       5.702    1.500\n",
       "6        1000     109.227         24.306      6.602       9.602    2.000\n",
       "7        5000    2831.616        423.007     48.412     114.829   12.103\n",
       "8        7500    6117.146       1164.194     77.319     258.766   17.204\n",
       "9       10000   11128.713       1666.421    106.126     404.802   27.907"
      ]
     },
     "execution_count": 34,
     "metadata": {},
     "output_type": "execute_result"
    }
   ],
   "source": [
    "df2 = pd.read_csv('data/avg_ten_runs.csv')\n",
    "df2"
   ]
  },
  {
   "cell_type": "code",
   "execution_count": 35,
   "metadata": {},
   "outputs": [
    {
     "data": {
      "image/png": "[encoded data removed]",
      "text/plain": [
       "<Figure size 432x288 with 1 Axes>"
      ]
     },
     "metadata": {},
     "output_type": "display_data"
    }
   ],
   "source": [
    "ax = df2.plot(x='Input Size', y=['BubbleSort','InsertionSort', 'MergeSort', 'BucketSort', 'TimSort'])\n",
    "ax.set_ylabel(\"Time Elapsed (milliseconds)\");"
   ]
  },
  {
   "cell_type": "code",
   "execution_count": 36,
   "metadata": {},
   "outputs": [
    {
     "data": {
      "image/png": "[encoded data removed]",
      "text/plain": [
       "<Figure size 432x288 with 1 Axes>"
      ]
     },
     "metadata": {},
     "output_type": "display_data"
    }
   ],
   "source": [
    "ax = df.plot(x='Input Size', y=['InsertionSort', 'MergeSort', 'BucketSort', 'TimSort'])\n",
    "ax.set_ylabel(\"Time Elapsed (milliseconds)\");"
   ]
  },
  {
   "cell_type": "markdown",
   "metadata": {},
   "source": [
    "## References\n"
   ]
  },
  {
   "cell_type": "markdown",
   "metadata": {},
   "source": [
    "#### Documentation\n",
    "* [The Python Standard Library](https://docs.python.org/3/library/)\n",
    "> * [Time](https://docs.python.org/3/library/time.html) function, accessed 13th April 2019. \n",
    "> * [Reading and Writing CSV files](https://docs.python.org/3/library/csv.html), accessed 13th April 2019.\n",
    "* [Pandas Documentation]()\n",
    "> * [pandas.DataFrame](https://pandas.pydata.org/pandas-docs/stable/reference/api/pandas.DataFrame.html) function, accessed 13th April 2019.\n",
    "___"
   ]
  },
  {
   "cell_type": "markdown",
   "metadata": {},
   "source": [
    "#### Wikipedia Pages \n",
    "* [In-Place Algorithm](https://en.wikipedia.org/wiki/In-place_algorithm), accessed 25 April 2019."
   ]
  },
  {
   "cell_type": "markdown",
   "metadata": {},
   "source": [
    "#### Other \n",
    "* [Binary Insertion Sort](https://www.geeksforgeeks.org/binary-insertion-sort/), page on geeksforgeeks.org, accessed 25 April 2019."
   ]
  }
 ],
 "metadata": {
  "kernelspec": {
   "display_name": "Python 3",
   "language": "python",
   "name": "python3"
  },
  "language_info": {
   "codemirror_mode": {
    "name": "ipython",
    "version": 3
   },
   "file_extension": ".py",
   "mimetype": "text/x-python",
   "name": "python",
   "nbconvert_exporter": "python",
   "pygments_lexer": "ipython3",
   "version": "3.6.5"
  }
 },
 "nbformat": 4,
 "nbformat_minor": 2
}
