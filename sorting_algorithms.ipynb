{
 "cells": [
  {
   "cell_type": "markdown",
   "metadata": {},
   "source": [
    "# An Investigation of Sorting Algorithms"
   ]
  },
  {
   "cell_type": "markdown",
   "metadata": {},
   "source": [
    "## Libraries"
   ]
  },
  {
   "cell_type": "code",
   "execution_count": 1,
   "metadata": {},
   "outputs": [],
   "source": [
    "import numpy as np # For randomly generating numbers\n",
    "import pandas as pd #For reading csv files, generating dataframes and plots for same\n",
    "import matplotlib.pyplot as plt\n",
    "import time"
   ]
  },
  {
   "cell_type": "markdown",
   "metadata": {},
   "source": [
    "## Introduction"
   ]
  },
  {
   "cell_type": "markdown",
   "metadata": {},
   "source": [
    "<b>A sorting algorithm arranges a list of items in some predetermined order.</b> \n",
    "\n",
    "For this investigation, I'm going to look at ordering discrete numerical elements, in ascending order, for smallest to biggest. Sorting is essentially a permutation of list elements, and does not alter any of the elements in the list. \n",
    "\n",
    "Much of early computing advancements focused on finding effective sorting methods. This is because sorting elements allow for a number of tasks to be completed quicker than in a list of unsorted items. It's essential in data analysis, when determining the maximum, minimum, median and inter-quartile range. Also, sorting is often pre-processing step in search algorithms, allowing for more effective identification of specific or duplicate entries."
   ]
  },
  {
   "cell_type": "markdown",
   "metadata": {},
   "source": [
    "### Project Intentions \n",
    "\n",
    "In the course of this investigation, I will discuss and benchmark the following sorting algorithms:\n",
    "* Bubble Sort\n",
    "* Insertion Sort\n",
    "* Binary Insertion\n",
    "* Merge Sort\n",
    "* Bucket Sort\n",
    "\n",
    "I have chosen these sorting algorithms as they include examples of simple and effective comparison based sorting algorithms, non-comparison based sorting algorithms and hybrid sorting algorithms. My decision to examine Binary Insertion Sort, was in part due to the improved time complexity of this algorithm, when compared to the traditional Insertion Sort. \n",
    "\n",
    "I will discuss these types of sorting algorithms with reference to the specific examples I have chosen, and plot their running time against the size of inputs. To more effectively compare these algorithms, I will also run each algorithm ten times for each input, and determine the average running time."
   ]
  },
  {
   "cell_type": "markdown",
   "metadata": {},
   "source": [
    "### Terminology\n",
    "\n",
    "* The **worst - case scenario** refers to an input that will result in the longest possible running time. In the case of sorting algorithms, this will often refer to an input that is in reverse order, or already sorted. \n",
    "\n",
    "\n",
    "* With respect to duplicate entries, a **stable sorting algorithm** will preserve the order of duplicate entries while an **unstable sorting algorithm** will not. All of the sorting algorithms I've chosen to investigate are stable sorting algorithms. \n",
    "\n",
    "\n",
    "* An **in-place sorting algorithm** uses a fixed additional amount of working space, and is independent of it's input size. Another trait of an in-place algorithm is that the input is overwritten by the output.\n"
   ]
  },
  {
   "cell_type": "markdown",
   "metadata": {},
   "source": [
    "### Time Complexity\n",
    "\n",
    "When benchmarking algorithms, we are often concerned with how long it takes a function to execute. This is a complex question to answer and the answer varies considerabily based on the input size, and the specification of the machine running the program. \n",
    "\n",
    "Time Complexity is a way we can measure how the execution time increases as the input sizes increases. It is often estimated by counting the number of operations an algorithm has to perform before terminating, and assumes that the time taken and the number of operations won't differ by more than a constant value. It can be most simplistically described as a function which models the number of operations, given incrementally increasing input sizes. However in most instances, inputs with the same size can result in a different number of operations and have different execution times. As a result we may need to consider the worst case, best case and average case complexities to fully understand the limitations of an algorithm. \n",
    "\n",
    "Big O notation is a mathematical notation used to classify algorithms based on their worst case time complexity. \n",
    "* $O(n)$ describes an algorithm whose time complexity increases linearly and is proportionate to its input size. While some algorithms achieve $O(n)$ in best case scenarios it is unlikely to be achieved in average or worst cases.\n",
    "* $O(n^2)$ describes an algorithm whose time complexity is best modelled by a quadratic function. It is common in algorithms featuring nested iterations through a dataset. For example, and $O(n^2)$ algorithm would take approximately 64 steps to order a list of 8 elements. \n",
    "*  $O(nlogn)$, where log refers to the binary logarithm, describes a more effective sorting algorithm. This algorithm would take only 24 steps to order a list of 8 elements, as $8(log8) = 24$.\n",
    "\n",
    "So let's look at some examples of these three types of functions."
   ]
  },
  {
   "cell_type": "code",
   "execution_count": 134,
   "metadata": {},
   "outputs": [
    {
     "data": {
      "image/png": "[encoded data removed]",
      "text/plain": [
       "<Figure size 648x432 with 1 Axes>"
      ]
     },
     "metadata": {},
     "output_type": "display_data"
    }
   ],
   "source": [
    "num = range(1, 100, 1)\n",
    "f = plt.subplots(figsize = (9, 6))\n",
    "x = [(n) for n in num]\n",
    "plt.plot(num, x,  label = 'Linear')\n",
    "y = [(n**2)/20 for n in num]\n",
    "plt.plot(num, y,  label = 'Quadratic')\n",
    "z = [(2*(np.log2(n))) for n in num]\n",
    "plt.plot(num, z,  label = 'Logarithmic')\n",
    "plt.axis([0, 100, 0, 100])\n",
    "plt.legend();"
   ]
  },
  {
   "cell_type": "markdown",
   "metadata": {},
   "source": [
    "## Functions\n",
    "### Generating Data"
   ]
  },
  {
   "cell_type": "code",
   "execution_count": 2,
   "metadata": {},
   "outputs": [],
   "source": [
    "#Function used to generate random data\n",
    "def rand(n):\n",
    "    array = []\n",
    "    for i in range(0, n, 1): # for every integer between 1 and n\n",
    "        gen_rand= np.random.randint(0, 100) # generate a random number\n",
    "        array.append(gen_rand) # and add it to the array\n",
    "    return array"
   ]
  },
  {
   "cell_type": "code",
   "execution_count": 3,
   "metadata": {},
   "outputs": [],
   "source": [
    "#Almost Sorted Data - 100 elements\n",
    "#Code to create a list of 99 ordered elements, and the 100th element out of order\n",
    "x = [1, 2, 4, 5, 6, 7, 8, 9]\n",
    "y = [3]\n",
    "n = [10, 20, 10, 10, 10, 10, 10, 19]\n",
    "data = np.concatenate([np.repeat(i, j) for i, j in zip(x, n)])\n",
    "data = (np.concatenate([data, y])).tolist()\n"
   ]
  },
  {
   "cell_type": "code",
   "execution_count": 4,
   "metadata": {},
   "outputs": [],
   "source": [
    "#Almost Sorted Data - 1000 elements\n",
    "#Code to create a list of 999 ordered elements, and the 1000th element out of order\n",
    "x = [1, 2, 4, 5, 6, 7, 8, 9]\n",
    "y = [3]\n",
    "n = [100, 200, 100, 100, 100, 100, 100, 199]\n",
    "data2 = np.concatenate([np.repeat(i, j) for i, j in zip(x, n)])\n",
    "data2 = (np.concatenate([data, y])).tolist()"
   ]
  },
  {
   "cell_type": "code",
   "execution_count": 28,
   "metadata": {},
   "outputs": [],
   "source": [
    "#Data in reverse order - 1000 elements\n",
    "x = [9,8,7,6,5,4,3,2]\n",
    "n = [100, 200, 100, 100, 100, 100, 100, 200]\n",
    "data3 = np.concatenate([np.repeat(i, j) for i, j in zip(x, n)])\n",
    "data3 = data3.tolist()"
   ]
  },
  {
   "cell_type": "markdown",
   "metadata": {},
   "source": [
    "### Benchmarking Functions"
   ]
  },
  {
   "cell_type": "code",
   "execution_count": 6,
   "metadata": {},
   "outputs": [],
   "source": [
    "#Inputs random array to each function ONLY ONCE\n",
    "#Returns running time in milliseconds\n",
    "def compare_all():\n",
    "    array_1 = []    \n",
    "    rand_size = [10, 50, 100, 250, 500, 750, 1000, 5000, 7500, 10000]\n",
    "    functions = [bubbleSort, insertion_sort, bininsertionSort, mergeSort, bucketSort, sorted]\n",
    "    \n",
    "    for func in functions: #For every function\n",
    "        for i in rand_size: #For every input size i\n",
    "                size = rand(i) #generate a random array of i values\n",
    "                start = time.time()\n",
    "                func(size) #pass the array to the function\n",
    "                end = time.time()\n",
    "                clock = round(((end - start)*1000), 3) #running time in milliseconds\n",
    "                array_1.append(clock) #Add running time value to array_1\n",
    "\n",
    "    df = pd.DataFrame({'Input Size': rand_size, \n",
    "                       'BubbleSort': array_1[slice(0, 10, 1)], \n",
    "                       'InsertionSort': array_1[slice(10, 20, 1)], \n",
    "                       'Binary InsertionSort': array_1[slice(20, 30, 1)], \n",
    "                       'MergeSort':array_1[slice(30, 40, 1)], \n",
    "                       'BucketSort':array_1[slice(40, 50, 1)], \n",
    "                       'Sorted':array_1[slice(50, 60, 1)]})\n",
    "    \n",
    "    df.to_csv(\"data/run_once.csv\", index=False)"
   ]
  },
  {
   "cell_type": "code",
   "execution_count": 7,
   "metadata": {},
   "outputs": [],
   "source": [
    "#Input an array with 100 values\n",
    "#Returns the mean of every 10 values, as an array\n",
    "def mean_array(the_array):\n",
    "    average_time = []\n",
    "    y1 = np.mean(the_array[slice(0, 10, 1)])\n",
    "    y2 = np.mean(the_array[slice(10, 20, 1)])\n",
    "    y3 = np.mean(the_array[slice(20, 30, 1)])\n",
    "    y4 = np.mean(the_array[slice(30, 40, 1)])\n",
    "    y5 = np.mean(the_array[slice(40, 50, 1)])\n",
    "    y6 = np.mean(the_array[slice(50, 60, 1)])\n",
    "    y7 = np.mean(the_array[slice(60, 70, 1)])\n",
    "    y8 = np.mean(the_array[slice(70, 80, 1)])\n",
    "    y9 = np.mean(the_array[slice(80, 90, 1)])\n",
    "    y10 =np.mean(the_array[slice(90, 100, 1)])\n",
    "    \n",
    "    results = [y1, y2, y3, y4, y5, y6, y7, y8, y9, y10]\n",
    "    return results"
   ]
  },
  {
   "cell_type": "code",
   "execution_count": 8,
   "metadata": {},
   "outputs": [],
   "source": [
    "#Inputs each random array to each function ten times\n",
    "#Returns average running time in milliseconds\n",
    "def bench_ten_runs():\n",
    "    results=[]\n",
    "    average_time = []\n",
    "    final_array= []\n",
    "    num_runs = 10\n",
    "    rand_size = [10, 50, 100, 250, 500, 750, 1000, 5000, 7500, 10000]\n",
    "    functions = [bubbleSort, insertion_sort, bininsertionSort, mergeSort, bucketSort, sorted]\n",
    "    \n",
    "  \n",
    "    for func in functions: #For each function\n",
    "        for i in rand_size: #input a value\n",
    "            size = rand(i) \n",
    "            for r in range(num_runs):#ten times\n",
    "                start = time.time()\n",
    "                func(size) \n",
    "                end = time.time()\n",
    "                clock = (end - start)*1000\n",
    "                results.append(clock)  # Add time elapsed to array results\n",
    "        average_time = mean_array(results) # Find average time, for each i in rand_size\n",
    "        average_time = np.round(average_time, 3) # Round result to 3 dps\n",
    "        final_array.append(average_time) # Append to final_array\n",
    "        average_time = [] #set both average_time\n",
    "        results=[]  #and results to [], before passing through the next function\n",
    "        \n",
    "    df4 = pd.DataFrame({'Input Size': rand_size, 'BubbleSort': final_array[0], \n",
    "                       'InsertionSort': final_array[1], 'Binary InsertionSort': final_array[2], \n",
    "                             'MergeSort':final_array[3], 'BucketSort':final_array[4], 'Sorted':final_array[5]})\n",
    "    \n",
    "    df4.to_csv(\"data/avg_ten_runs.csv\", index=False)"
   ]
  },
  {
   "cell_type": "markdown",
   "metadata": {},
   "source": [
    "## Discussion of Sorting Algorithms"
   ]
  },
  {
   "cell_type": "markdown",
   "metadata": {},
   "source": [
    "### Bubble Sort"
   ]
  },
  {
   "cell_type": "markdown",
   "metadata": {},
   "source": [
    "Bubble Sort is a simple comparison based sorting algorithm. It compares every number to it's adjacent number(s), and returns the larger number of the two, in the position with the larger index. It continues this process multiple times, looping through the array, until the set is fully sorted. \n",
    "\n",
    "Let's look at an example."
   ]
  },
  {
   "cell_type": "markdown",
   "metadata": {},
   "source": [
    "<img src=\"https://www.w3resource.com/w3r_images/bubble-short.png\" style=\"width: 600px;\" />"
   ]
  },
  {
   "cell_type": "markdown",
   "metadata": {},
   "source": [
    "In the example above, it could be argued that the list of five numbers is already partially sorted before we run the algorithm. The largest value 8 has the largest index. In the first pass, my algorithm compares four pairs of numbers, or $(n-1)$ values, swapping where necessary. As a result, the second largest number ends up in the second last position. \n",
    "\n",
    "One value has now been sorted to the correct position. In the next pass, my algorithm will compare $(n-2)$ values, swapping where necessary. In this example, it takes 3 passes to sort the input. However in the worse case scenario, if the largest value was at index 0, it would take $(n)$ passes. \n",
    "\n",
    "So in the worst case scenario, my algorithm would compare $(n-1)$ pairs of numbers, $(n)$ times. The algorithm would also perform a number of swaps, but this would be approximated by a linear term. Big O Notation is concerned only with the highest degree of the polynomial that models runtime. The highest degree of the polynomial will determine the rate of growth of the function, as the input size n gets very large. I can disregard the term approximating the number of swaps, as I can already see that my polynomial is of degree 2.\n",
    "\n",
    "In Bubble Sort, the number of operations the algorithm performs can be approximated by $(n)(n-1)$, giving us a $O(n^2)$ time complexity. I expect that in small sets BubbleSort will work very well, but with larger input sizes it will take considerably longer to run. BubbleSort is alo more effective at sorting lists that are almost sorted. It can be modified to stop early if it finds that the list has become sorted, and in that case it could have a running time of $O(n)$. However that is the best case scenario, where the input is almost sorted list. "
   ]
  },
  {
   "cell_type": "code",
   "execution_count": 9,
   "metadata": {},
   "outputs": [],
   "source": [
    "def bubbleSort(alist):\n",
    "    for passnum in range(len(alist)-1,0,-1): \n",
    "        for i in range(passnum): #Goes through a list from last value to first\n",
    "            if alist[i]>alist[i+1]: # Compares every value to value on its left\n",
    "                temp = alist[i]  \n",
    "                alist[i] = alist[i+1] \n",
    "                alist[i+1] = temp #Swaps two values, if needed, so the larger value has the larger index                \n",
    "# Reference: interactivepython.org/runestone/static/pythonds/SortSearch/TheBubbleSort.html, accessed 13th April 2019."
   ]
  },
  {
   "cell_type": "markdown",
   "metadata": {},
   "source": [
    "Bubble sort is a stable sort with a space complexity of $O(1)$, because only a single additional memory space is required i.e. for temp variable. \n",
    "\n",
    "Let's input a small list of random integers and see how bubbleSort behaves."
   ]
  },
  {
   "cell_type": "code",
   "execution_count": 143,
   "metadata": {},
   "outputs": [
    {
     "data": {
      "text/plain": [
       "[47, 83, 43, 74, 40, 47, 70, 63, 62, 84]"
      ]
     },
     "execution_count": 143,
     "metadata": {},
     "output_type": "execute_result"
    }
   ],
   "source": [
    "mylist = rand(10)\n",
    "mylist"
   ]
  },
  {
   "cell_type": "code",
   "execution_count": 144,
   "metadata": {},
   "outputs": [],
   "source": [
    "bubbleSort(mylist)"
   ]
  },
  {
   "cell_type": "code",
   "execution_count": 145,
   "metadata": {},
   "outputs": [
    {
     "data": {
      "text/plain": [
       "[40, 43, 47, 47, 62, 63, 70, 74, 83, 84]"
      ]
     },
     "execution_count": 145,
     "metadata": {},
     "output_type": "execute_result"
    }
   ],
   "source": [
    "mylist"
   ]
  },
  {
   "cell_type": "markdown",
   "metadata": {},
   "source": [
    "When we pass a random list of 10 numbers to bubbleSort, the function doesn't return a sorted list, because I haven't specified that it should. Instead I can call the input mylist, after running bubbleSort, and the sorted list will be returned. In this way, bubbleSort overwrites the original input with the sorted list. It is an in-place sorting algorithm. \n",
    "\n",
    "Now that we've determined the function is working let's look at how it performs with almost fully sorted lists. First I will compare BubbleSort's performance on lists with 100 elements. The first list contains random elements and is unsorted, while the second list has only one element out of order"
   ]
  },
  {
   "cell_type": "code",
   "execution_count": 146,
   "metadata": {},
   "outputs": [
    {
     "data": {
      "text/plain": [
       "3.0"
      ]
     },
     "execution_count": 146,
     "metadata": {},
     "output_type": "execute_result"
    }
   ],
   "source": [
    "start =time.time()\n",
    "bubbleSort(rand(100)) #100 random variables\n",
    "end = time.time()\n",
    "np.round((end - start)* 1000, 3)"
   ]
  },
  {
   "cell_type": "code",
   "execution_count": 147,
   "metadata": {},
   "outputs": [
    {
     "data": {
      "text/plain": [
       "1.0"
      ]
     },
     "execution_count": 147,
     "metadata": {},
     "output_type": "execute_result"
    }
   ],
   "source": [
    "start =time.time()\n",
    "bubbleSort(data) #A list of 100 values almost fully sorted\n",
    "end = time.time()\n",
    "np.round((end - start)* 1000, 3)"
   ]
  },
  {
   "cell_type": "markdown",
   "metadata": {},
   "source": [
    "It looks like BubbleSort is more efficient with almost fully sorted lists. Let's see if that's still the case when we have 1000 elements. Again the first input is random, the second has only one element out of order, and my third input is in reverse order."
   ]
  },
  {
   "cell_type": "code",
   "execution_count": 148,
   "metadata": {},
   "outputs": [
    {
     "data": {
      "text/plain": [
       "191.043"
      ]
     },
     "execution_count": 148,
     "metadata": {},
     "output_type": "execute_result"
    }
   ],
   "source": [
    "start =time.time()\n",
    "bubbleSort(rand(1000)) #1000 random variables\n",
    "end = time.time()\n",
    "np.round((end - start)* 1000, 3)"
   ]
  },
  {
   "cell_type": "code",
   "execution_count": 149,
   "metadata": {},
   "outputs": [
    {
     "data": {
      "text/plain": [
       "0.999"
      ]
     },
     "execution_count": 149,
     "metadata": {},
     "output_type": "execute_result"
    }
   ],
   "source": [
    "start =time.time()\n",
    "bubbleSort(data2) #A list of 1000 values almost fully sorted\n",
    "end = time.time()\n",
    "np.round((end - start)* 1000, 3)"
   ]
  },
  {
   "cell_type": "code",
   "execution_count": 150,
   "metadata": {},
   "outputs": [
    {
     "data": {
      "text/plain": [
       "430.103"
      ]
     },
     "execution_count": 150,
     "metadata": {},
     "output_type": "execute_result"
    }
   ],
   "source": [
    "start =time.time()\n",
    "bubbleSort(data3) #A list of 1000 values in reverse order\n",
    "end = time.time()\n",
    "np.round((end - start)* 1000, 3)"
   ]
  },
  {
   "cell_type": "markdown",
   "metadata": {},
   "source": [
    "### Insertion Sort vs. Binary Insertion Sort"
   ]
  },
  {
   "cell_type": "markdown",
   "metadata": {},
   "source": [
    "Insertion Sort takes an unsorted list and compares every element to every element preceding it. It swaps as necessary and \n",
    "\n",
    "In my example below, the first comparison occurs when I compare the second element, 7, with the first element 9. 7 is less than 9, so we swap them. Then we are comparing the element at index 3 to all the preceeding elements. 6 is less than both 9 and 7 so it is moved to index 1. "
   ]
  },
  {
   "cell_type": "markdown",
   "metadata": {},
   "source": [
    "<img src=\"https://cdncontribute.geeksforgeeks.org/wp-content/uploads/insertion_sort-recursion.png\" style=\"width: 300px;\" />"
   ]
  },
  {
   "cell_type": "markdown",
   "metadata": {},
   "source": [
    "In this way, Insertion Sort maintains a sorted list to the left of the element it's currently comparing, and an unsorted list to the right. In the worse case, if an input was in reverse order, it would have to compare each element with every preceding number in the sorted list. \n",
    "\n",
    "My example above, is not the worst case. There are some instances where the algorithm terminates early, finding the correct index for a number without having to check every single element of it's already sorted list. "
   ]
  },
  {
   "cell_type": "markdown",
   "metadata": {},
   "source": [
    "This sorting algorithm makes $(1 + 2 + 3 + 4 + 5 + 6 + ... + n-1)$ comparisons, and in the worst case, it will also complete $(n-1)$ swaps. This implies that the function will have $O(n^2)$ time complexity, similar to BubbleSort. This is also implied by the structure of the algorithm, which contains two nested loops below. "
   ]
  },
  {
   "cell_type": "code",
   "execution_count": 10,
   "metadata": {},
   "outputs": [],
   "source": [
    "def insertion_sort(alist):\n",
    "    for index in range(1,len(alist)): #for every element in alist\n",
    "        currentvalue = alist[index] \n",
    "        position = index \n",
    "\n",
    "        while position>0 and alist[position-1]>currentvalue: #Until we reach the first value, if the preceding value is bigger \n",
    "            alist[position]=alist[position-1] \n",
    "            position = position-1 \n",
    "\n",
    "            alist[position]=currentvalue #then swap the values and their indexes\n"
   ]
  },
  {
   "cell_type": "code",
   "execution_count": 152,
   "metadata": {},
   "outputs": [
    {
     "data": {
      "text/plain": [
       "[30, 34, 59, 66, 57, 14, 29, 70, 60, 59]"
      ]
     },
     "execution_count": 152,
     "metadata": {},
     "output_type": "execute_result"
    }
   ],
   "source": [
    "mylist = rand(10)\n",
    "mylist"
   ]
  },
  {
   "cell_type": "code",
   "execution_count": 153,
   "metadata": {},
   "outputs": [
    {
     "data": {
      "text/plain": [
       "[14, 29, 30, 34, 57, 59, 59, 60, 66, 70]"
      ]
     },
     "execution_count": 153,
     "metadata": {},
     "output_type": "execute_result"
    }
   ],
   "source": [
    "insertion_sort(mylist)\n",
    "mylist"
   ]
  },
  {
   "cell_type": "markdown",
   "metadata": {},
   "source": [
    "Like BubbleSort, Insertion Sort is an inplace sorting algorithm, overwiting the original input with the sorted array. It also appears to work best on data that is close to been sorted. "
   ]
  },
  {
   "cell_type": "code",
   "execution_count": 47,
   "metadata": {},
   "outputs": [
    {
     "data": {
      "text/plain": [
       "1.002"
      ]
     },
     "execution_count": 47,
     "metadata": {},
     "output_type": "execute_result"
    }
   ],
   "source": [
    "start =time.time()\n",
    "insertion_sort(rand(100)) #100 random variables\n",
    "end = time.time()\n",
    "np.round((end - start)* 1000, 3)"
   ]
  },
  {
   "cell_type": "code",
   "execution_count": 48,
   "metadata": {},
   "outputs": [
    {
     "data": {
      "text/plain": [
       "0.0"
      ]
     },
     "execution_count": 48,
     "metadata": {},
     "output_type": "execute_result"
    }
   ],
   "source": [
    "start =time.time()\n",
    "insertion_sort(data) #100 almost sorted\n",
    "end = time.time()\n",
    "np.round((end - start)* 1000, 3)"
   ]
  },
  {
   "cell_type": "markdown",
   "metadata": {},
   "source": [
    "I will again input three different lists to InsertionSort and look at the time taken to sort them. The first input will be a set of 1000 randonly generated elements, and the second will be a list of 1000 elements with only one out of order. The third input will be a list of 1000 elements in reverse order, which I expect to be close to the worst case time complexity for Insertion Sort."
   ]
  },
  {
   "cell_type": "code",
   "execution_count": 44,
   "metadata": {},
   "outputs": [
    {
     "data": {
      "text/plain": [
       "128.027"
      ]
     },
     "execution_count": 44,
     "metadata": {},
     "output_type": "execute_result"
    }
   ],
   "source": [
    "start =time.time()\n",
    "insertion_sort(rand(1000)) #1000 random variables\n",
    "end = time.time()\n",
    "np.round((end - start)* 1000, 3)"
   ]
  },
  {
   "cell_type": "code",
   "execution_count": 45,
   "metadata": {},
   "outputs": [
    {
     "data": {
      "text/plain": [
       "0.0"
      ]
     },
     "execution_count": 45,
     "metadata": {},
     "output_type": "execute_result"
    }
   ],
   "source": [
    "start =time.time()\n",
    "insertion_sort(data2) #1000 almost sorted\n",
    "end = time.time()\n",
    "np.round((end - start)* 1000, 3)"
   ]
  },
  {
   "cell_type": "code",
   "execution_count": 46,
   "metadata": {},
   "outputs": [
    {
     "data": {
      "text/plain": [
       "203.045"
      ]
     },
     "execution_count": 46,
     "metadata": {},
     "output_type": "execute_result"
    }
   ],
   "source": [
    "start =time.time()\n",
    "insertion_sort(data3) #1000 in reverse order\n",
    "end = time.time()\n",
    "np.round((end - start)* 1000, 3)"
   ]
  },
  {
   "cell_type": "markdown",
   "metadata": {},
   "source": [
    "As expected, Insertion Sort performs best on almost fully sorted lists, and is as inefficient as BubbleSort in other cases. It iterates through the set linearly comparing each value to other values in the set, and this appraoach while it's easy to understand is labor intensive.. \n",
    "\n",
    "A variation of insertion sort is Binary Insertion Sort. This combines the insertion sort process with a binary search algorithm, and results in fewer comparisons having to be made. Binary Search acts upon already sorted sets. As a result, it is uniquely suited to the Insertion Sort process, where the elements to the left of the item been sorted, are already sorted in order from smallest to biggest. \n",
    "\n",
    "In this way, the binary search algorithm can find the correct positon for a new element, without comparing it to all previous elements. Even without calculating the Big O Notation, I believe that this should be a more efficient sorting method. \n"
   ]
  },
  {
   "cell_type": "markdown",
   "metadata": {},
   "source": [
    "\n",
    "Binary insetion sort with duplicate elements - can be sorted to left or right of the duplicate. \n",
    "\n",
    "stable, in place and works well on small sets and on sets that are almost fully sorted \n",
    "\n",
    "very inefficient for large random sets \n",
    "\n",
    "iterative\n",
    "\n",
    "In normal insertion sort, it takes O(n) comparisons(at nth iteration) in worst case. We can reduce it to O(log n) by using binary search.\n",
    "\n"
   ]
  },
  {
   "cell_type": "code",
   "execution_count": 11,
   "metadata": {},
   "outputs": [],
   "source": [
    "#Takes a new item, and return the appropriate index for item in sorted array\n",
    "\n",
    "def binary_search(the_array, item, start, end): #Input is a sorted array, item to be place in array, start and end\n",
    "    \n",
    "    if start == end: # if there's only one item in the sorted array\n",
    "        if the_array[start] > item: # and start item is bigger than the new item\n",
    "            return start #return start (so the smaller number has index 0)\n",
    "        else:\n",
    "            return start + 1 #otherwise return start+1 (so the bigger number has index 1)\n",
    "        \n",
    "    if start > end: #at the last element of the array\n",
    "        return start #return the index of the last element\n",
    "\n",
    "    mid = round((start + end)/ 2) #Returns the mean of the range of indices \n",
    "    \n",
    "    # determine which side to search\n",
    "    if the_array[mid] < item: # if new item is less than the middle value\n",
    "        return binary_search(the_array, item, mid + 1, end) # search array of indices above mid\n",
    "\n",
    "    elif the_array[mid] > item:\n",
    "        return binary_search(the_array, item, start, mid - 1) # search array of indices below mid\n",
    "\n",
    "    else:\n",
    "        return mid # Otherwise mid = item, so return mid"
   ]
  },
  {
   "cell_type": "code",
   "execution_count": 12,
   "metadata": {},
   "outputs": [],
   "source": [
    "def bininsertionSort(the_array):\n",
    "        \n",
    "    l = len(the_array) #set l to the number of values in array\n",
    "    for index in range(1, l): #for every index\n",
    "        value = the_array[index] #value is equal to element in that position\n",
    "        pos = binary_search(the_array, value, 0, index - 1) #perform binary search to find the appropriate index for value\n",
    "        the_array = the_array[:pos] + [value] + the_array[pos:index] + the_array[index+1:]\n",
    "        \n",
    "    return the_array\n",
    "\n",
    "#Reference:http://interactivepython.org/courselib/static/pythonds/SortSearch/TheInsertionSort.html, accessed 13th April 2019.\n",
    "#Reference:http://skerritt.tech/blog/timsort/, accessed 13th April 2019."
   ]
  },
  {
   "cell_type": "code",
   "execution_count": 161,
   "metadata": {},
   "outputs": [
    {
     "data": {
      "text/plain": [
       "[55, 19, 31, 7, 54, 88, 57, 34, 67, 97]"
      ]
     },
     "execution_count": 161,
     "metadata": {},
     "output_type": "execute_result"
    }
   ],
   "source": [
    "mylist = rand(10)\n",
    "mylist"
   ]
  },
  {
   "cell_type": "code",
   "execution_count": 162,
   "metadata": {},
   "outputs": [
    {
     "data": {
      "text/plain": [
       "[7, 19, 31, 34, 54, 55, 57, 67, 88, 97]"
      ]
     },
     "execution_count": 162,
     "metadata": {},
     "output_type": "execute_result"
    }
   ],
   "source": [
    "bininsertionSort(mylist)"
   ]
  },
  {
   "cell_type": "markdown",
   "metadata": {},
   "source": [
    "I have returned the sorted list from the function in order to check the algorithm runs correctly, but this also highlights another difference between these two algorithms. Unlike Insertion Sort, Binary Insertion Sort is not an inplace sorting algorithm. When I call the input mylist again, the unsorted input is returned. "
   ]
  },
  {
   "cell_type": "code",
   "execution_count": 163,
   "metadata": {},
   "outputs": [
    {
     "data": {
      "text/plain": [
       "[55, 19, 31, 7, 54, 88, 57, 34, 67, 97]"
      ]
     },
     "execution_count": 163,
     "metadata": {},
     "output_type": "execute_result"
    }
   ],
   "source": [
    "mylist"
   ]
  },
  {
   "cell_type": "code",
   "execution_count": 164,
   "metadata": {},
   "outputs": [
    {
     "data": {
      "text/plain": [
       "1.997"
      ]
     },
     "execution_count": 164,
     "metadata": {},
     "output_type": "execute_result"
    }
   ],
   "source": [
    "start =time.time()\n",
    "bininsertionSort(rand(100)) #100\n",
    "end = time.time()\n",
    "np.round((end - start)* 1000, 3)"
   ]
  },
  {
   "cell_type": "code",
   "execution_count": 165,
   "metadata": {},
   "outputs": [
    {
     "data": {
      "text/plain": [
       "1.999"
      ]
     },
     "execution_count": 165,
     "metadata": {},
     "output_type": "execute_result"
    }
   ],
   "source": [
    "start =time.time()\n",
    "bininsertionSort(data) #100\n",
    "end = time.time()\n",
    "np.round((end - start)* 1000, 3)"
   ]
  },
  {
   "cell_type": "markdown",
   "metadata": {},
   "source": [
    "When I pass two inputs of the same size, where one is almost sorted, there is no evidence that binary insertion sort runs faster on almost sorted lists. Hoever when I input sets of size 1000, there is more evidence that the algorithm, like BubbleSort and InsertionSort, runs much faster when only one value is out of order. "
   ]
  },
  {
   "cell_type": "code",
   "execution_count": 41,
   "metadata": {},
   "outputs": [
    {
     "data": {
      "text/plain": [
       "31.003"
      ]
     },
     "execution_count": 41,
     "metadata": {},
     "output_type": "execute_result"
    }
   ],
   "source": [
    "start =time.time()\n",
    "bininsertionSort(rand(1000)) #100 random values\n",
    "end = time.time()\n",
    "np.round((end - start)* 1000, 3)"
   ]
  },
  {
   "cell_type": "code",
   "execution_count": 42,
   "metadata": {},
   "outputs": [
    {
     "data": {
      "text/plain": [
       "1.002"
      ]
     },
     "execution_count": 42,
     "metadata": {},
     "output_type": "execute_result"
    }
   ],
   "source": [
    "start =time.time()\n",
    "bininsertionSort(data2) #100 values, with one out of order\n",
    "end = time.time()\n",
    "np.round((end - start)* 1000, 3)"
   ]
  },
  {
   "cell_type": "code",
   "execution_count": 43,
   "metadata": {},
   "outputs": [
    {
     "data": {
      "text/plain": [
       "23.002"
      ]
     },
     "execution_count": 43,
     "metadata": {},
     "output_type": "execute_result"
    }
   ],
   "source": [
    "start =time.time()\n",
    "bininsertionSort(data3) #100 values in reverse order\n",
    "end = time.time()\n",
    "np.round((end - start)* 1000, 3)"
   ]
  },
  {
   "cell_type": "markdown",
   "metadata": {},
   "source": [
    "Binary Insertion Sort also appears to be more efficient that Insertion Sort, with quicker execution time for sorting random and reverse order lists. \n",
    "\n",
    "It is also the only sorting algorithm I've investigated so far that sorts reverse order sets faster than randomly ordered sets. Both BubbleSort and InsertionSort, were slower when sorting a reverse ordered list compared to a randomly ordered list."
   ]
  },
  {
   "cell_type": "markdown",
   "metadata": {},
   "source": [
    "### Merge Sort"
   ]
  },
  {
   "cell_type": "markdown",
   "metadata": {},
   "source": [
    "Merge Sort is known as a divide and conquer algorithm. "
   ]
  },
  {
   "cell_type": "markdown",
   "metadata": {},
   "source": [
    "<img src=\"https://www.w3schools.in/wp-content/uploads/2016/09/Merge-Sort-Technique-1.png\" style=\"width: 400px;\" />"
   ]
  },
  {
   "cell_type": "markdown",
   "metadata": {},
   "source": [
    "Merge Sort involves splitting an input into smaller subsets, and ordering those small lists before merging. In fact, merge sort \n",
    "keeps splitting the subsets until we have n lists of size 1. The algorithm then merges the lists to form n/2 lists of size 2 or 3. It does this by comparing the elements at index 0 in both sets, and the smaller of the two will have index 0, in the merged list. \n",
    "\n",
    "On it's next merge, the algorithm is working with larger lists but it begins by comparing the elements at index 0. Again the smallest item from both lists will be in the first position. The algorithm then compares the index 0 element that remains, to the value at index 1 in the other set. The smaller of the two is again added to the merged list. The algorithm now compares the item with the smalles index in one set, to the item with the smallest index in the other set, again adding the smaller of the two to the merged set. \n",
    "\n",
    "The algorithm continues to\n"
   ]
  },
  {
   "cell_type": "markdown",
   "metadata": {},
   "source": [
    "Mergesort's time complextity is equal to $n(logn)$, making it the most efficient sorting algorithm we've encountered so far. Given an input with size 8, mergesort would split the list into two lists of size 4. Then 4 lists of size 2 and finally 8 lists of size 1. \n",
    "Given f(n), a function for execution time based on input size, $f(n) = 8(n /8)$ "
   ]
  },
  {
   "cell_type": "markdown",
   "metadata": {},
   "source": [
    "Mergesort is a recursive algorithm, that calls MergeSort within itself, as you can see in the code example below. "
   ]
  },
  {
   "cell_type": "code",
   "execution_count": 13,
   "metadata": {},
   "outputs": [],
   "source": [
    "def mergeSort(alist):\n",
    "\n",
    "    if len(alist)>1: #If there's more than one element\n",
    "        mid = len(alist)//2 #get the middle index\n",
    "        lefthalf = alist[:mid] #lower subarray is below mid\n",
    "        righthalf = alist[mid:] #upper subarray is above mid\n",
    "\n",
    "        mergeSort(lefthalf) \n",
    "        mergeSort(righthalf) #Pass both subarrays back into merge sort\n",
    "\n",
    "        i=0\n",
    "        j=0\n",
    "        k=0\n",
    "        while i < len(lefthalf) and j < len(righthalf): #until we've reached the end of ONE subarray\n",
    "            if lefthalf[i] < righthalf[j]: #if the ith number on left is less than the ith number on right\n",
    "                alist[k]=lefthalf[i] #the kth element of alist is the ith value in the lefthalf\n",
    "                i=i+1 #Next we'll compare the (i+1)th value on the left, to the ith value on the right \n",
    "            else:\n",
    "                alist[k]=righthalf[j] #otherwise the kth element of alist is the ith value in the righthalf\n",
    "                j=j+1#Next we'll compare the (i+1)th value on the right, to the ith value on the left \n",
    "            k=k+1 # +1 to k, as we're going to be looking at the next element next\n",
    "\n",
    "        while i < len(lefthalf): #if there's still one number in the lefthalf\n",
    "            alist[k]=lefthalf[i] #add it to alist\n",
    "            i=i+1\n",
    "            k=k+1\n",
    "\n",
    "        while j < len(righthalf): #if there's still one number in the righthalf \n",
    "            alist[k]=righthalf[j] #add it to alist\n",
    "            j=j+1\n",
    "            k=k+1\n",
    "        \n",
    "            \n",
    "#Reference: http://interactivepython.org/courselib/static/pythonds/SortSearch/TheMergeSort.html, accessed 13th April 2019."
   ]
  },
  {
   "cell_type": "code",
   "execution_count": 170,
   "metadata": {},
   "outputs": [
    {
     "data": {
      "text/plain": [
       "[64, 39, 28, 63, 69, 36, 29, 16, 69, 9]"
      ]
     },
     "execution_count": 170,
     "metadata": {},
     "output_type": "execute_result"
    }
   ],
   "source": [
    "mylist = rand(10)\n",
    "mylist"
   ]
  },
  {
   "cell_type": "code",
   "execution_count": 171,
   "metadata": {},
   "outputs": [],
   "source": [
    "mergeSort(mylist)"
   ]
  },
  {
   "cell_type": "code",
   "execution_count": 172,
   "metadata": {},
   "outputs": [
    {
     "data": {
      "text/plain": [
       "[9, 16, 28, 29, 36, 39, 63, 64, 69, 69]"
      ]
     },
     "execution_count": 172,
     "metadata": {},
     "output_type": "execute_result"
    }
   ],
   "source": [
    "mylist"
   ]
  },
  {
   "cell_type": "markdown",
   "metadata": {},
   "source": [
    "Merge Sort is an inplace sorting algorithm like Bubble Sort and Insertion Sort.  "
   ]
  },
  {
   "cell_type": "code",
   "execution_count": 173,
   "metadata": {},
   "outputs": [
    {
     "data": {
      "text/plain": [
       "1.003"
      ]
     },
     "execution_count": 173,
     "metadata": {},
     "output_type": "execute_result"
    }
   ],
   "source": [
    "start =time.time()\n",
    "mergeSort(rand(100)) #100 random variables\n",
    "end = time.time()\n",
    "np.round((end - start)* 1000, 3)"
   ]
  },
  {
   "cell_type": "code",
   "execution_count": 174,
   "metadata": {},
   "outputs": [
    {
     "data": {
      "text/plain": [
       "0.0"
      ]
     },
     "execution_count": 174,
     "metadata": {},
     "output_type": "execute_result"
    }
   ],
   "source": [
    "start =time.time()\n",
    "mergeSort(data) #100 random variables\n",
    "end = time.time()\n",
    "np.round((end - start)* 1000, 3)"
   ]
  },
  {
   "cell_type": "markdown",
   "metadata": {},
   "source": [
    "When I pass two lists of size 100 to mergeSort, where one is random and the second has only one element out of order, there is little evidence that mergeSort is more efficient on almost sorted lists. This may be because mergeSort has better time complexity than the previous algorithms I have examined, and I will need to use larger input sizes to determine how it performs with different types of lists.\n",
    "\n",
    "Let's try the same with lists of size 1000. Again the first input is random, the second input has one element out of order and the third is in reverse order."
   ]
  },
  {
   "cell_type": "code",
   "execution_count": 175,
   "metadata": {},
   "outputs": [
    {
     "data": {
      "text/plain": [
       "10.0"
      ]
     },
     "execution_count": 175,
     "metadata": {},
     "output_type": "execute_result"
    }
   ],
   "source": [
    "start =time.time()\n",
    "mergeSort(rand(1000)) #10,000 random variables\n",
    "end = time.time()\n",
    "np.round((end - start)* 1000, 3)"
   ]
  },
  {
   "cell_type": "code",
   "execution_count": 176,
   "metadata": {},
   "outputs": [
    {
     "data": {
      "text/plain": [
       "1.001"
      ]
     },
     "execution_count": 176,
     "metadata": {},
     "output_type": "execute_result"
    }
   ],
   "source": [
    "start =time.time()\n",
    "mergeSort(data2) #1000 almost sorted\n",
    "end = time.time()\n",
    "np.round((end - start)* 1000, 3)"
   ]
  },
  {
   "cell_type": "code",
   "execution_count": 177,
   "metadata": {},
   "outputs": [
    {
     "data": {
      "text/plain": [
       "10.998"
      ]
     },
     "execution_count": 177,
     "metadata": {},
     "output_type": "execute_result"
    }
   ],
   "source": [
    "start =time.time()\n",
    "mergeSort(data3) #1000 reverse order\n",
    "end = time.time()\n",
    "np.round((end - start)* 1000, 3)"
   ]
  },
  {
   "cell_type": "markdown",
   "metadata": {},
   "source": [
    "I noticed that MergeSort's execution time for reverse order lists was similar to it's execution time given randomly ordered lists. This may imply that Binary Insertion Sort should be used to sort lists of elements in reverse order, but MergeSort remains the quickest algorithm we've seen yet at sorting these types of lists."
   ]
  },
  {
   "cell_type": "markdown",
   "metadata": {},
   "source": [
    "### Bucket Sort"
   ]
  },
  {
   "cell_type": "markdown",
   "metadata": {},
   "source": [
    "Bucket sort is a divide and conquer sorting algorithm. It divides a list into a number of buckets. Each bucket is sorted individually. This can be done by applying a different sorting algorithm, or by recursively applying the bucket sorting algorithm."
   ]
  },
  {
   "cell_type": "markdown",
   "metadata": {},
   "source": [
    "Given a list of numbers, $29$, $25$, $3$, $49$, $9$, $37$, $21$, $43$"
   ]
  },
  {
   "cell_type": "markdown",
   "metadata": {},
   "source": [
    "<img src = \"https://upload.wikimedia.org/wikipedia/commons/e/e3/Bucket_sort_2.svg\" style=\"width: 400px;\" />"
   ]
  },
  {
   "cell_type": "markdown",
   "metadata": {},
   "source": [
    "Bucket sort is a stable sort which works by distributing the elements of an array into a series of buckets. Each bucket is then sorted individually, wither using a different sorting algorithm or by recursively applying the Buketsort algorithm. \n",
    "\n",
    "Time coplexity is n^2 in the worst case, and n+k in the besta and average, where k is the number of buckets. \n",
    "Worst case space complexity is O(nk)\n",
    "\n",
    "buckets sorts performance degrades with clustering if many values occur close tgether they wil fall in to a single buckets and be sorted slowly"
   ]
  },
  {
   "cell_type": "markdown",
   "metadata": {},
   "source": [
    "**WIKI says**\n",
    "\n",
    "\n",
    "\n",
    "A bucket sort works best when the elements of the data set are evenly distributed across all buckets."
   ]
  },
  {
   "cell_type": "code",
   "execution_count": 14,
   "metadata": {},
   "outputs": [],
   "source": [
    "def bucketSort(alist):\n",
    "    largest = max(alist) #Set max\n",
    "    length = len(alist) #Set input size = length\n",
    "    size = largest/length #Divide max by len to get range of buckets\n",
    " \n",
    "    buckets = [[] for _ in range(length)]\n",
    "    for i in range(length):\n",
    "        j = int(alist[i]/size)\n",
    "        if j != length:\n",
    "            buckets[j].append(alist[i])\n",
    "        else:\n",
    "            buckets[length - 1].append(alist[i])\n",
    " \n",
    "    for i in range(length):\n",
    "        insertion_sort(buckets[i]) # apply insertion sort\n",
    " \n",
    "    result = []\n",
    "    for i in range(length):\n",
    "        result = result + buckets[i]\n",
    "    \n",
    "    return result\n",
    "\n",
    "#Reference: https://www.sanfoundry.com/python-program-implement-bucket-sort/, accessed 13th April 2019."
   ]
  },
  {
   "cell_type": "code",
   "execution_count": 179,
   "metadata": {},
   "outputs": [
    {
     "data": {
      "text/plain": [
       "[63, 59, 96, 3, 81, 66, 71, 45, 5, 42]"
      ]
     },
     "execution_count": 179,
     "metadata": {},
     "output_type": "execute_result"
    }
   ],
   "source": [
    "mylist = rand(10)\n",
    "mylist"
   ]
  },
  {
   "cell_type": "code",
   "execution_count": 180,
   "metadata": {},
   "outputs": [
    {
     "data": {
      "text/plain": [
       "[3, 5, 42, 45, 59, 63, 66, 71, 81, 96]"
      ]
     },
     "execution_count": 180,
     "metadata": {},
     "output_type": "execute_result"
    }
   ],
   "source": [
    "bucketSort(mylist)"
   ]
  },
  {
   "cell_type": "code",
   "execution_count": 181,
   "metadata": {},
   "outputs": [
    {
     "data": {
      "text/plain": [
       "[63, 59, 96, 3, 81, 66, 71, 45, 5, 42]"
      ]
     },
     "execution_count": 181,
     "metadata": {},
     "output_type": "execute_result"
    }
   ],
   "source": [
    "mylist"
   ]
  },
  {
   "cell_type": "markdown",
   "metadata": {},
   "source": [
    "Note that I returned the sorted array from my function as Bucket Sort is not an in-place sorting algorithm"
   ]
  },
  {
   "cell_type": "code",
   "execution_count": 183,
   "metadata": {},
   "outputs": [
    {
     "data": {
      "text/plain": [
       "0.998"
      ]
     },
     "execution_count": 183,
     "metadata": {},
     "output_type": "execute_result"
    }
   ],
   "source": [
    "start =time.time()\n",
    "bucketSort(rand(100))\n",
    "end = time.time()\n",
    "np.round((end - start)* 1000, 3)"
   ]
  },
  {
   "cell_type": "code",
   "execution_count": 184,
   "metadata": {},
   "outputs": [
    {
     "data": {
      "text/plain": [
       "0.0"
      ]
     },
     "execution_count": 184,
     "metadata": {},
     "output_type": "execute_result"
    }
   ],
   "source": [
    "start =time.time()\n",
    "bucketSort(data)\n",
    "end = time.time()\n",
    "np.round((end - start)* 1000, 3)"
   ]
  },
  {
   "cell_type": "code",
   "execution_count": 185,
   "metadata": {},
   "outputs": [
    {
     "data": {
      "text/plain": [
       "12.003"
      ]
     },
     "execution_count": 185,
     "metadata": {},
     "output_type": "execute_result"
    }
   ],
   "source": [
    "start =time.time()\n",
    "bucketSort(rand(1000)) #10 random variables\n",
    "end = time.time()\n",
    "np.round((end - start)* 1000, 3)"
   ]
  },
  {
   "cell_type": "code",
   "execution_count": 186,
   "metadata": {},
   "outputs": [
    {
     "data": {
      "text/plain": [
       "0.0"
      ]
     },
     "execution_count": 186,
     "metadata": {},
     "output_type": "execute_result"
    }
   ],
   "source": [
    "start =time.time()\n",
    "bucketSort(data2) #10 random variables\n",
    "end = time.time()\n",
    "np.round((end - start)* 1000, 3)"
   ]
  },
  {
   "cell_type": "code",
   "execution_count": 187,
   "metadata": {},
   "outputs": [
    {
     "data": {
      "text/plain": [
       "12.003"
      ]
     },
     "execution_count": 187,
     "metadata": {},
     "output_type": "execute_result"
    }
   ],
   "source": [
    "start =time.time()\n",
    "bucketSort(data3) #10 random variables\n",
    "end = time.time()\n",
    "np.round((end - start)* 1000, 3)"
   ]
  },
  {
   "cell_type": "markdown",
   "metadata": {},
   "source": [
    "## Comparing Sorting Algorithms "
   ]
  },
  {
   "cell_type": "markdown",
   "metadata": {},
   "source": [
    "For the purposes of benchmarking my sorting algorithms, I will pass ten sets of randomly generated data to each once. I will be comparing BubbleSort, InsertionSort, Binary InsertionSort, MergeSort and BucketSort. "
   ]
  },
  {
   "cell_type": "code",
   "execution_count": 29,
   "metadata": {},
   "outputs": [],
   "source": [
    "compare_all() #Run function and create csv file with results"
   ]
  },
  {
   "cell_type": "code",
   "execution_count": 30,
   "metadata": {},
   "outputs": [
    {
     "data": {
      "text/html": [
       "<div>\n",
       "<style scoped>\n",
       "    .dataframe tbody tr th:only-of-type {\n",
       "        vertical-align: middle;\n",
       "    }\n",
       "\n",
       "    .dataframe tbody tr th {\n",
       "        vertical-align: top;\n",
       "    }\n",
       "\n",
       "    .dataframe thead th {\n",
       "        text-align: right;\n",
       "    }\n",
       "</style>\n",
       "<table border=\"1\" class=\"dataframe\">\n",
       "  <thead>\n",
       "    <tr style=\"text-align: right;\">\n",
       "      <th></th>\n",
       "      <th>Input Size</th>\n",
       "      <th>BubbleSort</th>\n",
       "      <th>InsertionSort</th>\n",
       "      <th>Binary InsertionSort</th>\n",
       "      <th>MergeSort</th>\n",
       "      <th>BucketSort</th>\n",
       "      <th>Sorted</th>\n",
       "    </tr>\n",
       "  </thead>\n",
       "  <tbody>\n",
       "    <tr>\n",
       "      <th>0</th>\n",
       "      <td>10</td>\n",
       "      <td>0.000</td>\n",
       "      <td>0.000</td>\n",
       "      <td>0.000</td>\n",
       "      <td>0.000</td>\n",
       "      <td>0.000</td>\n",
       "      <td>0.000</td>\n",
       "    </tr>\n",
       "    <tr>\n",
       "      <th>1</th>\n",
       "      <td>50</td>\n",
       "      <td>1.001</td>\n",
       "      <td>1.000</td>\n",
       "      <td>0.000</td>\n",
       "      <td>1.005</td>\n",
       "      <td>0.000</td>\n",
       "      <td>0.000</td>\n",
       "    </tr>\n",
       "    <tr>\n",
       "      <th>2</th>\n",
       "      <td>100</td>\n",
       "      <td>1.998</td>\n",
       "      <td>1.001</td>\n",
       "      <td>1.000</td>\n",
       "      <td>0.999</td>\n",
       "      <td>0.000</td>\n",
       "      <td>0.000</td>\n",
       "    </tr>\n",
       "    <tr>\n",
       "      <th>3</th>\n",
       "      <td>250</td>\n",
       "      <td>9.002</td>\n",
       "      <td>5.000</td>\n",
       "      <td>3.001</td>\n",
       "      <td>1.998</td>\n",
       "      <td>0.000</td>\n",
       "      <td>0.000</td>\n",
       "    </tr>\n",
       "    <tr>\n",
       "      <th>4</th>\n",
       "      <td>500</td>\n",
       "      <td>45.009</td>\n",
       "      <td>22.005</td>\n",
       "      <td>7.001</td>\n",
       "      <td>3.005</td>\n",
       "      <td>2.001</td>\n",
       "      <td>0.000</td>\n",
       "    </tr>\n",
       "    <tr>\n",
       "      <th>5</th>\n",
       "      <td>750</td>\n",
       "      <td>93.019</td>\n",
       "      <td>55.014</td>\n",
       "      <td>15.003</td>\n",
       "      <td>5.005</td>\n",
       "      <td>78.026</td>\n",
       "      <td>0.000</td>\n",
       "    </tr>\n",
       "    <tr>\n",
       "      <th>6</th>\n",
       "      <td>1000</td>\n",
       "      <td>157.039</td>\n",
       "      <td>104.027</td>\n",
       "      <td>23.009</td>\n",
       "      <td>9.999</td>\n",
       "      <td>5.999</td>\n",
       "      <td>1.002</td>\n",
       "    </tr>\n",
       "    <tr>\n",
       "      <th>7</th>\n",
       "      <td>5000</td>\n",
       "      <td>4163.049</td>\n",
       "      <td>2718.681</td>\n",
       "      <td>409.104</td>\n",
       "      <td>39.011</td>\n",
       "      <td>67.016</td>\n",
       "      <td>2.001</td>\n",
       "    </tr>\n",
       "    <tr>\n",
       "      <th>8</th>\n",
       "      <td>7500</td>\n",
       "      <td>9867.485</td>\n",
       "      <td>6331.597</td>\n",
       "      <td>917.225</td>\n",
       "      <td>61.016</td>\n",
       "      <td>153.043</td>\n",
       "      <td>2.000</td>\n",
       "    </tr>\n",
       "    <tr>\n",
       "      <th>9</th>\n",
       "      <td>10000</td>\n",
       "      <td>17245.342</td>\n",
       "      <td>11194.818</td>\n",
       "      <td>1574.399</td>\n",
       "      <td>102.025</td>\n",
       "      <td>246.063</td>\n",
       "      <td>3.999</td>\n",
       "    </tr>\n",
       "  </tbody>\n",
       "</table>\n",
       "</div>"
      ],
      "text/plain": [
       "   Input Size  BubbleSort  InsertionSort  Binary InsertionSort  MergeSort  \\\n",
       "0          10       0.000          0.000                 0.000      0.000   \n",
       "1          50       1.001          1.000                 0.000      1.005   \n",
       "2         100       1.998          1.001                 1.000      0.999   \n",
       "3         250       9.002          5.000                 3.001      1.998   \n",
       "4         500      45.009         22.005                 7.001      3.005   \n",
       "5         750      93.019         55.014                15.003      5.005   \n",
       "6        1000     157.039        104.027                23.009      9.999   \n",
       "7        5000    4163.049       2718.681               409.104     39.011   \n",
       "8        7500    9867.485       6331.597               917.225     61.016   \n",
       "9       10000   17245.342      11194.818              1574.399    102.025   \n",
       "\n",
       "   BucketSort  Sorted  \n",
       "0       0.000   0.000  \n",
       "1       0.000   0.000  \n",
       "2       0.000   0.000  \n",
       "3       0.000   0.000  \n",
       "4       2.001   0.000  \n",
       "5      78.026   0.000  \n",
       "6       5.999   1.002  \n",
       "7      67.016   2.001  \n",
       "8     153.043   2.000  \n",
       "9     246.063   3.999  "
      ]
     },
     "execution_count": 30,
     "metadata": {},
     "output_type": "execute_result"
    }
   ],
   "source": [
    "df = pd.read_csv('data/run_once.csv')\n",
    "df"
   ]
  },
  {
   "cell_type": "code",
   "execution_count": 31,
   "metadata": {},
   "outputs": [
    {
     "data": {
      "image/png": "[encoded data removed]",
      "text/plain": [
       "<Figure size 432x288 with 1 Axes>"
      ]
     },
     "metadata": {},
     "output_type": "display_data"
    }
   ],
   "source": [
    "ax = df.plot(x='Input Size', y=['BubbleSort', 'InsertionSort', 'Binary InsertionSort', 'MergeSort', 'BucketSort'])\n",
    "ax.set_ylabel(\"Time Elapsed (milliseconds)\");"
   ]
  },
  {
   "cell_type": "markdown",
   "metadata": {},
   "source": [
    "As expected BubbleSort and Insertion Sort, seem to most closely resemble quadratic functions. I am surprised that Insertion Sort is only marginally more efficient than BubbleSort.\n",
    "\n",
    "Binary Insertion Sort, performed marginally better than both of these algorithms. While MergeSort performed as expected, I was suprised BucketSort didn't more closely resemble a quadratic. \n",
    "\n",
    "Let's look at just the three best performing algorithms."
   ]
  },
  {
   "cell_type": "code",
   "execution_count": 32,
   "metadata": {},
   "outputs": [
    {
     "data": {
      "image/png": "[encoded data removed]",
      "text/plain": [
       "<Figure size 432x288 with 1 Axes>"
      ]
     },
     "metadata": {},
     "output_type": "display_data"
    }
   ],
   "source": [
    "ax = df.plot(x='Input Size', y=['Binary InsertionSort', 'MergeSort', 'BucketSort'])\n",
    "ax.set_ylabel(\"Time Elapsed (milliseconds)\");"
   ]
  },
  {
   "cell_type": "markdown",
   "metadata": {},
   "source": [
    "In this plot, it is clearer that Binary Insertion Sort, while more effective than Bubble Sort and Insertion Sort, could still model a quadratic function. Merge Sort which I expected to have logarithmic complexity performed as expected. However Bucket Sort doesn't appear quadratic. \n",
    "\n",
    "If I plot MergeSort, and compare it to the Python in-built sorting agorithm Sorted, I find that my best implementation of a sorting algorithm takes much more time than the inbuilt sorting algorithm."
   ]
  },
  {
   "cell_type": "code",
   "execution_count": 33,
   "metadata": {},
   "outputs": [
    {
     "data": {
      "image/png": "[encoded data removed]",
      "text/plain": [
       "<Figure size 432x288 with 1 Axes>"
      ]
     },
     "metadata": {},
     "output_type": "display_data"
    }
   ],
   "source": [
    "ax = df.plot(x='Input Size', y=['MergeSort','Sorted'])\n",
    "ax.set_ylabel(\"Time Elapsed (milliseconds)\");"
   ]
  },
  {
   "cell_type": "code",
   "execution_count": 34,
   "metadata": {},
   "outputs": [
    {
     "data": {
      "image/png": "[encoded data removed]",
      "text/plain": [
       "<Figure size 432x288 with 1 Axes>"
      ]
     },
     "metadata": {},
     "output_type": "display_data"
    }
   ],
   "source": [
    "ax = df.plot(x='Input Size', y=['BucketSort'])\n",
    "ax.set_ylabel(\"Time Elapsed (milliseconds)\");"
   ]
  },
  {
   "cell_type": "markdown",
   "metadata": {},
   "source": [
    "Bucket Sort may not model a quadratic function in this instance, but this result is based on only one run. By looking at how Bucket Sort performs over ten runs and getting the average execution time per run, I should get a better estimation of this algorithms performance. \n",
    "\n",
    "From this plot, it looks like Bucket Sort is almost as efficient as MergeSort when the input size is around 7500. No other algorithm shows a dip at this input size, and it is probably not significant. "
   ]
  },
  {
   "cell_type": "markdown",
   "metadata": {},
   "source": [
    "## Benchmarking Sorting Algorithms"
   ]
  },
  {
   "cell_type": "markdown",
   "metadata": {},
   "source": [
    "For the purposes of benchmarking my sorting algorithms, I will pass ten sets of randomly generated data to each function ten times. I will be use the same six algorithms from the previous comparison: BubbleSort, InsertionSort, Binary InsertionSort, MergeSort, BucketSort and Python's in-built Sorted function. "
   ]
  },
  {
   "cell_type": "code",
   "execution_count": 194,
   "metadata": {},
   "outputs": [],
   "source": [
    "bench_ten_runs() #Run function and create csv file with results"
   ]
  },
  {
   "cell_type": "code",
   "execution_count": 195,
   "metadata": {},
   "outputs": [
    {
     "data": {
      "text/html": [
       "<div>\n",
       "<style scoped>\n",
       "    .dataframe tbody tr th:only-of-type {\n",
       "        vertical-align: middle;\n",
       "    }\n",
       "\n",
       "    .dataframe tbody tr th {\n",
       "        vertical-align: top;\n",
       "    }\n",
       "\n",
       "    .dataframe thead th {\n",
       "        text-align: right;\n",
       "    }\n",
       "</style>\n",
       "<table border=\"1\" class=\"dataframe\">\n",
       "  <thead>\n",
       "    <tr style=\"text-align: right;\">\n",
       "      <th></th>\n",
       "      <th>Input Size</th>\n",
       "      <th>BubbleSort</th>\n",
       "      <th>InsertionSort</th>\n",
       "      <th>Binary InsertionSort</th>\n",
       "      <th>MergeSort</th>\n",
       "      <th>BucketSort</th>\n",
       "      <th>Sorted</th>\n",
       "    </tr>\n",
       "  </thead>\n",
       "  <tbody>\n",
       "    <tr>\n",
       "      <th>0</th>\n",
       "      <td>10</td>\n",
       "      <td>0.000</td>\n",
       "      <td>0.000</td>\n",
       "      <td>0.000</td>\n",
       "      <td>0.100</td>\n",
       "      <td>0.100</td>\n",
       "      <td>0.000</td>\n",
       "    </tr>\n",
       "    <tr>\n",
       "      <th>1</th>\n",
       "      <td>50</td>\n",
       "      <td>0.400</td>\n",
       "      <td>0.100</td>\n",
       "      <td>0.400</td>\n",
       "      <td>0.200</td>\n",
       "      <td>0.100</td>\n",
       "      <td>0.000</td>\n",
       "    </tr>\n",
       "    <tr>\n",
       "      <th>2</th>\n",
       "      <td>100</td>\n",
       "      <td>1.100</td>\n",
       "      <td>0.100</td>\n",
       "      <td>0.900</td>\n",
       "      <td>0.700</td>\n",
       "      <td>0.200</td>\n",
       "      <td>0.000</td>\n",
       "    </tr>\n",
       "    <tr>\n",
       "      <th>3</th>\n",
       "      <td>250</td>\n",
       "      <td>6.001</td>\n",
       "      <td>0.700</td>\n",
       "      <td>3.701</td>\n",
       "      <td>2.000</td>\n",
       "      <td>0.700</td>\n",
       "      <td>0.100</td>\n",
       "    </tr>\n",
       "    <tr>\n",
       "      <th>4</th>\n",
       "      <td>500</td>\n",
       "      <td>24.306</td>\n",
       "      <td>2.601</td>\n",
       "      <td>10.102</td>\n",
       "      <td>6.002</td>\n",
       "      <td>1.901</td>\n",
       "      <td>0.100</td>\n",
       "    </tr>\n",
       "    <tr>\n",
       "      <th>5</th>\n",
       "      <td>750</td>\n",
       "      <td>54.513</td>\n",
       "      <td>6.302</td>\n",
       "      <td>16.404</td>\n",
       "      <td>10.003</td>\n",
       "      <td>3.501</td>\n",
       "      <td>0.200</td>\n",
       "    </tr>\n",
       "    <tr>\n",
       "      <th>6</th>\n",
       "      <td>1000</td>\n",
       "      <td>99.625</td>\n",
       "      <td>12.203</td>\n",
       "      <td>49.612</td>\n",
       "      <td>6.801</td>\n",
       "      <td>6.102</td>\n",
       "      <td>0.200</td>\n",
       "    </tr>\n",
       "    <tr>\n",
       "      <th>7</th>\n",
       "      <td>5000</td>\n",
       "      <td>2693.277</td>\n",
       "      <td>308.678</td>\n",
       "      <td>423.006</td>\n",
       "      <td>43.511</td>\n",
       "      <td>138.235</td>\n",
       "      <td>1.600</td>\n",
       "    </tr>\n",
       "    <tr>\n",
       "      <th>8</th>\n",
       "      <td>7500</td>\n",
       "      <td>6434.418</td>\n",
       "      <td>694.975</td>\n",
       "      <td>921.432</td>\n",
       "      <td>76.619</td>\n",
       "      <td>196.550</td>\n",
       "      <td>2.501</td>\n",
       "    </tr>\n",
       "    <tr>\n",
       "      <th>9</th>\n",
       "      <td>10000</td>\n",
       "      <td>11271.537</td>\n",
       "      <td>1214.106</td>\n",
       "      <td>1832.261</td>\n",
       "      <td>97.724</td>\n",
       "      <td>289.372</td>\n",
       "      <td>3.501</td>\n",
       "    </tr>\n",
       "  </tbody>\n",
       "</table>\n",
       "</div>"
      ],
      "text/plain": [
       "   Input Size  BubbleSort  InsertionSort  Binary InsertionSort  MergeSort  \\\n",
       "0          10       0.000          0.000                 0.000      0.100   \n",
       "1          50       0.400          0.100                 0.400      0.200   \n",
       "2         100       1.100          0.100                 0.900      0.700   \n",
       "3         250       6.001          0.700                 3.701      2.000   \n",
       "4         500      24.306          2.601                10.102      6.002   \n",
       "5         750      54.513          6.302                16.404     10.003   \n",
       "6        1000      99.625         12.203                49.612      6.801   \n",
       "7        5000    2693.277        308.678               423.006     43.511   \n",
       "8        7500    6434.418        694.975               921.432     76.619   \n",
       "9       10000   11271.537       1214.106              1832.261     97.724   \n",
       "\n",
       "   BucketSort  Sorted  \n",
       "0       0.100   0.000  \n",
       "1       0.100   0.000  \n",
       "2       0.200   0.000  \n",
       "3       0.700   0.100  \n",
       "4       1.901   0.100  \n",
       "5       3.501   0.200  \n",
       "6       6.102   0.200  \n",
       "7     138.235   1.600  \n",
       "8     196.550   2.501  \n",
       "9     289.372   3.501  "
      ]
     },
     "execution_count": 195,
     "metadata": {},
     "output_type": "execute_result"
    }
   ],
   "source": [
    "df2 = pd.read_csv('data/avg_ten_runs.csv')\n",
    "df2"
   ]
  },
  {
   "cell_type": "code",
   "execution_count": 196,
   "metadata": {},
   "outputs": [
    {
     "data": {
      "text/html": [
       "<div>\n",
       "<style scoped>\n",
       "    .dataframe tbody tr th:only-of-type {\n",
       "        vertical-align: middle;\n",
       "    }\n",
       "\n",
       "    .dataframe tbody tr th {\n",
       "        vertical-align: top;\n",
       "    }\n",
       "\n",
       "    .dataframe thead th {\n",
       "        text-align: right;\n",
       "    }\n",
       "</style>\n",
       "<table border=\"1\" class=\"dataframe\">\n",
       "  <thead>\n",
       "    <tr style=\"text-align: right;\">\n",
       "      <th></th>\n",
       "      <th>count</th>\n",
       "      <th>mean</th>\n",
       "      <th>std</th>\n",
       "      <th>min</th>\n",
       "      <th>25%</th>\n",
       "      <th>50%</th>\n",
       "      <th>75%</th>\n",
       "      <th>max</th>\n",
       "    </tr>\n",
       "  </thead>\n",
       "  <tbody>\n",
       "    <tr>\n",
       "      <th>BubbleSort</th>\n",
       "      <td>10.0</td>\n",
       "      <td>2058.5177</td>\n",
       "      <td>3849.121056</td>\n",
       "      <td>0.0</td>\n",
       "      <td>2.32525</td>\n",
       "      <td>39.4095</td>\n",
       "      <td>2044.86400</td>\n",
       "      <td>11271.537</td>\n",
       "    </tr>\n",
       "    <tr>\n",
       "      <th>InsertionSort</th>\n",
       "      <td>10.0</td>\n",
       "      <td>223.9765</td>\n",
       "      <td>415.112691</td>\n",
       "      <td>0.0</td>\n",
       "      <td>0.25000</td>\n",
       "      <td>4.4515</td>\n",
       "      <td>234.55925</td>\n",
       "      <td>1214.106</td>\n",
       "    </tr>\n",
       "    <tr>\n",
       "      <th>Binary InsertionSort</th>\n",
       "      <td>10.0</td>\n",
       "      <td>325.7818</td>\n",
       "      <td>607.971191</td>\n",
       "      <td>0.0</td>\n",
       "      <td>1.60025</td>\n",
       "      <td>13.2530</td>\n",
       "      <td>329.65750</td>\n",
       "      <td>1832.261</td>\n",
       "    </tr>\n",
       "    <tr>\n",
       "      <th>MergeSort</th>\n",
       "      <td>10.0</td>\n",
       "      <td>24.3660</td>\n",
       "      <td>35.844597</td>\n",
       "      <td>0.1</td>\n",
       "      <td>1.02500</td>\n",
       "      <td>6.4015</td>\n",
       "      <td>35.13400</td>\n",
       "      <td>97.724</td>\n",
       "    </tr>\n",
       "    <tr>\n",
       "      <th>BucketSort</th>\n",
       "      <td>10.0</td>\n",
       "      <td>63.6761</td>\n",
       "      <td>105.926689</td>\n",
       "      <td>0.1</td>\n",
       "      <td>0.32500</td>\n",
       "      <td>2.7010</td>\n",
       "      <td>105.20175</td>\n",
       "      <td>289.372</td>\n",
       "    </tr>\n",
       "    <tr>\n",
       "      <th>Sorted</th>\n",
       "      <td>10.0</td>\n",
       "      <td>0.8202</td>\n",
       "      <td>1.266874</td>\n",
       "      <td>0.0</td>\n",
       "      <td>0.02500</td>\n",
       "      <td>0.1500</td>\n",
       "      <td>1.25000</td>\n",
       "      <td>3.501</td>\n",
       "    </tr>\n",
       "  </tbody>\n",
       "</table>\n",
       "</div>"
      ],
      "text/plain": [
       "                      count       mean          std  min      25%      50%  \\\n",
       "BubbleSort             10.0  2058.5177  3849.121056  0.0  2.32525  39.4095   \n",
       "InsertionSort          10.0   223.9765   415.112691  0.0  0.25000   4.4515   \n",
       "Binary InsertionSort   10.0   325.7818   607.971191  0.0  1.60025  13.2530   \n",
       "MergeSort              10.0    24.3660    35.844597  0.1  1.02500   6.4015   \n",
       "BucketSort             10.0    63.6761   105.926689  0.1  0.32500   2.7010   \n",
       "Sorted                 10.0     0.8202     1.266874  0.0  0.02500   0.1500   \n",
       "\n",
       "                             75%        max  \n",
       "BubbleSort            2044.86400  11271.537  \n",
       "InsertionSort          234.55925   1214.106  \n",
       "Binary InsertionSort   329.65750   1832.261  \n",
       "MergeSort               35.13400     97.724  \n",
       "BucketSort             105.20175    289.372  \n",
       "Sorted                   1.25000      3.501  "
      ]
     },
     "execution_count": 196,
     "metadata": {},
     "output_type": "execute_result"
    }
   ],
   "source": [
    "desc = (df2.describe()).transpose()\n",
    "desc.iloc[1:]"
   ]
  },
  {
   "cell_type": "markdown",
   "metadata": {},
   "source": [
    "From the summary statistics, it's easier to verify which algorithms perform best on different types of data. "
   ]
  },
  {
   "cell_type": "code",
   "execution_count": 197,
   "metadata": {},
   "outputs": [
    {
     "data": {
      "image/png": "[encoded data removed]",
      "text/plain": [
       "<Figure size 432x288 with 1 Axes>"
      ]
     },
     "metadata": {},
     "output_type": "display_data"
    }
   ],
   "source": [
    "ax = df2.plot(x='Input Size', y=['BubbleSort', 'InsertionSort', 'Binary InsertionSort', 'MergeSort', 'BucketSort', 'Sorted'])\n",
    "ax.set_ylabel(\"Time Elapsed (milliseconds)\");"
   ]
  },
  {
   "cell_type": "markdown",
   "metadata": {},
   "source": [
    "From this plot, it is obvious that BubbleSort is the least efficient sorting algorithm.\n",
    "\n",
    "Removing BubbleSort, I can get a better look at my other sorting algorithms."
   ]
  },
  {
   "cell_type": "code",
   "execution_count": 198,
   "metadata": {},
   "outputs": [
    {
     "data": {
      "image/png": "[encoded data removed]",
      "text/plain": [
       "<Figure size 432x288 with 1 Axes>"
      ]
     },
     "metadata": {},
     "output_type": "display_data"
    }
   ],
   "source": [
    "ax = df2.plot(x='Input Size', y=['InsertionSort', 'Binary InsertionSort', 'MergeSort', 'BucketSort', 'Sorted'])\n",
    "ax.set_ylabel(\"Time Elapsed (milliseconds)\");"
   ]
  },
  {
   "cell_type": "markdown",
   "metadata": {},
   "source": [
    "I was suprised to find that Binary Insertion Sort appears to be less efficient that traditional Insertion Sort for all input sizes."
   ]
  },
  {
   "cell_type": "markdown",
   "metadata": {},
   "source": [
    "## Summary"
   ]
  },
  {
   "cell_type": "markdown",
   "metadata": {},
   "source": [
    "* All the sorting algorithms I've investigated appear to work best on almost fully sorted data. This is desirable as we don't want to spend more time than necessary iterating through an already sorted array. However it is unlikely real world data will be almost fully sorted when it is passed to an algorithm\n",
    "* Benchmarking algorithms using the average of multiple runs, gives a better representation of how execution time increases with input size. I saw this particularly with the BucketSort algorithm.\n",
    "* Python's inbuilt sorting function, sorted(), is the best performaing sorting algorithm for all input sizes. "
   ]
  },
  {
   "cell_type": "code",
   "execution_count": null,
   "metadata": {},
   "outputs": [],
   "source": []
  },
  {
   "cell_type": "markdown",
   "metadata": {},
   "source": [
    "## References\n"
   ]
  },
  {
   "cell_type": "markdown",
   "metadata": {},
   "source": [
    "#### Documentation\n",
    "* [The Python Standard Library](https://docs.python.org/3/library/)\n",
    "> * [Time](https://docs.python.org/3/library/time.html) function, accessed 13th April 2019. \n",
    "> * [Reading and Writing CSV files](https://docs.python.org/3/library/csv.html), accessed 13th April 2019.\n",
    "* [Pandas Documentation]()\n",
    "> * [pandas.DataFrame](https://pandas.pydata.org/pandas-docs/stable/reference/api/pandas.DataFrame.html) function, accessed 13th April 2019."
   ]
  },
  {
   "cell_type": "markdown",
   "metadata": {},
   "source": [
    "#### Wikipedia Pages \n",
    "* [In-Place Algorithm](https://en.wikipedia.org/wiki/In-place_algorithm), accessed 25 April 2019.\n",
    "* [TimSort](https://en.wikipedia.org/wiki/Timsort), accessed 23 April 2019."
   ]
  },
  {
   "cell_type": "markdown",
   "metadata": {},
   "source": [
    "#### Other \n",
    "* [Binary Insertion Sort](https://www.geeksforgeeks.org/binary-insertion-sort/), page on geeksforgeeks.org, accessed 25 April 2019.\n",
    "* [Timsort: The Fastest sorting algorithm for real-world problems](https://dev.to/s_awdesh/timsort-fastest-sorting-algorithm-for-real-world-problems--2jhd), blog post by Awdesh, accessed 5 May 2019.\n",
    "* [Python: MergeSort algorithm explained](https://www.youtube.com/watch?v=Nso25TkBsYI), a Youtube tutorial by Joe James, accessed 5 May 2019.\n",
    "* [In-Place Algorithm](https://www.geeksforgeeks.org/in-place-algorithm/) page on geeksforgeeks.org, accessed 9 May 2019.\n",
    "* [Is there a way to mathematically prove stability in sorting Algorithms?](https://www.quora.com/Is-there-a-way-to-mathematically-prove-stability-in-sorting-algorithms), posted on quora.com, accessed 09 May 2019.\n",
    "* [TimSort](https://www.geeksforgeeks.org/timsort/) page on geeksforgeeks.org, accessed 10 May 2019.\n",
    "* [Log to the base 2 in Python](https://stackoverflow.com/questions/3719631/log-to-the-base-2-in-python) on stackoverflow, accesssed 10 May, 2019."
   ]
  }
 ],
 "metadata": {
  "kernelspec": {
   "display_name": "Python 3",
   "language": "python",
   "name": "python3"
  },
  "language_info": {
   "codemirror_mode": {
    "name": "ipython",
    "version": 3
   },
   "file_extension": ".py",
   "mimetype": "text/x-python",
   "name": "python",
   "nbconvert_exporter": "python",
   "pygments_lexer": "ipython3",
   "version": "3.6.5"
  }
 },
 "nbformat": 4,
 "nbformat_minor": 2
}
