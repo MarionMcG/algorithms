{
 "cells": [
  {
   "cell_type": "markdown",
   "metadata": {},
   "source": [
    "# An Investigation of Sorting Algorithms"
   ]
  },
  {
   "cell_type": "markdown",
   "metadata": {},
   "source": [
    "## Libraries"
   ]
  },
  {
   "cell_type": "code",
   "execution_count": 1,
   "metadata": {},
   "outputs": [],
   "source": [
    "import numpy as np # For randomly generating numbers\n",
    "import pandas as pd #For reading csv files, generating dataframes and plots for same\n",
    "import matplotlib.pyplot as plt\n",
    "import time"
   ]
  },
  {
   "cell_type": "markdown",
   "metadata": {},
   "source": [
    "## Introduction"
   ]
  },
  {
   "cell_type": "markdown",
   "metadata": {},
   "source": [
    "<b>A sorting algorithm arranges a list of items in some predetermined order.</b> \n",
    "\n",
    "For this investigation, I'm going to look at ordering discrete numerical elements, in ascending order, for smallest to biggest. Sorting is essentially a permutation of list elements, and does not alter any of the elements in the list. \n",
    "\n",
    "Much of early computing advancements focused on finding effective sorting methods. This is because sorting elements allow for a number of tasks to be completed quicker than in a list of unsorted items. It's essential in data analysis, when determining the maximum, minimum, median and inter-quartile range. Also, sorting is often a pre-processing step in search algorithms, allowing for more effective identification of specific or duplicate entries."
   ]
  },
  {
   "cell_type": "markdown",
   "metadata": {},
   "source": [
    "### Project Intentions \n",
    "\n",
    "In the course of this investigation, I will discuss and benchmark the following sorting algorithms:\n",
    "* Bubble Sort\n",
    "* Insertion Sort\n",
    "* Binary Insertion\n",
    "* Merge Sort\n",
    "* Bucket Sort\n",
    "\n",
    "I have chosen these sorting algorithms as they include examples of comparison and non-comparison based sorting algorithms, as well as iterative and recursive sorting algorithms. \n",
    "\n",
    "I will discuss these types of sorting algorithms with reference to the specific examples I have chosen, and plot their running time against the size of inputs. To more effectively compare these algorithms, I will also run each algorithm ten times for each input, and determine the average running time."
   ]
  },
  {
   "cell_type": "markdown",
   "metadata": {},
   "source": [
    "### Terminology\n",
    "\n",
    "* The **worst - case scenario** refers to an input that will result in the longest possible running time. In the case of sorting algorithms, this will sometimes refer to an input that is in reverse order, or already sorted. \n",
    "\n",
    "\n",
    "* With respect to duplicate entries, a **stable sorting algorithm** will preserve the order of duplicate entries while an **unstable sorting algorithm** will not. All of the sorting algorithms I've chosen to investigate are stable sorting algorithms. \n",
    "\n",
    "\n",
    "* An **in-place sorting algorithm** uses a fixed additional amount of working space, and is independent of it's input size. Another trait of an in-place algorithm is that the input is overwritten by the output.\n",
    "\n",
    "\n",
    "* **Space Complexity** of an algorithm is total space taken by the algorithm with respect to the input size. Space complexity includes both Auxiliary space and space used by input."
   ]
  },
  {
   "cell_type": "markdown",
   "metadata": {},
   "source": [
    "### Time Complexity\n",
    "\n",
    "When benchmarking algorithms, we are often concerned with how long it takes a function to execute. This is a complex question to answer and the answer varies considerabily based on the input size, the software been used, the programming language and the specifications machine running the program. \n",
    "\n",
    "Time Complexity is a way we can measure how the execution time increases as the input sizes increases. It is often estimated by counting the number of operations an algorithm has to perform before terminating, and assumes that the time taken and the number of operations won't differ by more than a constant value. It can be most simplistically described as a function which models the number of operations, given incrementally increasing input sizes. However in most instances, inputs with the same size can result in a different number of operations and have different execution times. As a result we may need to consider the worst case, best case and average case complexities to fully understand the limitations of an algorithm. \n",
    "\n",
    "Big O notation is a mathematical notation used to classify algorithms based on their worst case time complexity. \n",
    "* $O(n)$ describes an algorithm whose time complexity increases linearly and is proportionate to its input size. While some algorithms achieve $O(n)$ in best case scenarios it is unlikely to be achieved in average or worst cases.\n",
    "* $O(n^2)$ describes an algorithm whose time complexity is best modelled by a quadratic function. It is common in algorithms featuring nested iterations through a dataset. For example, an $O(n^2)$ algorithm would take approximately 64 steps to order a list of 8 elements. \n",
    "*  $O(nlogn)$, where log refers to the binary logarithm, describes a more effective sorting algorithm. This algorithm would take only 24 steps to order a list of 8 elements, as $8(log8) = 24$.\n",
    "\n",
    "So let's look at some examples of these three types of functions."
   ]
  },
  {
   "cell_type": "code",
   "execution_count": 2,
   "metadata": {},
   "outputs": [
    {
     "data": {
      "image/png": "[encoded data removed]",
      "text/plain": [
       "<Figure size 648x432 with 1 Axes>"
      ]
     },
     "metadata": {},
     "output_type": "display_data"
    }
   ],
   "source": [
    "num = range(1, 100, 1)\n",
    "f = plt.subplots(figsize = (9, 6))\n",
    "x = [(n) for n in num]\n",
    "plt.plot(num, x,  label = 'Linear')\n",
    "y = [(n**2)/20 for n in num]\n",
    "plt.plot(num, y,  label = 'Quadratic')\n",
    "z = [(2*(np.log2(n))) for n in num]\n",
    "plt.plot(num, z,  label = 'Logarithmic')\n",
    "plt.axis([0, 100, 0, 100])\n",
    "plt.legend();"
   ]
  },
  {
   "cell_type": "markdown",
   "metadata": {},
   "source": [
    "## Functions\n",
    "### Generating Data"
   ]
  },
  {
   "cell_type": "markdown",
   "metadata": {},
   "source": [
    "For the benchamrking process, I will need randomly generated arrays of increasing size, n. "
   ]
  },
  {
   "cell_type": "code",
   "execution_count": 3,
   "metadata": {},
   "outputs": [],
   "source": [
    "#Function used to generate random data\n",
    "def rand(n):\n",
    "    array = []\n",
    "    for i in range(0, n, 1): # for every integer between 1 and n\n",
    "        gen_rand= np.random.randint(0, 100) # generate a random number\n",
    "        array.append(gen_rand) # and add it to the array\n",
    "    return array"
   ]
  },
  {
   "cell_type": "markdown",
   "metadata": {},
   "source": [
    "For the purposes of discussing my sorting algorithms, I needed examples of data sets that are almost sorted, and datasets that were in reverse numerical order. I used the following functions to generate that data, as the use of in-place sorting algorithms meant that calling arrays as variables was not possible."
   ]
  },
  {
   "cell_type": "code",
   "execution_count": 4,
   "metadata": {},
   "outputs": [],
   "source": [
    "#Almost Sorted Data - 100 elements\n",
    "#Code to create a list of 99 ordered elements, and the 100th element out of order\n",
    "def data1():\n",
    "    x = [1, 2, 4, 5, 6, 7, 8, 9]\n",
    "    y = np.random.randint(0, 8, 1)\n",
    "    n = [10, 20, 10, 10, 10, 10, 10, 19]\n",
    "    data = np.concatenate([np.repeat(i, j) for i, j in zip(x, n)])\n",
    "    data = (np.concatenate([data, y])).tolist()\n",
    "    return data"
   ]
  },
  {
   "cell_type": "code",
   "execution_count": 18,
   "metadata": {},
   "outputs": [],
   "source": [
    "#Almost Sorted Data - 1000 elements\n",
    "#Code to create a list of 999 ordered elements, and the 1000th element out of order\n",
    "def data2():\n",
    "    x = [1, 2, 4, 5, 6, 7, 8, 9]\n",
    "    y = np.random.randint(0, 8, 1)\n",
    "    n = [100, 200, 100, 100, 100, 100, 100, 199]\n",
    "    data2 = np.concatenate([np.repeat(i, j) for i, j in zip(x, n)])\n",
    "    data2 = (np.concatenate([data2, y])).tolist()\n",
    "    return data2"
   ]
  },
  {
   "cell_type": "code",
   "execution_count": 19,
   "metadata": {},
   "outputs": [],
   "source": [
    "#Data in reverse order - 1000 elements\n",
    "def data3():\n",
    "    x = [9,8,7,6,5,4,3,2]\n",
    "    n = [100, 200, 100, 100, 100, 100, 100, 200]\n",
    "    data3 = np.concatenate([np.repeat(i, j) for i, j in zip(x, n)])\n",
    "    data3 = data3.tolist()\n",
    "    return data3"
   ]
  },
  {
   "cell_type": "markdown",
   "metadata": {},
   "source": [
    "### Benchmarking Functions"
   ]
  },
  {
   "cell_type": "markdown",
   "metadata": {},
   "source": [
    "For the purposes of this investigation, I will compare algorithms running time on one run through a list of increasing input sizes, using compare_all()."
   ]
  },
  {
   "cell_type": "code",
   "execution_count": 7,
   "metadata": {},
   "outputs": [],
   "source": [
    "#Inputs random array to each function ONLY ONCE\n",
    "#Returns running time in milliseconds\n",
    "def compare_all():\n",
    "    array_1 = []    \n",
    "    rand_size = [10, 50, 100, 250, 500, 750, 1000, 5000, 7500, 10000]\n",
    "    functions = [bubbleSort, insertion_sort, bininsertionSort, mergeSort, bucketSort, sorted]\n",
    "    \n",
    "    for func in functions: #For every function\n",
    "        for i in rand_size: #For every input size i\n",
    "                size = rand(i) #generate a random array of i values\n",
    "                start = time.time()\n",
    "                func(size) #pass the array to the function\n",
    "                end = time.time()\n",
    "                clock = round(((end - start)*1000), 3) #running time in milliseconds\n",
    "                array_1.append(clock) #Add running time value to array_1\n",
    "\n",
    "    df = pd.DataFrame({'Input Size': rand_size, \n",
    "                       'BubbleSort': array_1[slice(0, 10, 1)], \n",
    "                       'InsertionSort': array_1[slice(10, 20, 1)], \n",
    "                       'Binary InsertionSort': array_1[slice(20, 30, 1)], \n",
    "                       'MergeSort':array_1[slice(30, 40, 1)], \n",
    "                       'BucketSort':array_1[slice(40, 50, 1)], \n",
    "                       'Sorted':array_1[slice(50, 60, 1)]})\n",
    "    \n",
    "    df.to_csv(\"data/run_once.csv\", index=False)"
   ]
  },
  {
   "cell_type": "markdown",
   "metadata": {},
   "source": [
    "I will then look at each algorithms running time as an averge of ten runs. This should give me more accurate results, and a better understanding of the need for benchmarking in algorithmic analysis."
   ]
  },
  {
   "cell_type": "code",
   "execution_count": 8,
   "metadata": {},
   "outputs": [],
   "source": [
    "#Input an array with 100 values\n",
    "#Returns the mean of every 10 values, as an array\n",
    "def mean_array(the_array):\n",
    "    average_time = []\n",
    "    y1 = np.mean(the_array[slice(0, 10, 1)])\n",
    "    y2 = np.mean(the_array[slice(10, 20, 1)])\n",
    "    y3 = np.mean(the_array[slice(20, 30, 1)])\n",
    "    y4 = np.mean(the_array[slice(30, 40, 1)])\n",
    "    y5 = np.mean(the_array[slice(40, 50, 1)])\n",
    "    y6 = np.mean(the_array[slice(50, 60, 1)])\n",
    "    y7 = np.mean(the_array[slice(60, 70, 1)])\n",
    "    y8 = np.mean(the_array[slice(70, 80, 1)])\n",
    "    y9 = np.mean(the_array[slice(80, 90, 1)])\n",
    "    y10 =np.mean(the_array[slice(90, 100, 1)])\n",
    "    \n",
    "    results = [y1, y2, y3, y4, y5, y6, y7, y8, y9, y10]\n",
    "    return results"
   ]
  },
  {
   "cell_type": "code",
   "execution_count": 9,
   "metadata": {},
   "outputs": [],
   "source": [
    "#Inputs each random array to each function ten times\n",
    "#Returns average running time in milliseconds\n",
    "def bench_ten_runs():\n",
    "    results=[]\n",
    "    average_time = []\n",
    "    final_array= []\n",
    "    num_runs = 10\n",
    "    rand_size = [10, 50, 100, 250, 500, 750, 1000, 5000, 7500, 10000]\n",
    "    functions = [bubbleSort, insertion_sort, bininsertionSort, mergeSort, bucketSort, sorted]\n",
    "    \n",
    "  \n",
    "    for func in functions: #For each function\n",
    "        for i in rand_size: #input a value\n",
    "            size = rand(i) \n",
    "            for r in range(num_runs):#ten times\n",
    "                start = time.time()\n",
    "                func(size) \n",
    "                end = time.time()\n",
    "                clock = (end - start)*1000\n",
    "                results.append(clock)  # Add time elapsed to array results\n",
    "        average_time = mean_array(results) # Find average time, for each i in rand_size\n",
    "        average_time = np.round(average_time, 3) # Round result to 3 dps\n",
    "        final_array.append(average_time) # Append to final_array\n",
    "        average_time = [] #set both average_time\n",
    "        results=[]  #and results to [], before passing through the next function\n",
    "        \n",
    "    df4 = pd.DataFrame({'Input Size': rand_size, 'BubbleSort': final_array[0], \n",
    "                       'InsertionSort': final_array[1], 'Binary InsertionSort': final_array[2], \n",
    "                             'MergeSort':final_array[3], 'BucketSort':final_array[4], 'Sorted':final_array[5]})\n",
    "    \n",
    "    df4.to_csv(\"data/avg_ten_runs.csv\", index=False)"
   ]
  },
  {
   "cell_type": "markdown",
   "metadata": {},
   "source": [
    "## Discussion of Sorting Algorithms"
   ]
  },
  {
   "cell_type": "markdown",
   "metadata": {},
   "source": [
    "### Bubble Sort"
   ]
  },
  {
   "cell_type": "markdown",
   "metadata": {},
   "source": [
    "Bubble Sort is a simple comparison based sorting algorithm, that uses iteration to sort the input. It compares every number to it's adjacent number(s), and returns the larger number of the two, in the position with the larger index. It continues this process multiple times, looping through the array, until the set is fully sorted. \n",
    "\n",
    "Let's look at an example."
   ]
  },
  {
   "cell_type": "markdown",
   "metadata": {},
   "source": [
    "<img src=\"https://www.w3resource.com/w3r_images/bubble-short.png\" style=\"width: 600px;\" />"
   ]
  },
  {
   "cell_type": "markdown",
   "metadata": {},
   "source": [
    "In the example above, it could be argued that the list of five numbers is already partially sorted before we run the algorithm. The largest value 8 has the largest index. In the first pass, my algorithm compares four pairs of numbers, or $(n-1)$ values, swapping where necessary. As a result, the second largest number ends up in the second last position. \n",
    "\n",
    "One value has now been sorted to the correct position. In the next pass, my algorithm will compare $(n-2)$ values, swapping where necessary. In this example, it takes 3 passes to sort the input. However in the worse case scenario, if the largest value was at index 0, it would take $(n)$ passes. \n",
    "\n",
    "So in the worst case scenario, my algorithm would compare $(n-1)$ pairs of numbers, $(n)$ times. The algorithm would also perform a number of swaps, but this would be approximated by a linear term. Big O Notation is concerned only with the highest degree of the polynomial that models runtime. The highest degree of the polynomial will determine the rate of growth of the function, as the input size n gets very large. I can disregard the term approximating the number of swaps, as I can already see that my polynomial is of degree 2.\n",
    "\n",
    "In Bubble Sort, the number of operations the algorithm performs can be approximated by $(n)(n-1)$, giving us a $O(n^2)$ time complexity. I expect that in small sets BubbleSort will work very well, but with larger input sizes it will take considerably longer to run. BubbleSort is also more effective at sorting lists that are almost sorted. It can be modified to stop early if it finds that the list has become sorted, and in that case it could have a running time of $O(n)$. However that is the best case scenario, where the input is almost sorted list. "
   ]
  },
  {
   "cell_type": "code",
   "execution_count": 10,
   "metadata": {},
   "outputs": [],
   "source": [
    "def bubbleSort(alist):\n",
    "    for passnum in range(len(alist)-1,0,-1): \n",
    "        for i in range(passnum): #Goes through a list from last value to first\n",
    "            if alist[i]>alist[i+1]: # Compares every value to value on its left\n",
    "                temp = alist[i]  \n",
    "                alist[i] = alist[i+1] \n",
    "                alist[i+1] = temp #Swaps two values, if needed, so the larger value has the larger index                \n",
    "# Reference: interactivepython.org/runestone/static/pythonds/SortSearch/TheBubbleSort.html, accessed 13th April 2019."
   ]
  },
  {
   "cell_type": "markdown",
   "metadata": {},
   "source": [
    "Bubble sort is a stable sort with a space complexity of $O(1)$, because only a single additional memory space is required i.e. for temp variable. \n",
    "\n",
    "Let's input a small list of random integers and see how bubbleSort behaves."
   ]
  },
  {
   "cell_type": "code",
   "execution_count": 11,
   "metadata": {},
   "outputs": [
    {
     "data": {
      "text/plain": [
       "[49, 61, 60, 0, 94, 1, 39, 83, 96, 47]"
      ]
     },
     "execution_count": 11,
     "metadata": {},
     "output_type": "execute_result"
    }
   ],
   "source": [
    "mylist = rand(10)\n",
    "mylist"
   ]
  },
  {
   "cell_type": "code",
   "execution_count": 12,
   "metadata": {},
   "outputs": [],
   "source": [
    "bubbleSort(mylist)"
   ]
  },
  {
   "cell_type": "code",
   "execution_count": 13,
   "metadata": {},
   "outputs": [
    {
     "data": {
      "text/plain": [
       "[0, 1, 39, 47, 49, 60, 61, 83, 94, 96]"
      ]
     },
     "execution_count": 13,
     "metadata": {},
     "output_type": "execute_result"
    }
   ],
   "source": [
    "mylist"
   ]
  },
  {
   "cell_type": "markdown",
   "metadata": {},
   "source": [
    "When we pass a random list of 10 numbers to bubbleSort, the function doesn't return a sorted list, because I haven't specified that it should. Instead I can call the input mylist, after running bubbleSort, and the sorted list will be returned. In this way, bubbleSort overwrites the original input with the sorted list. It is an in-place sorting algorithm. \n",
    "\n",
    "Now that we've determined the function is working let's look at how it performs with almost fully sorted lists. First I will compare BubbleSort's performance on lists with 100 elements. The first list contains random elements and is unsorted, while the second list has only one element out of order"
   ]
  },
  {
   "cell_type": "code",
   "execution_count": 14,
   "metadata": {},
   "outputs": [
    {
     "data": {
      "text/plain": [
       "2.999"
      ]
     },
     "execution_count": 14,
     "metadata": {},
     "output_type": "execute_result"
    }
   ],
   "source": [
    "start =time.time()\n",
    "bubbleSort(rand(100)) #100 random variables\n",
    "end = time.time()\n",
    "np.round((end - start)* 1000, 3)"
   ]
  },
  {
   "cell_type": "code",
   "execution_count": 15,
   "metadata": {},
   "outputs": [
    {
     "data": {
      "text/plain": [
       "2.0"
      ]
     },
     "execution_count": 15,
     "metadata": {},
     "output_type": "execute_result"
    }
   ],
   "source": [
    "start =time.time()\n",
    "bubbleSort(data1()) #A list of 100 values almost fully sorted\n",
    "end = time.time()\n",
    "np.round((end - start)* 1000, 3)"
   ]
  },
  {
   "cell_type": "markdown",
   "metadata": {},
   "source": [
    "It looks like BubbleSort is more efficient with almost fully sorted lists. Let's see if that's still the case when we have 1000 elements. Again the first input is random, the second has only one element out of order, and my third input is in reverse order."
   ]
  },
  {
   "cell_type": "code",
   "execution_count": 16,
   "metadata": {},
   "outputs": [
    {
     "data": {
      "text/plain": [
       "202.045"
      ]
     },
     "execution_count": 16,
     "metadata": {},
     "output_type": "execute_result"
    }
   ],
   "source": [
    "start =time.time()\n",
    "bubbleSort(rand(1000)) #1000 random variables\n",
    "end = time.time()\n",
    "np.round((end - start)* 1000, 3)"
   ]
  },
  {
   "cell_type": "code",
   "execution_count": 20,
   "metadata": {},
   "outputs": [
    {
     "data": {
      "text/plain": [
       "95.02"
      ]
     },
     "execution_count": 20,
     "metadata": {},
     "output_type": "execute_result"
    }
   ],
   "source": [
    "start =time.time()\n",
    "bubbleSort(data2()) #A list of 1000 values almost fully sorted\n",
    "end = time.time()\n",
    "np.round((end - start)* 1000, 3)"
   ]
  },
  {
   "cell_type": "code",
   "execution_count": 21,
   "metadata": {},
   "outputs": [
    {
     "data": {
      "text/plain": [
       "261.062"
      ]
     },
     "execution_count": 21,
     "metadata": {},
     "output_type": "execute_result"
    }
   ],
   "source": [
    "start =time.time()\n",
    "bubbleSort(data3()) #A list of 1000 values in reverse order\n",
    "end = time.time()\n",
    "np.round((end - start)* 1000, 3)"
   ]
  },
  {
   "cell_type": "markdown",
   "metadata": {},
   "source": [
    "While bubbleSort is more efficient with almost sorted arrays, it is inefficient with an array in reverse order. "
   ]
  },
  {
   "cell_type": "markdown",
   "metadata": {},
   "source": [
    "### Insertion Sort vs. Binary Insertion Sort"
   ]
  },
  {
   "cell_type": "markdown",
   "metadata": {},
   "source": [
    "Insertion Sort is another comparison based sorting algorithm that used an iterative method. Insertion Sort takes an unsorted list and compares every element to every element preceding it. It swaps as necessary until list is sorted. \n",
    "\n",
    "In the example below, I'm sorting the set $9, 7, 6, 15, 17, 5, 10, 11$\n",
    "\n",
    "The first comparison occurs when I compare the second element, 7, with the first element 9. 7 is less than 9, so we swap them. Then we are comparing the element at index 3 to all the preceeding elements. 6 is less than 9 so the elements are swapped, and the same operation happens when 6 is compared with 7. Now the current value is 15, and it is compared to 9. As 15 is greater than 9, the elements are not swapped, and no other comparisons are needed. \n",
    "\n",
    "The algorithm continues this process until it has compared the last element of the array to the preceeding elements, and placed it in the correct position. \n",
    "\n"
   ]
  },
  {
   "cell_type": "markdown",
   "metadata": {},
   "source": [
    "<img src=\"https://cdncontribute.geeksforgeeks.org/wp-content/uploads/insertion_sort-recursion.png\" style=\"width: 300px;\" />"
   ]
  },
  {
   "cell_type": "markdown",
   "metadata": {},
   "source": [
    "Insertion Sort maintains a sorted list to the left of the element it's currently comparing, and an unsorted list to the right. \n",
    "\n",
    "My example above, is not the worst case. There are some instances where the algorithm terminates early, finding the correct index for a number without having to check every single element of it's already sorted list. In the worse case, if an input was in reverse order, it would have to compare each element with every preceding number in the sorted list. "
   ]
  },
  {
   "cell_type": "markdown",
   "metadata": {},
   "source": [
    "This sorting algorithm makes $(1 + 2 + 3 + 4 + 5 + 6 + ... + n-1)$ comparisons in the worst case. \n",
    "\n",
    "It will also complete $(n-1 + ... + 5 + 4+ 3+ 2+ 1)$ swaps. \n",
    "\n",
    "Both of these expression are series, the sum of a sequence of numbers, in this case consecutive numbers. \n",
    "\n",
    "Based on Gauss's formula, where the sum of a series is $ \\frac{1}{2} (n\\ (n-1) )$, Insertion Sort will make  $\\frac{1}{2}(n-1)(n-2)$ comparison and the same number of swaps. \n",
    "\n",
    "So its time complexity would be approximated by $(n-1)(n-2)$ \n",
    "\n",
    "This implies that the function will have $O(n^2)$ time complexity, similar to BubbleSort. This is also implied by the structure of the algorithm, which contains two nested loops below. "
   ]
  },
  {
   "cell_type": "code",
   "execution_count": 22,
   "metadata": {},
   "outputs": [],
   "source": [
    "def insertion_sort(alist):\n",
    "    for index in range(1,len(alist)): #for every element in alist\n",
    "        currentvalue = alist[index] \n",
    "        position = index \n",
    "\n",
    "        while position>0 and alist[position-1]>currentvalue: #Until we reach the first value, if the preceding value is bigger \n",
    "            alist[position]=alist[position-1] \n",
    "            position = position-1 \n",
    "\n",
    "            alist[position]=currentvalue #then swap the values and their indexes\n"
   ]
  },
  {
   "cell_type": "code",
   "execution_count": 23,
   "metadata": {},
   "outputs": [
    {
     "data": {
      "text/plain": [
       "[6, 73, 17, 97, 95, 36, 41, 52, 52, 29]"
      ]
     },
     "execution_count": 23,
     "metadata": {},
     "output_type": "execute_result"
    }
   ],
   "source": [
    "mylist = rand(10)\n",
    "mylist"
   ]
  },
  {
   "cell_type": "code",
   "execution_count": 24,
   "metadata": {},
   "outputs": [
    {
     "data": {
      "text/plain": [
       "[6, 17, 29, 36, 41, 52, 52, 73, 95, 97]"
      ]
     },
     "execution_count": 24,
     "metadata": {},
     "output_type": "execute_result"
    }
   ],
   "source": [
    "insertion_sort(mylist)\n",
    "mylist"
   ]
  },
  {
   "cell_type": "markdown",
   "metadata": {},
   "source": [
    "Like BubbleSort, Insertion Sort is an inplace sorting algorithm, overwiting the original input with the sorted array. \n",
    "\n",
    "In the examples below, it also appears to work best on data that is close to been sorted. "
   ]
  },
  {
   "cell_type": "code",
   "execution_count": 25,
   "metadata": {},
   "outputs": [
    {
     "data": {
      "text/plain": [
       "2.001"
      ]
     },
     "execution_count": 25,
     "metadata": {},
     "output_type": "execute_result"
    }
   ],
   "source": [
    "start =time.time()\n",
    "insertion_sort(rand(100)) #100 random variables\n",
    "end = time.time()\n",
    "np.round((end - start)* 1000, 3)"
   ]
  },
  {
   "cell_type": "code",
   "execution_count": 26,
   "metadata": {},
   "outputs": [
    {
     "data": {
      "text/plain": [
       "0.997"
      ]
     },
     "execution_count": 26,
     "metadata": {},
     "output_type": "execute_result"
    }
   ],
   "source": [
    "start =time.time()\n",
    "insertion_sort(data1()) #100 almost sorted\n",
    "end = time.time()\n",
    "np.round((end - start)* 1000, 3)"
   ]
  },
  {
   "cell_type": "markdown",
   "metadata": {},
   "source": [
    "I will again input three different lists to InsertionSort and look at the time taken to sort them. The first input will be a set of 1000 randomly generated elements, and the second will be a list of 1000 elements with only one out of order. The third input will be a list of 1000 elements in reverse order, which I expect to be the worst case time complexity for Insertion Sort."
   ]
  },
  {
   "cell_type": "code",
   "execution_count": 27,
   "metadata": {},
   "outputs": [
    {
     "data": {
      "text/plain": [
       "130.029"
      ]
     },
     "execution_count": 27,
     "metadata": {},
     "output_type": "execute_result"
    }
   ],
   "source": [
    "start =time.time()\n",
    "insertion_sort(rand(1000)) #1000 random variables\n",
    "end = time.time()\n",
    "np.round((end - start)* 1000, 3)"
   ]
  },
  {
   "cell_type": "code",
   "execution_count": 28,
   "metadata": {},
   "outputs": [
    {
     "data": {
      "text/plain": [
       "0.996"
      ]
     },
     "execution_count": 28,
     "metadata": {},
     "output_type": "execute_result"
    }
   ],
   "source": [
    "start =time.time()\n",
    "insertion_sort(data2()) #1000 almost sorted\n",
    "end = time.time()\n",
    "np.round((end - start)* 1000, 3)"
   ]
  },
  {
   "cell_type": "code",
   "execution_count": 29,
   "metadata": {},
   "outputs": [
    {
     "data": {
      "text/plain": [
       "214.048"
      ]
     },
     "execution_count": 29,
     "metadata": {},
     "output_type": "execute_result"
    }
   ],
   "source": [
    "start =time.time()\n",
    "insertion_sort(data3()) #1000 in reverse order\n",
    "end = time.time()\n",
    "np.round((end - start)* 1000, 3)"
   ]
  },
  {
   "cell_type": "markdown",
   "metadata": {},
   "source": [
    "As expected, Insertion Sort performs best on almost fully sorted lists, and is as inefficient as BubbleSort in other cases. It iterates through the set linearly comparing each value to other values in the set, and this approach while it's easy to understand is labor intensive.\n",
    "\n",
    "A variation of insertion sort is **Binary Insertion Sort**. This combines the insertion sort process with a binary search algorithm, and results in fewer comparisons having to be made. Binary Search acts upon already sorted sets. As a result, it is uniquely suited to the Insertion Sort process, where the elements to the left of the item been sorted, are already sorted in order from smallest to biggest. \n",
    "\n",
    "In this way, the binary search algorithm can find the correct positon for a new element, without comparing it to all previous elements. Even before calculating the Big O Notation, I believe that this should be a more efficient sorting method. "
   ]
  },
  {
   "cell_type": "markdown",
   "metadata": {},
   "source": [
    "In the worst case, Binary Search makes $log(n)$ comparisons which implies better efficiency. My research suggests that Binary Insertion Sort will actually have $O(n^2)$ time complexity. I will use the benchmarking process to examine the differences between these two sorting algorithms in more detail. I hope it will help me understanding why a seemingly more efficient algorithm has the same time complexity, and what that means for it's implementation."
   ]
  },
  {
   "cell_type": "code",
   "execution_count": 30,
   "metadata": {},
   "outputs": [],
   "source": [
    "#Takes a new item, and return the appropriate index for item in sorted array\n",
    "\n",
    "def binary_search(the_array, item, start, end): #Input is a sorted array, item to be place in array, start and end\n",
    "    \n",
    "    if start == end: # if there's only one item in the sorted array\n",
    "        if the_array[start] > item: # and start item is bigger than the new item\n",
    "            return start #return start (so the smaller number has index 0)\n",
    "        else:\n",
    "            return start + 1 #otherwise return start+1 (so the bigger number has index 1)\n",
    "        \n",
    "    if start > end: #at the last element of the array\n",
    "        return start #return the index of the last element\n",
    "\n",
    "    mid = round((start + end)/ 2) #Returns the mean of the range of indices \n",
    "    \n",
    "    # determine which side to search\n",
    "    if the_array[mid] < item: # if new item is less than the middle value\n",
    "        return binary_search(the_array, item, mid + 1, end) # search array of indices above mid\n",
    "\n",
    "    elif the_array[mid] > item:\n",
    "        return binary_search(the_array, item, start, mid - 1) # search array of indices below mid\n",
    "\n",
    "    else:\n",
    "        return mid # Otherwise mid = item, so return mid"
   ]
  },
  {
   "cell_type": "code",
   "execution_count": 31,
   "metadata": {},
   "outputs": [],
   "source": [
    "def bininsertionSort(the_array):\n",
    "        \n",
    "    l = len(the_array) #set l to the number of values in array\n",
    "    for index in range(1, l): #for every index\n",
    "        value = the_array[index] #value is equal to element in that position\n",
    "        pos = binary_search(the_array, value, 0, index - 1) #perform binary search to find the appropriate index for value\n",
    "        the_array = the_array[:pos] + [value] + the_array[pos:index] + the_array[index+1:]\n",
    "        \n",
    "    return the_array\n",
    "\n",
    "#Reference:http://interactivepython.org/courselib/static/pythonds/SortSearch/TheInsertionSort.html, accessed 13th April 2019.\n",
    "#Reference:http://skerritt.tech/blog/timsort/, accessed 13th April 2019."
   ]
  },
  {
   "cell_type": "code",
   "execution_count": 32,
   "metadata": {},
   "outputs": [
    {
     "data": {
      "text/plain": [
       "[37, 34, 15, 78, 14, 87, 39, 57, 68, 65]"
      ]
     },
     "execution_count": 32,
     "metadata": {},
     "output_type": "execute_result"
    }
   ],
   "source": [
    "mylist = rand(10)\n",
    "mylist"
   ]
  },
  {
   "cell_type": "code",
   "execution_count": 33,
   "metadata": {},
   "outputs": [
    {
     "data": {
      "text/plain": [
       "[14, 15, 34, 37, 39, 57, 65, 68, 78, 87]"
      ]
     },
     "execution_count": 33,
     "metadata": {},
     "output_type": "execute_result"
    }
   ],
   "source": [
    "bininsertionSort(mylist)"
   ]
  },
  {
   "cell_type": "markdown",
   "metadata": {},
   "source": [
    "I have returned the sorted list from the function in order to check the algorithm runs correctly, but this also highlights another difference between these two algorithms. Unlike Insertion Sort, this implementation of Binary Insertion Sort is not an inplace sorting algorithm. When I call the input mylist again, the unsorted input is returned. "
   ]
  },
  {
   "cell_type": "code",
   "execution_count": 34,
   "metadata": {},
   "outputs": [
    {
     "data": {
      "text/plain": [
       "[37, 34, 15, 78, 14, 87, 39, 57, 68, 65]"
      ]
     },
     "execution_count": 34,
     "metadata": {},
     "output_type": "execute_result"
    }
   ],
   "source": [
    "mylist"
   ]
  },
  {
   "cell_type": "markdown",
   "metadata": {},
   "source": [
    "When I pass two inputs of the same size, where one is almost sorted, there is no evidence that binary insertion sort runs faster on almost sorted lists."
   ]
  },
  {
   "cell_type": "code",
   "execution_count": 35,
   "metadata": {},
   "outputs": [
    {
     "data": {
      "text/plain": [
       "1.002"
      ]
     },
     "execution_count": 35,
     "metadata": {},
     "output_type": "execute_result"
    }
   ],
   "source": [
    "start =time.time()\n",
    "bininsertionSort(rand(100)) #100\n",
    "end = time.time()\n",
    "np.round((end - start)* 1000, 3)"
   ]
  },
  {
   "cell_type": "code",
   "execution_count": 36,
   "metadata": {},
   "outputs": [
    {
     "data": {
      "text/plain": [
       "0.999"
      ]
     },
     "execution_count": 36,
     "metadata": {},
     "output_type": "execute_result"
    }
   ],
   "source": [
    "start =time.time()\n",
    "bininsertionSort(data1()) #100\n",
    "end = time.time()\n",
    "np.round((end - start)* 1000, 3)"
   ]
  },
  {
   "cell_type": "markdown",
   "metadata": {},
   "source": [
    "However when I input sets of size 1000, there is more evidence that the algorithm, like BubbleSort and InsertionSort, runs faster when only one value is out of order. "
   ]
  },
  {
   "cell_type": "code",
   "execution_count": 37,
   "metadata": {},
   "outputs": [
    {
     "data": {
      "text/plain": [
       "39.006"
      ]
     },
     "execution_count": 37,
     "metadata": {},
     "output_type": "execute_result"
    }
   ],
   "source": [
    "start =time.time()\n",
    "bininsertionSort(rand(1000)) #100 random values\n",
    "end = time.time()\n",
    "np.round((end - start)* 1000, 3)"
   ]
  },
  {
   "cell_type": "code",
   "execution_count": 38,
   "metadata": {},
   "outputs": [
    {
     "data": {
      "text/plain": [
       "26.007"
      ]
     },
     "execution_count": 38,
     "metadata": {},
     "output_type": "execute_result"
    }
   ],
   "source": [
    "start =time.time()\n",
    "bininsertionSort(data2()) #100 values, with one out of order\n",
    "end = time.time()\n",
    "np.round((end - start)* 1000, 3)"
   ]
  },
  {
   "cell_type": "code",
   "execution_count": 39,
   "metadata": {},
   "outputs": [
    {
     "data": {
      "text/plain": [
       "21.003"
      ]
     },
     "execution_count": 39,
     "metadata": {},
     "output_type": "execute_result"
    }
   ],
   "source": [
    "start =time.time()\n",
    "bininsertionSort(data3()) #100 values in reverse order\n",
    "end = time.time()\n",
    "np.round((end - start)* 1000, 3)"
   ]
  },
  {
   "cell_type": "markdown",
   "metadata": {},
   "source": [
    "Binary Insertion Sort also appears to be more efficient that Insertion Sort, with quicker execution time for sorting random and reverse order lists. \n",
    "\n",
    "It is also the only sorting algorithm I've investigated so far that sorts reverse order sets faster than randomly ordered sets. Both BubbleSort and InsertionSort, were slower when sorting a reverse ordered list compared to a randomly ordered list."
   ]
  },
  {
   "cell_type": "markdown",
   "metadata": {},
   "source": [
    "### Merge Sort"
   ]
  },
  {
   "cell_type": "markdown",
   "metadata": {},
   "source": [
    "Merge Sort is known as a divide and conquer algorithm. It is a comparison based sorting algorithm, that uses recursion instead of itertion to sort the input. Merge Sort involves splitting an input into smaller subsets, before merging in the correct order. "
   ]
  },
  {
   "cell_type": "markdown",
   "metadata": {},
   "source": [
    "<img src=\"https://www.w3schools.in/wp-content/uploads/2016/09/Merge-Sort-Technique-1.png\" style=\"width: 400px;\" />"
   ]
  },
  {
   "cell_type": "markdown",
   "metadata": {},
   "source": [
    "In fact, merge sort keeps splitting the subsets until we have n lists of size 1. It merges these lists by comparing the elements at index 0 in two adjacent subsets, and the smaller of the two will have index 0, in the merged list. The algorithm should now have around $ \\frac{n}{2}$ lists of size 2.  If there is an odd number of elements then there will still be one subset of size 1 after the first merge.\n",
    "\n",
    "On it's next merge, the algorithm is working with larger lists but it begins by comparing the elements at index 0. Again the smallest item from both lists will be in the first position. The algorithm then compares the index 0 element that remains, to the value at index 1 in the other set. The smaller of the two is again added to the merged list. The algorithm now compares the item with the smallest index in one set, to the item with the smallest index in the other set, again adding the smaller of the two to the merged set. \n",
    "\n",
    "The algorithm continues to this process until the subset is merged. It continues to merge subsets until an ordered list of size n is returned.\n"
   ]
  },
  {
   "cell_type": "markdown",
   "metadata": {},
   "source": [
    "Mergesort's time complextity is equal to $n(logn)$, making it the most efficient sorting algorithm we've encountered so far. Given an input with size 8, mergesort would split the list into two lists of size 4. Then 4 lists of size 2 and finally 8 lists of size 1. \n",
    "Given f(n), a function for execution time based on input size, $f(n) = 8(n /8)$ "
   ]
  },
  {
   "cell_type": "markdown",
   "metadata": {},
   "source": [
    "Mergesort is a recursive algorithm, that calls MergeSort within itself, as you can see in the code example below. "
   ]
  },
  {
   "cell_type": "code",
   "execution_count": 40,
   "metadata": {},
   "outputs": [],
   "source": [
    "def mergeSort(alist):\n",
    "\n",
    "    if len(alist)>1: #If there's more than one element\n",
    "        mid = len(alist)//2 #get the middle index\n",
    "        lefthalf = alist[:mid] #lower subarray is below mid\n",
    "        righthalf = alist[mid:] #upper subarray is above mid\n",
    "\n",
    "        mergeSort(lefthalf) \n",
    "        mergeSort(righthalf) #Pass both subarrays back into merge sort\n",
    "\n",
    "        i=0\n",
    "        j=0\n",
    "        k=0\n",
    "        while i < len(lefthalf) and j < len(righthalf): #until we've reached the end of ONE subarray\n",
    "            if lefthalf[i] < righthalf[j]: #if the ith number on left is less than the ith number on right\n",
    "                alist[k]=lefthalf[i] #the kth element of alist is the ith value in the lefthalf\n",
    "                i=i+1 #Next we'll compare the (i+1)th value on the left, to the ith value on the right \n",
    "            else:\n",
    "                alist[k]=righthalf[j] #otherwise the kth element of alist is the ith value in the righthalf\n",
    "                j=j+1#Next we'll compare the (i+1)th value on the right, to the ith value on the left \n",
    "            k=k+1 # +1 to k, as we're going to be looking at the next element next\n",
    "\n",
    "        while i < len(lefthalf): #if there's still one number in the lefthalf\n",
    "            alist[k]=lefthalf[i] #add it to alist\n",
    "            i=i+1\n",
    "            k=k+1\n",
    "\n",
    "        while j < len(righthalf): #if there's still one number in the righthalf \n",
    "            alist[k]=righthalf[j] #add it to alist\n",
    "            j=j+1\n",
    "            k=k+1\n",
    "        \n",
    "            \n",
    "#Reference: http://interactivepython.org/courselib/static/pythonds/SortSearch/TheMergeSort.html, accessed 13th April 2019."
   ]
  },
  {
   "cell_type": "code",
   "execution_count": 41,
   "metadata": {},
   "outputs": [
    {
     "data": {
      "text/plain": [
       "[65, 51, 75, 39, 89, 84, 81, 71, 25, 29]"
      ]
     },
     "execution_count": 41,
     "metadata": {},
     "output_type": "execute_result"
    }
   ],
   "source": [
    "mylist = rand(10)\n",
    "mylist"
   ]
  },
  {
   "cell_type": "code",
   "execution_count": 42,
   "metadata": {},
   "outputs": [],
   "source": [
    "mergeSort(mylist)"
   ]
  },
  {
   "cell_type": "code",
   "execution_count": 43,
   "metadata": {},
   "outputs": [
    {
     "data": {
      "text/plain": [
       "[25, 29, 39, 51, 65, 71, 75, 81, 84, 89]"
      ]
     },
     "execution_count": 43,
     "metadata": {},
     "output_type": "execute_result"
    }
   ],
   "source": [
    "mylist"
   ]
  },
  {
   "cell_type": "markdown",
   "metadata": {},
   "source": [
    "Merge Sort is an inplace sorting algorithm like Bubble Sort and Insertion Sort.  However MergeSort's space complexity is much larger than either of these algorithms, with $O(n)$ meaning that the memory required to run this algorithm increases linearly with input size. \n",
    "\n",
    "The MergeSort process means that the algorithms should perform in $O(n (logn))$ time regardless of input. Let's see if that's true with two input examples of size 100."
   ]
  },
  {
   "cell_type": "code",
   "execution_count": 191,
   "metadata": {},
   "outputs": [
    {
     "data": {
      "text/plain": [
       "1.0"
      ]
     },
     "execution_count": 191,
     "metadata": {},
     "output_type": "execute_result"
    }
   ],
   "source": [
    "start =time.time()\n",
    "mergeSort(rand(100)) #100 random variables\n",
    "end = time.time()\n",
    "np.round((end - start)* 1000, 3)"
   ]
  },
  {
   "cell_type": "code",
   "execution_count": 192,
   "metadata": {},
   "outputs": [
    {
     "data": {
      "text/plain": [
       "0.996"
      ]
     },
     "execution_count": 192,
     "metadata": {},
     "output_type": "execute_result"
    }
   ],
   "source": [
    "start =time.time()\n",
    "mergeSort(data1()) #100 random variables\n",
    "end = time.time()\n",
    "np.round((end - start)* 1000, 3)"
   ]
  },
  {
   "cell_type": "markdown",
   "metadata": {},
   "source": [
    "When I pass two lists of size 100 to mergeSort, where one is random and the second has only one element out of order, there is little evidence that mergeSort is more efficient on almost sorted lists.\n",
    "\n",
    "Let's try the same with lists of size 1000. Again the first input is random, the second input has one element out of order and the third is in reverse order."
   ]
  },
  {
   "cell_type": "code",
   "execution_count": 193,
   "metadata": {},
   "outputs": [
    {
     "data": {
      "text/plain": [
       "12.004"
      ]
     },
     "execution_count": 193,
     "metadata": {},
     "output_type": "execute_result"
    }
   ],
   "source": [
    "start =time.time()\n",
    "mergeSort(rand(1000)) #10,000 random variables\n",
    "end = time.time()\n",
    "np.round((end - start)* 1000, 3)"
   ]
  },
  {
   "cell_type": "code",
   "execution_count": 194,
   "metadata": {},
   "outputs": [
    {
     "data": {
      "text/plain": [
       "6.999"
      ]
     },
     "execution_count": 194,
     "metadata": {},
     "output_type": "execute_result"
    }
   ],
   "source": [
    "start =time.time()\n",
    "mergeSort(data2()) #1000 almost sorted\n",
    "end = time.time()\n",
    "np.round((end - start)* 1000, 3)"
   ]
  },
  {
   "cell_type": "code",
   "execution_count": 195,
   "metadata": {},
   "outputs": [
    {
     "data": {
      "text/plain": [
       "7.0"
      ]
     },
     "execution_count": 195,
     "metadata": {},
     "output_type": "execute_result"
    }
   ],
   "source": [
    "start =time.time()\n",
    "mergeSort(data3()) #1000 reverse order\n",
    "end = time.time()\n",
    "np.round((end - start)* 1000, 3)"
   ]
  },
  {
   "cell_type": "markdown",
   "metadata": {},
   "source": [
    "MergeSort should consistently achieve $Onlogn$ runtime regardless of input, but these small sample input imply that MergeSort may perform better with inputs that are almost sorted or in reverse order."
   ]
  },
  {
   "cell_type": "markdown",
   "metadata": {},
   "source": [
    "### Bucket Sort"
   ]
  },
  {
   "cell_type": "markdown",
   "metadata": {},
   "source": [
    "Bucket sort is a divide and conquer sorting algorithm, and it is the only non-comparison based sorting algorithm I will be investigating. It divides an inputted list into a number of buckets. You can think of these buckets as intervals or distributions. Each bucket is sorted individually and then the results are combined to form the sorted array. \n",
    "\n",
    "The sorting process can be done by applying a different sorting algorithm, or by recursively applying the bucket sorting algorithm. For the purposes of this investigation I am going to apply Insertion Sort. "
   ]
  },
  {
   "cell_type": "markdown",
   "metadata": {},
   "source": [
    "Given a list of numbers, $29$, $25$, $3$, $49$, $9$, $37$, $21$, $43$"
   ]
  },
  {
   "cell_type": "markdown",
   "metadata": {},
   "source": [
    "BubbleSort calculates the maximum, $(49)$, the length of the array $(8)$, and the size of the divisor is equal to the maximum divided by the length. In this example that will be $6.125$. Next the algorithm will create $8$ empty buckets. It then loops through the set dividing each element by the divisor to get the appropriate bucket and placing the item into it."
   ]
  },
  {
   "cell_type": "markdown",
   "metadata": {},
   "source": [
    "The first value it encounters is 29. As ```int(29/6) = 4```, the item is added to the bucket at index 4, which is in fact the fifth bucket. The next value 25 is placed in the same bucket. The number 3 is placed in the first bucket, as ```int(3/6.125) = 0.```\n",
    "Next the algorithm will encounter the maximum number in the array. ```int(49/6.125) = 8```, but we don't have a bucket at index 8. So bucketSort places this element in the seventh bucket.\n",
    "\n",
    "The algorithm continues until all elements are sorted into buckets."
   ]
  },
  {
   "cell_type": "markdown",
   "metadata": {},
   "source": [
    "<img src = 'imgs/bucketsort.jpg'>"
   ]
  },
  {
   "cell_type": "markdown",
   "metadata": {},
   "source": [
    "Each bucket is then passed to insertionSort, and the elements are sorted in ascending order. All that remains is to concatenate the elements of each bucket to an array in the order in which they appear, and the input is sorted."
   ]
  },
  {
   "cell_type": "markdown",
   "metadata": {},
   "source": [
    "Time complexity is $n^2$ in the worst case, and $n+k$ in the best and average, where $k$ is the number of buckets. "
   ]
  },
  {
   "cell_type": "code",
   "execution_count": 171,
   "metadata": {},
   "outputs": [],
   "source": [
    "def bucketSort(alist):\n",
    "    largest = max(alist) #Set max\n",
    "    length = len(alist) #Set input size = length\n",
    "    size = largest/length #Divide max by len to get range of buckets (size)\n",
    " \n",
    "    buckets = [[] for _ in range(length)] #Generate empty buckets\n",
    "    for i in range(length): # every i in alist\n",
    "        j = int(alist[i]/size) #divide by size\n",
    "        if j != length: #Unless j is equal to len\n",
    "            buckets[j].append(alist[i]) #add item i to bucket j\n",
    "        else: #if you get j equal to length, there is no bucket length\n",
    "            buckets[length - 1].append(alist[i]) #add to bucket (length -1)\n",
    " \n",
    "    for i in range(length):\n",
    "        insertion_sort(buckets[i]) # apply insertion sort\n",
    " \n",
    "    result = []\n",
    "    for i in range(length):\n",
    "        result = result + buckets[i] #concat buckets to results array in the order they appear\n",
    "    \n",
    "    return result\n",
    "\n",
    "#Reference: https://www.sanfoundry.com/python-program-implement-bucket-sort/, accessed 13th April 2019."
   ]
  },
  {
   "cell_type": "code",
   "execution_count": 70,
   "metadata": {},
   "outputs": [
    {
     "data": {
      "text/plain": [
       "[51, 39, 65, 58, 52, 53, 67, 83, 36, 32]"
      ]
     },
     "execution_count": 70,
     "metadata": {},
     "output_type": "execute_result"
    }
   ],
   "source": [
    "mylist = rand(10)\n",
    "mylist"
   ]
  },
  {
   "cell_type": "code",
   "execution_count": 51,
   "metadata": {},
   "outputs": [
    {
     "data": {
      "text/plain": [
       "[8, 12, 13, 19, 23, 53, 68, 79, 80, 99]"
      ]
     },
     "execution_count": 51,
     "metadata": {},
     "output_type": "execute_result"
    }
   ],
   "source": [
    "bucketSort(mylist)"
   ]
  },
  {
   "cell_type": "code",
   "execution_count": 52,
   "metadata": {},
   "outputs": [
    {
     "data": {
      "text/plain": [
       "[8, 23, 99, 19, 12, 68, 79, 13, 80, 53]"
      ]
     },
     "execution_count": 52,
     "metadata": {},
     "output_type": "execute_result"
    }
   ],
   "source": [
    "mylist"
   ]
  },
  {
   "cell_type": "markdown",
   "metadata": {},
   "source": [
    "Note that I returned the sorted array from my function as Bucket Sort is not an in-place sorting algorithm"
   ]
  },
  {
   "cell_type": "markdown",
   "metadata": {},
   "source": [
    "Bucket Sort, like Bubble Sort and Insertion Sort, has $O(n^2)$ time complexity. I would expect Bucket Sort to perform well given input rand(n), and I expect it to perform better than other $O(n^2)$ sorting algorithms. This is due to the fact that my inputs will be a uniformly distributed set of n elements in the range 0 to 100. Bucket Sort performs well on uniformly distributed elements over a range. "
   ]
  },
  {
   "cell_type": "markdown",
   "metadata": {},
   "source": [
    "Let's see how bucketSort performs on 100 random values versus 100 almost sorted values."
   ]
  },
  {
   "cell_type": "code",
   "execution_count": 172,
   "metadata": {},
   "outputs": [
    {
     "data": {
      "text/plain": [
       "3.0"
      ]
     },
     "execution_count": 172,
     "metadata": {},
     "output_type": "execute_result"
    }
   ],
   "source": [
    "start =time.time()\n",
    "bucketSort(rand(100))\n",
    "end = time.time()\n",
    "np.round((end - start)* 1000, 3)"
   ]
  },
  {
   "cell_type": "code",
   "execution_count": 173,
   "metadata": {},
   "outputs": [
    {
     "data": {
      "text/plain": [
       "0.998"
      ]
     },
     "execution_count": 173,
     "metadata": {},
     "output_type": "execute_result"
    }
   ],
   "source": [
    "start =time.time()\n",
    "bucketSort(data1())\n",
    "end = time.time()\n",
    "np.round((end - start)* 1000, 3)"
   ]
  },
  {
   "cell_type": "markdown",
   "metadata": {},
   "source": [
    "Unsurprisingly, it is noticeably quicker on an almost sorted array. This is probably due to the fact that my almost sorted data is more uniformly dense that my random data. \n",
    "\n",
    "\n",
    "I will now pass three input sets with 1000 elements, where one is random, one is almost sorted and the third is in reverse order. However, I have adapted the first input, so that my random data is as uniform as my almost sorted data."
   ]
  },
  {
   "cell_type": "code",
   "execution_count": 196,
   "metadata": {},
   "outputs": [
    {
     "data": {
      "text/plain": [
       "13.006"
      ]
     },
     "execution_count": 196,
     "metadata": {},
     "output_type": "execute_result"
    }
   ],
   "source": [
    "start =time.time()\n",
    "bucketSort(np.random.randint(0, 7, 1000)) #1000 random variables\n",
    "end = time.time()\n",
    "np.round((end - start)* 1000, 3)"
   ]
  },
  {
   "cell_type": "code",
   "execution_count": 197,
   "metadata": {},
   "outputs": [
    {
     "data": {
      "text/plain": [
       "4.998"
      ]
     },
     "execution_count": 197,
     "metadata": {},
     "output_type": "execute_result"
    }
   ],
   "source": [
    "start =time.time()\n",
    "bucketSort(data2()) #1000 almost sorted\n",
    "end = time.time()\n",
    "np.round((end - start)* 1000, 3)"
   ]
  },
  {
   "cell_type": "code",
   "execution_count": 198,
   "metadata": {},
   "outputs": [
    {
     "data": {
      "text/plain": [
       "3.999"
      ]
     },
     "execution_count": 198,
     "metadata": {},
     "output_type": "execute_result"
    }
   ],
   "source": [
    "start =time.time()\n",
    "bucketSort(data3()) #1000 in reverse order\n",
    "end = time.time()\n",
    "np.round((end - start)* 1000, 3)"
   ]
  },
  {
   "cell_type": "markdown",
   "metadata": {},
   "source": [
    "More uniformly dense data is sorted quicker using BucketSort, but the algorithm also works well on almost sorted data and lists in reverse order."
   ]
  },
  {
   "cell_type": "markdown",
   "metadata": {},
   "source": [
    "## Comparing Sorting Algorithms "
   ]
  },
  {
   "cell_type": "markdown",
   "metadata": {},
   "source": [
    "For the purposes of benchmarking my sorting algorithms, I will pass ten sets of randomly generated data to each once. I will be comparing BubbleSort, InsertionSort, Binary InsertionSort, MergeSort and BucketSort. "
   ]
  },
  {
   "cell_type": "code",
   "execution_count": 29,
   "metadata": {},
   "outputs": [],
   "source": [
    "compare_all() #Run function and create csv file with results"
   ]
  },
  {
   "cell_type": "code",
   "execution_count": 207,
   "metadata": {},
   "outputs": [
    {
     "data": {
      "text/html": [
       "<div>\n",
       "<style scoped>\n",
       "    .dataframe tbody tr th:only-of-type {\n",
       "        vertical-align: middle;\n",
       "    }\n",
       "\n",
       "    .dataframe tbody tr th {\n",
       "        vertical-align: top;\n",
       "    }\n",
       "\n",
       "    .dataframe thead th {\n",
       "        text-align: right;\n",
       "    }\n",
       "</style>\n",
       "<table border=\"1\" class=\"dataframe\">\n",
       "  <thead>\n",
       "    <tr style=\"text-align: right;\">\n",
       "      <th></th>\n",
       "      <th>Input Size</th>\n",
       "      <th>BubbleSort</th>\n",
       "      <th>InsertionSort</th>\n",
       "      <th>Binary InsertionSort</th>\n",
       "      <th>MergeSort</th>\n",
       "      <th>BucketSort</th>\n",
       "      <th>Sorted</th>\n",
       "    </tr>\n",
       "  </thead>\n",
       "  <tbody>\n",
       "    <tr>\n",
       "      <th>0</th>\n",
       "      <td>10</td>\n",
       "      <td>0.000</td>\n",
       "      <td>0.000</td>\n",
       "      <td>0.000</td>\n",
       "      <td>0.000</td>\n",
       "      <td>0.000</td>\n",
       "      <td>0.000</td>\n",
       "    </tr>\n",
       "    <tr>\n",
       "      <th>1</th>\n",
       "      <td>50</td>\n",
       "      <td>1.001</td>\n",
       "      <td>1.000</td>\n",
       "      <td>0.000</td>\n",
       "      <td>1.005</td>\n",
       "      <td>0.000</td>\n",
       "      <td>0.000</td>\n",
       "    </tr>\n",
       "    <tr>\n",
       "      <th>2</th>\n",
       "      <td>100</td>\n",
       "      <td>1.998</td>\n",
       "      <td>1.001</td>\n",
       "      <td>1.000</td>\n",
       "      <td>0.999</td>\n",
       "      <td>0.000</td>\n",
       "      <td>0.000</td>\n",
       "    </tr>\n",
       "    <tr>\n",
       "      <th>3</th>\n",
       "      <td>250</td>\n",
       "      <td>9.002</td>\n",
       "      <td>5.000</td>\n",
       "      <td>3.001</td>\n",
       "      <td>1.998</td>\n",
       "      <td>0.000</td>\n",
       "      <td>0.000</td>\n",
       "    </tr>\n",
       "    <tr>\n",
       "      <th>4</th>\n",
       "      <td>500</td>\n",
       "      <td>45.009</td>\n",
       "      <td>22.005</td>\n",
       "      <td>7.001</td>\n",
       "      <td>3.005</td>\n",
       "      <td>2.001</td>\n",
       "      <td>0.000</td>\n",
       "    </tr>\n",
       "    <tr>\n",
       "      <th>5</th>\n",
       "      <td>750</td>\n",
       "      <td>93.019</td>\n",
       "      <td>55.014</td>\n",
       "      <td>15.003</td>\n",
       "      <td>5.005</td>\n",
       "      <td>78.026</td>\n",
       "      <td>0.000</td>\n",
       "    </tr>\n",
       "    <tr>\n",
       "      <th>6</th>\n",
       "      <td>1000</td>\n",
       "      <td>157.039</td>\n",
       "      <td>104.027</td>\n",
       "      <td>23.009</td>\n",
       "      <td>9.999</td>\n",
       "      <td>5.999</td>\n",
       "      <td>1.002</td>\n",
       "    </tr>\n",
       "    <tr>\n",
       "      <th>7</th>\n",
       "      <td>5000</td>\n",
       "      <td>4163.049</td>\n",
       "      <td>2718.681</td>\n",
       "      <td>409.104</td>\n",
       "      <td>39.011</td>\n",
       "      <td>67.016</td>\n",
       "      <td>2.001</td>\n",
       "    </tr>\n",
       "    <tr>\n",
       "      <th>8</th>\n",
       "      <td>7500</td>\n",
       "      <td>9867.485</td>\n",
       "      <td>6331.597</td>\n",
       "      <td>917.225</td>\n",
       "      <td>61.016</td>\n",
       "      <td>153.043</td>\n",
       "      <td>2.000</td>\n",
       "    </tr>\n",
       "    <tr>\n",
       "      <th>9</th>\n",
       "      <td>10000</td>\n",
       "      <td>17245.342</td>\n",
       "      <td>11194.818</td>\n",
       "      <td>1574.399</td>\n",
       "      <td>102.025</td>\n",
       "      <td>246.063</td>\n",
       "      <td>3.999</td>\n",
       "    </tr>\n",
       "  </tbody>\n",
       "</table>\n",
       "</div>"
      ],
      "text/plain": [
       "   Input Size  BubbleSort  InsertionSort  Binary InsertionSort  MergeSort  \\\n",
       "0          10       0.000          0.000                 0.000      0.000   \n",
       "1          50       1.001          1.000                 0.000      1.005   \n",
       "2         100       1.998          1.001                 1.000      0.999   \n",
       "3         250       9.002          5.000                 3.001      1.998   \n",
       "4         500      45.009         22.005                 7.001      3.005   \n",
       "5         750      93.019         55.014                15.003      5.005   \n",
       "6        1000     157.039        104.027                23.009      9.999   \n",
       "7        5000    4163.049       2718.681               409.104     39.011   \n",
       "8        7500    9867.485       6331.597               917.225     61.016   \n",
       "9       10000   17245.342      11194.818              1574.399    102.025   \n",
       "\n",
       "   BucketSort  Sorted  \n",
       "0       0.000   0.000  \n",
       "1       0.000   0.000  \n",
       "2       0.000   0.000  \n",
       "3       0.000   0.000  \n",
       "4       2.001   0.000  \n",
       "5      78.026   0.000  \n",
       "6       5.999   1.002  \n",
       "7      67.016   2.001  \n",
       "8     153.043   2.000  \n",
       "9     246.063   3.999  "
      ]
     },
     "execution_count": 207,
     "metadata": {},
     "output_type": "execute_result"
    }
   ],
   "source": [
    "df = pd.read_csv('data/run_once.csv')\n",
    "df"
   ]
  },
  {
   "cell_type": "code",
   "execution_count": 201,
   "metadata": {},
   "outputs": [
    {
     "data": {
      "image/png": "[encoded data removed]",
      "text/plain": [
       "<Figure size 432x288 with 1 Axes>"
      ]
     },
     "metadata": {},
     "output_type": "display_data"
    }
   ],
   "source": [
    "ax = df.plot(x='Input Size', y=['BubbleSort', 'InsertionSort', 'Binary InsertionSort', 'MergeSort', 'BucketSort'])\n",
    "ax.set_ylabel(\"Time Elapsed (milliseconds)\");"
   ]
  },
  {
   "cell_type": "markdown",
   "metadata": {},
   "source": [
    "As expected BubbleSort and Insertion Sort, seem to most closely resemble quadratic functions. Binary Insertion Sort, performed marginally better than both of these algorithms. It also looks like MergeSort as expected.\n",
    "\n",
    "Let's look at just the three best performing algorithms."
   ]
  },
  {
   "cell_type": "code",
   "execution_count": 202,
   "metadata": {},
   "outputs": [
    {
     "data": {
      "image/png": "[encoded data removed]",
      "text/plain": [
       "<Figure size 432x288 with 1 Axes>"
      ]
     },
     "metadata": {},
     "output_type": "display_data"
    }
   ],
   "source": [
    "ax = df.plot(x='Input Size', y=['Binary InsertionSort', 'MergeSort', 'BucketSort'])\n",
    "ax.set_ylabel(\"Time Elapsed (milliseconds)\");"
   ]
  },
  {
   "cell_type": "markdown",
   "metadata": {},
   "source": [
    "In this plot, it is clearer that Binary Insertion Sort, while more effective than Bubble Sort and Insertion Sort, could still model a quadratic function. Merge Sort which I expected to have logarithmic complexity performed as expected. However Bucket Sort appears to be almost as efficient as MergeSort when the input size is small, but it's graph isn't what I expected. \n",
    "\n",
    "Looking only at graph of BucketSort's execution time:"
   ]
  },
  {
   "cell_type": "code",
   "execution_count": 23,
   "metadata": {},
   "outputs": [
    {
     "data": {
      "image/png": "[encoded data removed]",
      "text/plain": [
       "<Figure size 432x288 with 1 Axes>"
      ]
     },
     "metadata": {},
     "output_type": "display_data"
    }
   ],
   "source": [
    "ax = df.plot(x='Input Size', y=['BucketSort'])\n",
    "ax.set_ylabel(\"Time Elapsed (milliseconds)\");"
   ]
  },
  {
   "cell_type": "markdown",
   "metadata": {},
   "source": [
    "From this plot, it looks like Bucket Sort is less efficient with small input sizes. This is an unexpected result, but this result is based on only one run. By looking at how Bucket Sort performs over ten runs and getting the average execution time per run, I should get a better estimation of this algorithms performance. "
   ]
  },
  {
   "cell_type": "markdown",
   "metadata": {},
   "source": [
    "## Benchmarking Sorting Algorithms"
   ]
  },
  {
   "cell_type": "markdown",
   "metadata": {},
   "source": [
    "For the purposes of benchmarking my sorting algorithms, I will pass ten sets of randomly generated data to each function ten times. I will be use the same six algorithms from the previous comparison: BubbleSort, InsertionSort, Binary InsertionSort, MergeSort, BucketSort and Python's in-built Sorted function. "
   ]
  },
  {
   "cell_type": "code",
   "execution_count": 58,
   "metadata": {},
   "outputs": [],
   "source": [
    "bench_ten_runs() #Run function and create csv file with results"
   ]
  },
  {
   "cell_type": "code",
   "execution_count": 59,
   "metadata": {},
   "outputs": [
    {
     "data": {
      "text/html": [
       "<div>\n",
       "<style scoped>\n",
       "    .dataframe tbody tr th:only-of-type {\n",
       "        vertical-align: middle;\n",
       "    }\n",
       "\n",
       "    .dataframe tbody tr th {\n",
       "        vertical-align: top;\n",
       "    }\n",
       "\n",
       "    .dataframe thead th {\n",
       "        text-align: right;\n",
       "    }\n",
       "</style>\n",
       "<table border=\"1\" class=\"dataframe\">\n",
       "  <thead>\n",
       "    <tr style=\"text-align: right;\">\n",
       "      <th></th>\n",
       "      <th>Input Size</th>\n",
       "      <th>BubbleSort</th>\n",
       "      <th>InsertionSort</th>\n",
       "      <th>Binary InsertionSort</th>\n",
       "      <th>MergeSort</th>\n",
       "      <th>BucketSort</th>\n",
       "      <th>Sorted</th>\n",
       "    </tr>\n",
       "  </thead>\n",
       "  <tbody>\n",
       "    <tr>\n",
       "      <th>0</th>\n",
       "      <td>10</td>\n",
       "      <td>0.000</td>\n",
       "      <td>0.000</td>\n",
       "      <td>0.000</td>\n",
       "      <td>0.000</td>\n",
       "      <td>0.100</td>\n",
       "      <td>0.000</td>\n",
       "    </tr>\n",
       "    <tr>\n",
       "      <th>1</th>\n",
       "      <td>50</td>\n",
       "      <td>0.200</td>\n",
       "      <td>0.100</td>\n",
       "      <td>0.300</td>\n",
       "      <td>0.200</td>\n",
       "      <td>0.100</td>\n",
       "      <td>0.000</td>\n",
       "    </tr>\n",
       "    <tr>\n",
       "      <th>2</th>\n",
       "      <td>100</td>\n",
       "      <td>1.000</td>\n",
       "      <td>0.300</td>\n",
       "      <td>1.200</td>\n",
       "      <td>0.700</td>\n",
       "      <td>0.200</td>\n",
       "      <td>0.000</td>\n",
       "    </tr>\n",
       "    <tr>\n",
       "      <th>3</th>\n",
       "      <td>250</td>\n",
       "      <td>5.801</td>\n",
       "      <td>2.301</td>\n",
       "      <td>6.001</td>\n",
       "      <td>2.500</td>\n",
       "      <td>0.900</td>\n",
       "      <td>0.300</td>\n",
       "    </tr>\n",
       "    <tr>\n",
       "      <th>4</th>\n",
       "      <td>500</td>\n",
       "      <td>23.605</td>\n",
       "      <td>4.101</td>\n",
       "      <td>16.404</td>\n",
       "      <td>6.302</td>\n",
       "      <td>3.901</td>\n",
       "      <td>0.200</td>\n",
       "    </tr>\n",
       "    <tr>\n",
       "      <th>5</th>\n",
       "      <td>750</td>\n",
       "      <td>48.512</td>\n",
       "      <td>10.002</td>\n",
       "      <td>28.908</td>\n",
       "      <td>9.102</td>\n",
       "      <td>5.601</td>\n",
       "      <td>0.500</td>\n",
       "    </tr>\n",
       "    <tr>\n",
       "      <th>6</th>\n",
       "      <td>1000</td>\n",
       "      <td>89.623</td>\n",
       "      <td>20.705</td>\n",
       "      <td>52.113</td>\n",
       "      <td>15.004</td>\n",
       "      <td>9.102</td>\n",
       "      <td>0.500</td>\n",
       "    </tr>\n",
       "    <tr>\n",
       "      <th>7</th>\n",
       "      <td>5000</td>\n",
       "      <td>3259.121</td>\n",
       "      <td>513.729</td>\n",
       "      <td>789.199</td>\n",
       "      <td>80.520</td>\n",
       "      <td>142.236</td>\n",
       "      <td>5.001</td>\n",
       "    </tr>\n",
       "    <tr>\n",
       "      <th>8</th>\n",
       "      <td>7500</td>\n",
       "      <td>6244.172</td>\n",
       "      <td>1186.999</td>\n",
       "      <td>1614.907</td>\n",
       "      <td>123.631</td>\n",
       "      <td>377.895</td>\n",
       "      <td>5.702</td>\n",
       "    </tr>\n",
       "    <tr>\n",
       "      <th>9</th>\n",
       "      <td>10000</td>\n",
       "      <td>14209.777</td>\n",
       "      <td>1996.302</td>\n",
       "      <td>3073.374</td>\n",
       "      <td>168.442</td>\n",
       "      <td>817.806</td>\n",
       "      <td>6.001</td>\n",
       "    </tr>\n",
       "  </tbody>\n",
       "</table>\n",
       "</div>"
      ],
      "text/plain": [
       "   Input Size  BubbleSort  InsertionSort  Binary InsertionSort  MergeSort  \\\n",
       "0          10       0.000          0.000                 0.000      0.000   \n",
       "1          50       0.200          0.100                 0.300      0.200   \n",
       "2         100       1.000          0.300                 1.200      0.700   \n",
       "3         250       5.801          2.301                 6.001      2.500   \n",
       "4         500      23.605          4.101                16.404      6.302   \n",
       "5         750      48.512         10.002                28.908      9.102   \n",
       "6        1000      89.623         20.705                52.113     15.004   \n",
       "7        5000    3259.121        513.729               789.199     80.520   \n",
       "8        7500    6244.172       1186.999              1614.907    123.631   \n",
       "9       10000   14209.777       1996.302              3073.374    168.442   \n",
       "\n",
       "   BucketSort  Sorted  \n",
       "0       0.100   0.000  \n",
       "1       0.100   0.000  \n",
       "2       0.200   0.000  \n",
       "3       0.900   0.300  \n",
       "4       3.901   0.200  \n",
       "5       5.601   0.500  \n",
       "6       9.102   0.500  \n",
       "7     142.236   5.001  \n",
       "8     377.895   5.702  \n",
       "9     817.806   6.001  "
      ]
     },
     "execution_count": 59,
     "metadata": {},
     "output_type": "execute_result"
    }
   ],
   "source": [
    "df2 = pd.read_csv('data/avg_ten_runs.csv')\n",
    "df2"
   ]
  },
  {
   "cell_type": "code",
   "execution_count": 60,
   "metadata": {},
   "outputs": [
    {
     "data": {
      "text/html": [
       "<div>\n",
       "<style scoped>\n",
       "    .dataframe tbody tr th:only-of-type {\n",
       "        vertical-align: middle;\n",
       "    }\n",
       "\n",
       "    .dataframe tbody tr th {\n",
       "        vertical-align: top;\n",
       "    }\n",
       "\n",
       "    .dataframe thead th {\n",
       "        text-align: right;\n",
       "    }\n",
       "</style>\n",
       "<table border=\"1\" class=\"dataframe\">\n",
       "  <thead>\n",
       "    <tr style=\"text-align: right;\">\n",
       "      <th></th>\n",
       "      <th>count</th>\n",
       "      <th>mean</th>\n",
       "      <th>std</th>\n",
       "      <th>min</th>\n",
       "      <th>25%</th>\n",
       "      <th>50%</th>\n",
       "      <th>75%</th>\n",
       "      <th>max</th>\n",
       "    </tr>\n",
       "  </thead>\n",
       "  <tbody>\n",
       "    <tr>\n",
       "      <th>BubbleSort</th>\n",
       "      <td>10.0</td>\n",
       "      <td>2388.1811</td>\n",
       "      <td>4648.849367</td>\n",
       "      <td>0.0</td>\n",
       "      <td>2.20025</td>\n",
       "      <td>36.0585</td>\n",
       "      <td>2466.74650</td>\n",
       "      <td>14209.777</td>\n",
       "    </tr>\n",
       "    <tr>\n",
       "      <th>InsertionSort</th>\n",
       "      <td>10.0</td>\n",
       "      <td>373.4539</td>\n",
       "      <td>688.313445</td>\n",
       "      <td>0.0</td>\n",
       "      <td>0.80025</td>\n",
       "      <td>7.0515</td>\n",
       "      <td>390.47300</td>\n",
       "      <td>1996.302</td>\n",
       "    </tr>\n",
       "    <tr>\n",
       "      <th>Binary InsertionSort</th>\n",
       "      <td>10.0</td>\n",
       "      <td>558.2406</td>\n",
       "      <td>1030.852927</td>\n",
       "      <td>0.0</td>\n",
       "      <td>2.40025</td>\n",
       "      <td>22.6560</td>\n",
       "      <td>604.92750</td>\n",
       "      <td>3073.374</td>\n",
       "    </tr>\n",
       "    <tr>\n",
       "      <th>MergeSort</th>\n",
       "      <td>10.0</td>\n",
       "      <td>40.6401</td>\n",
       "      <td>61.444723</td>\n",
       "      <td>0.0</td>\n",
       "      <td>1.15000</td>\n",
       "      <td>7.7020</td>\n",
       "      <td>64.14100</td>\n",
       "      <td>168.442</td>\n",
       "    </tr>\n",
       "    <tr>\n",
       "      <th>BucketSort</th>\n",
       "      <td>10.0</td>\n",
       "      <td>135.7841</td>\n",
       "      <td>268.245214</td>\n",
       "      <td>0.1</td>\n",
       "      <td>0.37500</td>\n",
       "      <td>4.7510</td>\n",
       "      <td>108.95250</td>\n",
       "      <td>817.806</td>\n",
       "    </tr>\n",
       "    <tr>\n",
       "      <th>Sorted</th>\n",
       "      <td>10.0</td>\n",
       "      <td>1.8204</td>\n",
       "      <td>2.603977</td>\n",
       "      <td>0.0</td>\n",
       "      <td>0.05000</td>\n",
       "      <td>0.4000</td>\n",
       "      <td>3.87575</td>\n",
       "      <td>6.001</td>\n",
       "    </tr>\n",
       "  </tbody>\n",
       "</table>\n",
       "</div>"
      ],
      "text/plain": [
       "                      count       mean          std  min      25%      50%  \\\n",
       "BubbleSort             10.0  2388.1811  4648.849367  0.0  2.20025  36.0585   \n",
       "InsertionSort          10.0   373.4539   688.313445  0.0  0.80025   7.0515   \n",
       "Binary InsertionSort   10.0   558.2406  1030.852927  0.0  2.40025  22.6560   \n",
       "MergeSort              10.0    40.6401    61.444723  0.0  1.15000   7.7020   \n",
       "BucketSort             10.0   135.7841   268.245214  0.1  0.37500   4.7510   \n",
       "Sorted                 10.0     1.8204     2.603977  0.0  0.05000   0.4000   \n",
       "\n",
       "                             75%        max  \n",
       "BubbleSort            2466.74650  14209.777  \n",
       "InsertionSort          390.47300   1996.302  \n",
       "Binary InsertionSort   604.92750   3073.374  \n",
       "MergeSort               64.14100    168.442  \n",
       "BucketSort             108.95250    817.806  \n",
       "Sorted                   3.87575      6.001  "
      ]
     },
     "execution_count": 60,
     "metadata": {},
     "output_type": "execute_result"
    }
   ],
   "source": [
    "desc = (df2.describe()).transpose()\n",
    "desc.iloc[1:]"
   ]
  },
  {
   "cell_type": "markdown",
   "metadata": {},
   "source": [
    "From the raw data and summary statistics, it's easier to verify which algorithms perform best on different types of data. \n",
    "* Bubble Sort is highly inefficient but it's simplicity means it could be useful for sorting very small sets. \n",
    "* Insertion Sort while inefficient performs very well with inputs smaller than 1000.\n",
    "* Binary Insertion Sort performs worse than the traditional Insertion Sort algorithm for almost every input size. \n",
    "* Merge Sort is the most efficient sorting algorithm I've implemented, but Bucket Sort outperforms it on small inputs. \n",
    "* Also while Merge Sort outperforms the other algorithms I've investigated, it can't match the efficiency of Python's inbuilt sorting algorithm."
   ]
  },
  {
   "cell_type": "code",
   "execution_count": 61,
   "metadata": {},
   "outputs": [
    {
     "data": {
      "image/png": "[encoded data removed]",
      "text/plain": [
       "<Figure size 432x288 with 1 Axes>"
      ]
     },
     "metadata": {},
     "output_type": "display_data"
    }
   ],
   "source": [
    "ax = df2.plot(x='Input Size', y=['BubbleSort', 'InsertionSort', 'Binary InsertionSort', 'MergeSort', 'BucketSort', 'Sorted'])\n",
    "ax.set_ylabel(\"Time Elapsed (milliseconds)\");"
   ]
  },
  {
   "cell_type": "markdown",
   "metadata": {},
   "source": [
    "From this plot, it is obvious that BubbleSort is the least efficient sorting algorithm, and it's graph is as expected; quadratic.\n",
    "\n",
    "Removing BubbleSort, I can get a better look at my other sorting algorithms."
   ]
  },
  {
   "cell_type": "code",
   "execution_count": 62,
   "metadata": {},
   "outputs": [
    {
     "data": {
      "image/png": "[encoded data removed]",
      "text/plain": [
       "<Figure size 432x288 with 1 Axes>"
      ]
     },
     "metadata": {},
     "output_type": "display_data"
    }
   ],
   "source": [
    "ax = df2.plot(x='Input Size', y=['InsertionSort', 'Binary InsertionSort', 'MergeSort', 'BucketSort', 'Sorted'])\n",
    "ax.set_ylabel(\"Time Elapsed (milliseconds)\");"
   ]
  },
  {
   "cell_type": "markdown",
   "metadata": {},
   "source": [
    "I was suprised to find that Binary Insertion Sort appears to be less efficient that traditional Insertion Sort for all input sizes. I was aware that they both had time complexity of $O(n)$ but I thought Binary Insertion Sort would be slightly more efficient when implemented."
   ]
  },
  {
   "cell_type": "markdown",
   "metadata": {},
   "source": [
    "While Insertion Sort swaps an element with preceding elements until it is at the correct position in the sorted array, Binary Insertion Sort works differently. Binary Search finds the index of the correct position for the element in the sorted array, it then inserts the element in the sorted array. The process of linearly looping through displaced elements in the sorted array, and changing their indices takes time as well. \n",
    "\n",
    "So for the $n$ elements, binary search performs $log(n)$ comparisons in the worst case, which leds to a time complexity of $O(n log n)$. However the process of inserting items is $O(n)$. This results in $nlog(n) +n^2$ operations. So the algorithm as a whole has a time complexity of $O(n^2)$, as that is the term with the highest degree in the polynomial. It is just as inefficient as Bubble Sort and Insertion Sort, despite having fewer comparisons. "
   ]
  },
  {
   "cell_type": "markdown",
   "metadata": {},
   "source": [
    "With this in mind, it is unsurprising that both Insertion Sort and Binary Insertion Sort are modelled by quadratic graphs. "
   ]
  },
  {
   "cell_type": "code",
   "execution_count": 66,
   "metadata": {},
   "outputs": [
    {
     "data": {
      "image/png": "[encoded data removed]",
      "text/plain": [
       "<Figure size 432x288 with 1 Axes>"
      ]
     },
     "metadata": {},
     "output_type": "display_data"
    }
   ],
   "source": [
    "ax = df2.plot(x='Input Size', y=['MergeSort', 'BucketSort', 'Sorted'])\n",
    "ax.set_ylabel(\"Time Elapsed (milliseconds)\");"
   ]
  },
  {
   "cell_type": "markdown",
   "metadata": {},
   "source": [
    "## Summary"
   ]
  },
  {
   "cell_type": "markdown",
   "metadata": {},
   "source": [
    "* All the sorting algorithms I've investigated appear to work best on almost fully sorted data. This is desirable as we don't want to spend more time than necessary iterating through an already sorted array. However it is unlikely real world data will be almost fully sorted when it is passed to an algorithm\n",
    "\n",
    "\n",
    "* Benchmarking algorithms using the average of multiple runs, gives a better representation of how execution time increases with input size. I saw this particularly with the BucketSort algorithm. Benchmarking also allowed me to identify that Binary Insertion Sort was not more effient that Insertion Sort, with the added complexity resulting in increased running times.\n",
    "\n",
    "\n",
    "* Merge Sort and Bucket Sort both work well on large input sizes, with Bucket Sort been particulary applicable to instances of uniformly distributed data.\n",
    "\n",
    "\n",
    "* Python's inbuilt sorting function, sorted(), is the best performing sorting algorithm for all input sizes. Even when compared to MergeSort, the inbuilt function appears logarithmic, while MergeSort appears linear. This implies that if the time complexity of sorted were $n(logn)$, then the complexity of MergeSort appears to be $k * n ( logn )$ for some constant $k$. "
   ]
  },
  {
   "cell_type": "code",
   "execution_count": 64,
   "metadata": {},
   "outputs": [
    {
     "data": {
      "image/png": "[encoded data removed]",
      "text/plain": [
       "<Figure size 432x288 with 1 Axes>"
      ]
     },
     "metadata": {},
     "output_type": "display_data"
    }
   ],
   "source": [
    "ax = df2.plot(x='Input Size', y=['MergeSort','Sorted'])\n",
    "ax.set_ylabel(\"Time Elapsed (milliseconds)\");"
   ]
  },
  {
   "cell_type": "markdown",
   "metadata": {},
   "source": [
    "## References\n"
   ]
  },
  {
   "cell_type": "markdown",
   "metadata": {},
   "source": [
    "#### Documentation\n",
    "* [The Python Standard Library](https://docs.python.org/3/library/)\n",
    "> * [Time](https://docs.python.org/3/library/time.html) function, accessed 13th April 2019. \n",
    "> * [Reading and Writing CSV files](https://docs.python.org/3/library/csv.html), accessed 13th April 2019.\n",
    "* [Pandas Documentation]()\n",
    "> * [pandas.DataFrame](https://pandas.pydata.org/pandas-docs/stable/reference/api/pandas.DataFrame.html) function, accessed 13th April 2019."
   ]
  },
  {
   "cell_type": "markdown",
   "metadata": {},
   "source": [
    "#### Wikipedia Pages \n",
    "* [In-Place Algorithm](https://en.wikipedia.org/wiki/In-place_algorithm), accessed 25 April 2019.\n",
    "* [TimSort](https://en.wikipedia.org/wiki/Timsort), accessed 23 April 2019.\n",
    "* [Insertion Sort](https://en.wikipedia.org/wiki/Insertion_sort), accessed 10 May 2019."
   ]
  },
  {
   "cell_type": "markdown",
   "metadata": {},
   "source": [
    "#### Other \n",
    "* [Binary Insertion Sort](https://www.geeksforgeeks.org/binary-insertion-sort/), page on geeksforgeeks.org, accessed 25 April 2019.\n",
    "* [Timsort: The Fastest sorting algorithm for real-world problems](https://dev.to/s_awdesh/timsort-fastest-sorting-algorithm-for-real-world-problems--2jhd), blog post by Awdesh, accessed 5 May 2019.\n",
    "* [Python: MergeSort algorithm explained](https://www.youtube.com/watch?v=Nso25TkBsYI), a Youtube tutorial by Joe James, accessed 5 May 2019.\n",
    "* [In-Place Algorithm](https://www.geeksforgeeks.org/in-place-algorithm/) page on geeksforgeeks.org, accessed 9 May 2019.\n",
    "* [Is there a way to mathematically prove stability in sorting Algorithms?](https://www.quora.com/Is-there-a-way-to-mathematically-prove-stability-in-sorting-algorithms), posted on quora.com, accessed 09 May 2019.\n",
    "* [TimSort](https://www.geeksforgeeks.org/timsort/) page on geeksforgeeks.org, accessed 10 May 2019.\n",
    "* [Log to the base 2 in Python](https://stackoverflow.com/questions/3719631/log-to-the-base-2-in-python) on stackoverflow, accesssed 10 May, 2019.\n",
    "* [Binary Insertion Sort](https://www.youtube.com/watch?v=-OVB5pOZJug) tutorial video by Youtube user 0612 TV w/ NERDfirst, accessed 10 May 2019."
   ]
  }
 ],
 "metadata": {
  "kernelspec": {
   "display_name": "Python 3",
   "language": "python",
   "name": "python3"
  },
  "language_info": {
   "codemirror_mode": {
    "name": "ipython",
    "version": 3
   },
   "file_extension": ".py",
   "mimetype": "text/x-python",
   "name": "python",
   "nbconvert_exporter": "python",
   "pygments_lexer": "ipython3",
   "version": "3.6.5"
  }
 },
 "nbformat": 4,
 "nbformat_minor": 2
}
