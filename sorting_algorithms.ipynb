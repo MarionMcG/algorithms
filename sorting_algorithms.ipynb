{
 "cells": [
  {
   "cell_type": "markdown",
   "metadata": {},
   "source": [
    "# An Investigation of Sorting Algorithms"
   ]
  },
  {
   "cell_type": "markdown",
   "metadata": {},
   "source": [
    "**Notes:** Code cells are structured so you can 'Restart and Run All' if required. May be useful as many code cells are dependent on previous code cells.\n"
   ]
  },
  {
   "cell_type": "markdown",
   "metadata": {},
   "source": [
    "### Libraries"
   ]
  },
  {
   "cell_type": "code",
   "execution_count": 1,
   "metadata": {},
   "outputs": [],
   "source": [
    "import numpy as np # For randomly generating numbers\n",
    "import pandas as pd #For reading csv files, generating dataframes and plots for same\n",
    "import time"
   ]
  },
  {
   "cell_type": "markdown",
   "metadata": {},
   "source": [
    "## Introduction"
   ]
  },
  {
   "cell_type": "markdown",
   "metadata": {},
   "source": [
    "<b>A sorting algorithm arranges a list of items in some predetermined order.</b> In terms of strings this may involve sorting elements in alphabethical order. For the purposes of this investigation, I'm going to look at ordering discrete numerical elements, in ascending order, for smallest to biggest. Sorting is essentially a permutation of list elements, and does not alter any of the elements in the list. \n",
    "\n",
    "Much of early computing advancements focused on finding effective sorting methods. This is because sorting elements allow for a number of tasks to be completed quicker than in a list of unsorted items. It's essential in data analysis, when determining the maximum, minimum, median and inter-quartile range. Also, sorting is often pre-processing step in search algorithms, allowing for more effective identification of specific or duplicate entries.\n",
    "\n",
    "**Terminology**\n",
    "\n",
    "* With respect to duplicate entries, a **stable sorting algorithm** will preserve the order of duplicate entries while an **unstable sorting algorithm** will not. "
   ]
  },
  {
   "cell_type": "markdown",
   "metadata": {},
   "source": [
    "**Investigation Plan**\n",
    "\n",
    "In the course of this investigation, I will discuss and benchmark the following sorting algorithms:\n",
    "* Bubble Sort\n",
    "* Insertion Sort\n",
    "* Merge Sort\n",
    "* Bucket Sort\n",
    "* Tim Sort\n",
    "\n",
    "I have chosen these sorting algorithms as they include examples of simple and effective comparison based sorting algorithms, non-comparison based sorting algorithms and hybrid sorting algorithms. I will discuss these types of sortings algorithms with reference to the specific examples I have chosen, and plot their running time against the input size of lists to be sorted. To more effectively compare these algorithms, I will also run each algorithm ten times for each input, and determine the average running time."
   ]
  },
  {
   "cell_type": "markdown",
   "metadata": {},
   "source": [
    " "
   ]
  },
  {
   "cell_type": "markdown",
   "metadata": {},
   "source": [
    "## Generating Random Data"
   ]
  },
  {
   "cell_type": "code",
   "execution_count": 2,
   "metadata": {},
   "outputs": [],
   "source": [
    "def rand(n):\n",
    "    array = []\n",
    "    for i in range(0, n, 1): # for every integer between 1 and n\n",
    "        gen_rand= np.random.randint(0, 100) # generate a random number\n",
    "        array.append(gen_rand) # and add it to the array\n",
    "    return array"
   ]
  },
  {
   "cell_type": "markdown",
   "metadata": {},
   "source": [
    "## Bubble Sort"
   ]
  },
  {
   "cell_type": "code",
   "execution_count": 3,
   "metadata": {},
   "outputs": [],
   "source": [
    "def bubbleSort(alist):\n",
    "    for passnum in range(len(alist)-1,0,-1): \n",
    "        for i in range(passnum): #Goes through a list from last value to first\n",
    "            if alist[i]>alist[i+1]: # Compares every value to the values with a greater index\n",
    "                temp = alist[i]  \n",
    "                alist[i] = alist[i+1] \n",
    "                alist[i+1] = temp #If statement swap two values, so the larger value has the larger index\n",
    "                \n",
    "# Reference: interactivepython.org/runestone/static/pythonds/SortSearch/TheBubbleSort.html, accessed 13th April 2019."
   ]
  },
  {
   "cell_type": "code",
   "execution_count": 4,
   "metadata": {},
   "outputs": [
    {
     "name": "stdout",
     "output_type": "stream",
     "text": [
      "108 ns ± 21.1 ns per loop (mean ± std. dev. of 7 runs, 10000000 loops each)\n"
     ]
    }
   ],
   "source": [
    "%timeit(bubbleSort)"
   ]
  },
  {
   "cell_type": "code",
   "execution_count": 5,
   "metadata": {},
   "outputs": [
    {
     "data": {
      "text/plain": [
       "0.0"
      ]
     },
     "execution_count": 5,
     "metadata": {},
     "output_type": "execute_result"
    }
   ],
   "source": [
    "start =time.time()\n",
    "bubbleSort(rand(10)) #10 random variables\n",
    "end = time.time()\n",
    "\n",
    "np.round((end - start)* 1000, 3)"
   ]
  },
  {
   "cell_type": "code",
   "execution_count": 6,
   "metadata": {},
   "outputs": [
    {
     "data": {
      "text/plain": [
       "42124.685"
      ]
     },
     "execution_count": 6,
     "metadata": {},
     "output_type": "execute_result"
    }
   ],
   "source": [
    "start =time.time()\n",
    "bubbleSort(rand(10000)) #10,000\n",
    "end = time.time()\n",
    "\n",
    "\n",
    "np.round((end - start)* 1000, 3)"
   ]
  },
  {
   "cell_type": "markdown",
   "metadata": {},
   "source": [
    "## Insertion Sort"
   ]
  },
  {
   "cell_type": "code",
   "execution_count": 7,
   "metadata": {},
   "outputs": [],
   "source": [
    "def binary_search(the_array, item, start, end):\n",
    "    if start == end:\n",
    "        if the_array[start] > item:\n",
    "            return start\n",
    "        else:\n",
    "            return start + 1\n",
    "    if start > end:\n",
    "        return start\n",
    "\n",
    "    mid = round((start + end)/ 2) #Returns the mean of the range of indices \n",
    "    \n",
    "    # determine which side to search\n",
    "    if the_array[mid] < item:\n",
    "        return binary_search(the_array, item, mid + 1, end) # search array of indices above mid\n",
    "\n",
    "    elif the_array[mid] > item:\n",
    "        return binary_search(the_array, item, start, mid - 1) # search array of indices above mid\n",
    "\n",
    "    else:\n",
    "        return mid # Otherwise mid = item, so return mid"
   ]
  },
  {
   "cell_type": "code",
   "execution_count": 8,
   "metadata": {},
   "outputs": [],
   "source": [
    "def insertionSort(the_array):\n",
    "        \n",
    "    l = len(the_array) #set l to the number of values in array\n",
    "    for index in range(1, l): #for the every index\n",
    "        value = the_array[index] #set value\n",
    "        pos = binary_search(the_array, value, 0, index - 1) \n",
    "        the_array = the_array[:pos] + [value] + the_array[pos:index] + the_array[index+1:]\n",
    "\n",
    "#Reference:http://interactivepython.org/courselib/static/pythonds/SortSearch/TheInsertionSort.html, accessed 13th April 2019.\n",
    "#Reference:http://skerritt.tech/blog/timsort/, accessed 13th April 2019."
   ]
  },
  {
   "cell_type": "code",
   "execution_count": 9,
   "metadata": {},
   "outputs": [
    {
     "name": "stdout",
     "output_type": "stream",
     "text": [
      "74.5 ns ± 6.12 ns per loop (mean ± std. dev. of 7 runs, 10000000 loops each)\n"
     ]
    }
   ],
   "source": [
    "%timeit(insertionSort)"
   ]
  },
  {
   "cell_type": "code",
   "execution_count": 10,
   "metadata": {},
   "outputs": [
    {
     "data": {
      "text/plain": [
       "0.0"
      ]
     },
     "execution_count": 10,
     "metadata": {},
     "output_type": "execute_result"
    }
   ],
   "source": [
    "start =time.time()\n",
    "insertionSort(rand(10)) #10 random variables\n",
    "end = time.time()\n",
    "\n",
    "\n",
    "np.round((end - start)* 1000, 3)"
   ]
  },
  {
   "cell_type": "code",
   "execution_count": 11,
   "metadata": {},
   "outputs": [
    {
     "data": {
      "text/plain": [
       "2199.553"
      ]
     },
     "execution_count": 11,
     "metadata": {},
     "output_type": "execute_result"
    }
   ],
   "source": [
    "start =time.time()\n",
    "insertionSort(rand(10000)) #10,000 random variables\n",
    "end = time.time()\n",
    "\n",
    "\n",
    "np.round((end - start)* 1000, 3)"
   ]
  },
  {
   "cell_type": "markdown",
   "metadata": {},
   "source": [
    "## Merge Sort"
   ]
  },
  {
   "cell_type": "code",
   "execution_count": 12,
   "metadata": {},
   "outputs": [],
   "source": [
    "def mergeSort(alist):\n",
    "\n",
    "    if len(alist)>1:\n",
    "        mid = len(alist)//2 #get value of middle index\n",
    "        lefthalf = alist[:mid] #lower subarray is below mid\n",
    "        righthalf = alist[mid:] #upper subarray is above mid\n",
    "\n",
    "        mergeSort(lefthalf) \n",
    "        mergeSort(righthalf) #Pass both subarrays back into merge sort\n",
    "\n",
    "        i=0\n",
    "        j=0\n",
    "        k=0\n",
    "        while i < len(lefthalf) and j < len(righthalf):\n",
    "            if lefthalf[i] < righthalf[j]:\n",
    "                alist[k]=lefthalf[i]\n",
    "                i=i+1 \n",
    "            else:\n",
    "                alist[k]=righthalf[j]\n",
    "                j=j+1\n",
    "            k=k+1\n",
    "\n",
    "        while i < len(lefthalf):\n",
    "            alist[k]=lefthalf[i]\n",
    "            i=i+1\n",
    "            k=k+1\n",
    "\n",
    "        while j < len(righthalf):\n",
    "            alist[k]=righthalf[j]\n",
    "            j=j+1\n",
    "            k=k+1 \n",
    "            \n",
    "#Reference: http://interactivepython.org/courselib/static/pythonds/SortSearch/TheMergeSort.html, accessed 13th April 2019."
   ]
  },
  {
   "cell_type": "code",
   "execution_count": 13,
   "metadata": {},
   "outputs": [
    {
     "name": "stdout",
     "output_type": "stream",
     "text": [
      "59.2 ns ± 2.15 ns per loop (mean ± std. dev. of 7 runs, 10000000 loops each)\n"
     ]
    }
   ],
   "source": [
    "%timeit(mergeSort)"
   ]
  },
  {
   "cell_type": "code",
   "execution_count": 14,
   "metadata": {},
   "outputs": [
    {
     "data": {
      "text/plain": [
       "0.998"
      ]
     },
     "execution_count": 14,
     "metadata": {},
     "output_type": "execute_result"
    }
   ],
   "source": [
    "start =time.time()\n",
    "mergeSort(rand(10)) #10 random variables\n",
    "end = time.time()\n",
    "\n",
    "\n",
    "np.round((end - start)* 1000, 3)"
   ]
  },
  {
   "cell_type": "code",
   "execution_count": 15,
   "metadata": {},
   "outputs": [
    {
     "data": {
      "text/plain": [
       "222.055"
      ]
     },
     "execution_count": 15,
     "metadata": {},
     "output_type": "execute_result"
    }
   ],
   "source": [
    "start =time.time()\n",
    "mergeSort(rand(10000)) #10,000 random variables\n",
    "end = time.time()\n",
    "\n",
    "np.round((end - start)* 1000, 3)"
   ]
  },
  {
   "cell_type": "code",
   "execution_count": 16,
   "metadata": {},
   "outputs": [
    {
     "data": {
      "text/plain": [
       "2161.547"
      ]
     },
     "execution_count": 16,
     "metadata": {},
     "output_type": "execute_result"
    }
   ],
   "source": [
    "start =time.time()\n",
    "mergeSort(rand(100000))\n",
    "end = time.time()\n",
    "\n",
    "np.round((end - start)* 1000, 3)"
   ]
  },
  {
   "cell_type": "markdown",
   "metadata": {},
   "source": [
    "## Bucket Sort"
   ]
  },
  {
   "cell_type": "code",
   "execution_count": 17,
   "metadata": {},
   "outputs": [],
   "source": [
    "def insertion_sort(the_array):\n",
    "    l = len(the_array)\n",
    "    for index in range(1, l):\n",
    "        value = the_array[index]\n",
    "        pos = binary_search(the_array, value, 0, index - 1)\n",
    "        the_array = the_array[:pos] + [value] + the_array[pos:index] + the_array[index+1:]\n",
    "    the_array\n",
    "    \n",
    "#Reference and code are the same as insertionSort above. This function returns the_array instead of time elapsed"
   ]
  },
  {
   "cell_type": "code",
   "execution_count": 18,
   "metadata": {},
   "outputs": [],
   "source": [
    "def bucketSort(alist):\n",
    "    largest = max(alist) #Set max\n",
    "    length = len(alist) #Set input size = length\n",
    "    size = largest/length\n",
    " \n",
    "    buckets = [[] for _ in range(length)]\n",
    "    for i in range(length):\n",
    "        j = int(alist[i]/size)\n",
    "        if j != length:\n",
    "            buckets[j].append(alist[i])\n",
    "        else:\n",
    "            buckets[length - 1].append(alist[i])\n",
    " \n",
    "    for i in range(length):\n",
    "        insertionSort(buckets[i])\n",
    " \n",
    "    result = []\n",
    "    for i in range(length):\n",
    "        result = result + buckets[i]\n",
    "\n",
    "#Reference: https://www.sanfoundry.com/python-program-implement-bucket-sort/, accessed 13th April 2019."
   ]
  },
  {
   "cell_type": "code",
   "execution_count": 19,
   "metadata": {},
   "outputs": [
    {
     "name": "stdout",
     "output_type": "stream",
     "text": [
      "74.9 ns ± 12.2 ns per loop (mean ± std. dev. of 7 runs, 10000000 loops each)\n"
     ]
    }
   ],
   "source": [
    "%timeit(bucketSort)"
   ]
  },
  {
   "cell_type": "code",
   "execution_count": 20,
   "metadata": {},
   "outputs": [
    {
     "data": {
      "text/plain": [
       "0.0"
      ]
     },
     "execution_count": 20,
     "metadata": {},
     "output_type": "execute_result"
    }
   ],
   "source": [
    "start =time.time()\n",
    "bucketSort(rand(10))\n",
    "end = time.time()\n",
    "\n",
    "np.round((end - start)* 1000, 3)"
   ]
  },
  {
   "cell_type": "code",
   "execution_count": 21,
   "metadata": {},
   "outputs": [
    {
     "data": {
      "text/plain": [
       "70664.917"
      ]
     },
     "execution_count": 21,
     "metadata": {},
     "output_type": "execute_result"
    }
   ],
   "source": [
    "start =time.time()\n",
    "bucketSort(rand(100000))\n",
    "end = time.time()\n",
    "\n",
    "np.round((end - start)* 1000, 3)"
   ]
  },
  {
   "cell_type": "markdown",
   "metadata": {},
   "source": [
    "## TimSort"
   ]
  },
  {
   "cell_type": "code",
   "execution_count": 22,
   "metadata": {},
   "outputs": [],
   "source": [
    "def merge(left, right): #Input is two sorted lists\n",
    "    if not left:\n",
    "        return right\n",
    "    if not right:\n",
    "        return left\n",
    "    if left[0] < right[0]:\n",
    "        return [left[0]] + merge(left[1:], right)\n",
    "    return [right[0]] + merge(left, right[1:])\n",
    "\n",
    "#Reference:http://skerritt.tech/blog/timsort/, accessed 13th April 2019."
   ]
  },
  {
   "cell_type": "code",
   "execution_count": 23,
   "metadata": {},
   "outputs": [],
   "source": [
    "def timSort(the_array):\n",
    " \n",
    "    runs, sorted_runs = [], []\n",
    "    length = len(the_array)\n",
    "    new_run = [the_array[0]]\n",
    "\n",
    "    # for every i in the range of 1 to length of array\n",
    "    for i in range(1, length):\n",
    "        # if i is at the end of the list\n",
    "        if i == length - 1:\n",
    "            new_run.append(the_array[i])\n",
    "            runs.append(new_run)\n",
    "            break\n",
    "        # if the i'th element of the array is less than the one before it\n",
    "        if the_array[i] < the_array[i-1]:\n",
    "            # if new_run is set to None (NULL)\n",
    "            if not new_run:\n",
    "                runs.append([the_array[i]])\n",
    "                new_run.append(the_array[i])\n",
    "            else:\n",
    "                runs.append(new_run)\n",
    "                new_run = []\n",
    "        # else if its equal to or more than\n",
    "        else:\n",
    "            new_run.append(the_array[i])\n",
    "\n",
    "    # for every item in runs, append it using insertion sort\n",
    "    for item in runs:\n",
    "        sorted_runs.append(insertionSort(item))\n",
    "    \n",
    "    # for every run in sorted_runs, merge them\n",
    "    sorted_array = []\n",
    "    for run in sorted_runs:\n",
    "        sorted_array = merge(sorted_array, run)\n",
    "\n",
    "\n",
    "#Reference:http://skerritt.tech/blog/timsort/, accessed 13th April 2019."
   ]
  },
  {
   "cell_type": "code",
   "execution_count": 24,
   "metadata": {},
   "outputs": [
    {
     "name": "stdout",
     "output_type": "stream",
     "text": [
      "66.8 ns ± 7.8 ns per loop (mean ± std. dev. of 7 runs, 10000000 loops each)\n"
     ]
    }
   ],
   "source": [
    "%timeit(timSort)"
   ]
  },
  {
   "cell_type": "code",
   "execution_count": 25,
   "metadata": {},
   "outputs": [
    {
     "data": {
      "text/plain": [
       "1053.268"
      ]
     },
     "execution_count": 25,
     "metadata": {},
     "output_type": "execute_result"
    }
   ],
   "source": [
    "start =time.time()\n",
    "timSort(rand(100000))\n",
    "end = time.time()\n",
    "np.round((end - start)* 1000, 3)"
   ]
  },
  {
   "cell_type": "markdown",
   "metadata": {},
   "source": [
    "## Benchmarking Functions"
   ]
  },
  {
   "cell_type": "code",
   "execution_count": 26,
   "metadata": {},
   "outputs": [],
   "source": [
    "# Passes 10 unique and randomly generated arrays to 5 functions ONLY ONCE\n",
    "def compare_all(func, func2, func3, func4, func5):\n",
    "    \n",
    "    array_1 = []\n",
    "    array_2 = []\n",
    "    array_3 = []\n",
    "    array_4 = []\n",
    "    array_5 = []\n",
    "    array_6 = []\n",
    "    \n",
    "    # Rand_size = input size of randomly generated datasets\n",
    "    rand_size = [10, 50, 100, 250, 500, 750, 1000, 5000, 7500, 10000]\n",
    "    \n",
    "    for i in rand_size:\n",
    "            start = time.time()\n",
    "            func(rand(i)) #Pass 10 randomly generated dataset through each function\n",
    "            end = time.time()\n",
    "            y = round(((end - start)*1000), 3)\n",
    "            start = time.time()\n",
    "            func2(rand(i))\n",
    "            end = time.time()\n",
    "            y1 = round(((end - start)*1000), 3)\n",
    "            start = time.time()\n",
    "            func3(rand(i))\n",
    "            end = time.time()\n",
    "            y2 = round(((end - start)*1000), 3)\n",
    "            start = time.time()\n",
    "            func4(rand(i))\n",
    "            end = time.time()\n",
    "            y3 = round(((end - start)*1000), 3)\n",
    "            start = time.time()\n",
    "            func5(rand(i))\n",
    "            end = time.time()\n",
    "            y4 = round(((end - start)*1000), 3)\n",
    "            \n",
    "            x = i #Set x equal to the size\n",
    "    \n",
    "            array_1.append(x) #Add x values to array 1 \n",
    "            array_2.append(y) #Add y values to their arrays\n",
    "            array_3.append(y1)\n",
    "            array_4.append(y2)\n",
    "            array_5.append(y3)\n",
    "            array_6.append(y4)\n",
    "    \n",
    "    df = pd.DataFrame({'Input Size': array_1, 'BubbleSort': array_2, 'InsertionSort': array_3, 'MergeSort': array_4, \n",
    "                             'BucketSort': array_5, 'TimSort':array_6})\n",
    "    df.to_csv(\"data/run_once.csv\", index=False)\n",
    "         "
   ]
  },
  {
   "cell_type": "code",
   "execution_count": 27,
   "metadata": {},
   "outputs": [],
   "source": [
    "def mean_array(the_array):\n",
    "    average_time = []\n",
    "    y1 = np.mean(the_array[slice(0, 10, 1)])\n",
    "    y2 = np.mean(the_array[slice(10, 20, 1)])\n",
    "    y3 = np.mean(the_array[slice(20, 30, 1)])\n",
    "    y4 = np.mean(the_array[slice(30, 40, 1)])\n",
    "    y5 = np.mean(the_array[slice(40, 50, 1)])\n",
    "    y6 = np.mean(the_array[slice(50, 60, 1)])\n",
    "    y7 = np.mean(the_array[slice(60, 70, 1)])\n",
    "    y8 = np.mean(the_array[slice(70, 80, 1)])\n",
    "    y9 = np.mean(the_array[slice(80, 90, 1)])\n",
    "    y10 =np.mean(the_array[slice(90, 100, 1)])\n",
    "    \n",
    "    results = [y1, y2, y3, y4, y5, y6, y7, y8, y9, y10]\n",
    "    return results"
   ]
  },
  {
   "cell_type": "code",
   "execution_count": 28,
   "metadata": {},
   "outputs": [],
   "source": [
    "def bench_ten_runs():\n",
    "    results=[]\n",
    "    average_time = []\n",
    "    final_array= []\n",
    "    num_runs = 10\n",
    "    rand_size = [10, 50, 100, 250, 500, 750, 1000, 5000, 7500, 10000]\n",
    "    functions = [bubbleSort, insertionSort, mergeSort, bucketSort, timSort]\n",
    "    \n",
    "  \n",
    "    for func in functions: #For each function\n",
    "        for i in rand_size: #input a value\n",
    "            size = rand(i) \n",
    "            for r in range(num_runs):#ten times\n",
    "                start = time.time()\n",
    "                func(size) \n",
    "                end = time.time()\n",
    "                clock = (end - start)*1000\n",
    "                results.append(clock)  # Add time elapsed to array results\n",
    "        average_time = mean_array(results) # Find average time, for each i in rand_size, using mean_array()\n",
    "        average_time = np.round(average_time, 3) # Round result to 3 dps\n",
    "        final_array.append(average_time) # Append to final_array\n",
    "        average_time = [] #set both average_time\n",
    "        results=[]  #and results to [], before passing through the next function\n",
    "        \n",
    "    df4 = pd.DataFrame({'Input Size': rand_size, 'BubbleSort': final_array[0], \n",
    "                       'InsertionSort': final_array[1], 'MergeSort': final_array[2], \n",
    "                             'BucketSort':final_array[3], 'TimSort':final_array[4]})\n",
    "    \n",
    "    df4.to_csv(\"data/avg_ten_runs.csv\", index=False)"
   ]
  },
  {
   "cell_type": "markdown",
   "metadata": {},
   "source": [
    "## Comparing Sorting Algorithms "
   ]
  },
  {
   "cell_type": "code",
   "execution_count": 29,
   "metadata": {},
   "outputs": [],
   "source": [
    "compare_all(bubbleSort, insertionSort, mergeSort, bucketSort, timSort)"
   ]
  },
  {
   "cell_type": "code",
   "execution_count": 30,
   "metadata": {},
   "outputs": [
    {
     "data": {
      "text/html": [
       "<div>\n",
       "<style scoped>\n",
       "    .dataframe tbody tr th:only-of-type {\n",
       "        vertical-align: middle;\n",
       "    }\n",
       "\n",
       "    .dataframe tbody tr th {\n",
       "        vertical-align: top;\n",
       "    }\n",
       "\n",
       "    .dataframe thead th {\n",
       "        text-align: right;\n",
       "    }\n",
       "</style>\n",
       "<table border=\"1\" class=\"dataframe\">\n",
       "  <thead>\n",
       "    <tr style=\"text-align: right;\">\n",
       "      <th></th>\n",
       "      <th>Input Size</th>\n",
       "      <th>BubbleSort</th>\n",
       "      <th>InsertionSort</th>\n",
       "      <th>MergeSort</th>\n",
       "      <th>BucketSort</th>\n",
       "      <th>TimSort</th>\n",
       "    </tr>\n",
       "  </thead>\n",
       "  <tbody>\n",
       "    <tr>\n",
       "      <th>0</th>\n",
       "      <td>10</td>\n",
       "      <td>0.000</td>\n",
       "      <td>0.000</td>\n",
       "      <td>0.000</td>\n",
       "      <td>0.000</td>\n",
       "      <td>0.000</td>\n",
       "    </tr>\n",
       "    <tr>\n",
       "      <th>1</th>\n",
       "      <td>50</td>\n",
       "      <td>0.996</td>\n",
       "      <td>1.000</td>\n",
       "      <td>0.999</td>\n",
       "      <td>0.000</td>\n",
       "      <td>2.002</td>\n",
       "    </tr>\n",
       "    <tr>\n",
       "      <th>2</th>\n",
       "      <td>100</td>\n",
       "      <td>2.002</td>\n",
       "      <td>1.999</td>\n",
       "      <td>0.998</td>\n",
       "      <td>0.999</td>\n",
       "      <td>1.004</td>\n",
       "    </tr>\n",
       "    <tr>\n",
       "      <th>3</th>\n",
       "      <td>250</td>\n",
       "      <td>16.003</td>\n",
       "      <td>5.000</td>\n",
       "      <td>2.999</td>\n",
       "      <td>5.009</td>\n",
       "      <td>1.998</td>\n",
       "    </tr>\n",
       "    <tr>\n",
       "      <th>4</th>\n",
       "      <td>500</td>\n",
       "      <td>74.014</td>\n",
       "      <td>13.004</td>\n",
       "      <td>8.002</td>\n",
       "      <td>10.006</td>\n",
       "      <td>2.999</td>\n",
       "    </tr>\n",
       "    <tr>\n",
       "      <th>5</th>\n",
       "      <td>750</td>\n",
       "      <td>146.035</td>\n",
       "      <td>26.012</td>\n",
       "      <td>10.001</td>\n",
       "      <td>9.002</td>\n",
       "      <td>7.001</td>\n",
       "    </tr>\n",
       "    <tr>\n",
       "      <th>6</th>\n",
       "      <td>1000</td>\n",
       "      <td>221.056</td>\n",
       "      <td>35.007</td>\n",
       "      <td>13.002</td>\n",
       "      <td>17.011</td>\n",
       "      <td>5.995</td>\n",
       "    </tr>\n",
       "    <tr>\n",
       "      <th>7</th>\n",
       "      <td>5000</td>\n",
       "      <td>6229.579</td>\n",
       "      <td>525.133</td>\n",
       "      <td>78.019</td>\n",
       "      <td>205.053</td>\n",
       "      <td>32.010</td>\n",
       "    </tr>\n",
       "    <tr>\n",
       "      <th>8</th>\n",
       "      <td>7500</td>\n",
       "      <td>13885.521</td>\n",
       "      <td>1277.321</td>\n",
       "      <td>129.035</td>\n",
       "      <td>362.090</td>\n",
       "      <td>81.018</td>\n",
       "    </tr>\n",
       "    <tr>\n",
       "      <th>9</th>\n",
       "      <td>10000</td>\n",
       "      <td>25433.451</td>\n",
       "      <td>2740.698</td>\n",
       "      <td>178.041</td>\n",
       "      <td>594.151</td>\n",
       "      <td>99.025</td>\n",
       "    </tr>\n",
       "  </tbody>\n",
       "</table>\n",
       "</div>"
      ],
      "text/plain": [
       "   Input Size  BubbleSort  InsertionSort  MergeSort  BucketSort  TimSort\n",
       "0          10       0.000          0.000      0.000       0.000    0.000\n",
       "1          50       0.996          1.000      0.999       0.000    2.002\n",
       "2         100       2.002          1.999      0.998       0.999    1.004\n",
       "3         250      16.003          5.000      2.999       5.009    1.998\n",
       "4         500      74.014         13.004      8.002      10.006    2.999\n",
       "5         750     146.035         26.012     10.001       9.002    7.001\n",
       "6        1000     221.056         35.007     13.002      17.011    5.995\n",
       "7        5000    6229.579        525.133     78.019     205.053   32.010\n",
       "8        7500   13885.521       1277.321    129.035     362.090   81.018\n",
       "9       10000   25433.451       2740.698    178.041     594.151   99.025"
      ]
     },
     "execution_count": 30,
     "metadata": {},
     "output_type": "execute_result"
    }
   ],
   "source": [
    "df = pd.read_csv('data/run_once.csv')\n",
    "df"
   ]
  },
  {
   "cell_type": "code",
   "execution_count": 38,
   "metadata": {},
   "outputs": [
    {
     "data": {
      "image/png": "[encoded data removed]",
      "text/plain": [
       "<Figure size 432x288 with 1 Axes>"
      ]
     },
     "metadata": {},
     "output_type": "display_data"
    }
   ],
   "source": [
    "ax = df.plot(x='Input Size', y=['BubbleSort', 'InsertionSort', 'MergeSort', 'BucketSort', 'TimSort'])\n",
    "ax.set_ylabel(\"Time Elapsed (milliseconds)\");"
   ]
  },
  {
   "cell_type": "code",
   "execution_count": 32,
   "metadata": {},
   "outputs": [
    {
     "data": {
      "image/png": "[encoded data removed]",
      "text/plain": [
       "<Figure size 432x288 with 1 Axes>"
      ]
     },
     "metadata": {},
     "output_type": "display_data"
    }
   ],
   "source": [
    "ax = df.plot(x='Input Size', y=['InsertionSort', 'MergeSort', 'BucketSort', 'TimSort'])\n",
    "ax.set_ylabel(\"Time Elapsed (milliseconds)\");"
   ]
  },
  {
   "cell_type": "code",
   "execution_count": 33,
   "metadata": {},
   "outputs": [
    {
     "data": {
      "image/png": "[encoded data removed]",
      "text/plain": [
       "<Figure size 432x288 with 1 Axes>"
      ]
     },
     "metadata": {},
     "output_type": "display_data"
    }
   ],
   "source": [
    "ax = df.plot(x='Input Size', y=['MergeSort', 'BucketSort', 'TimSort'])\n",
    "ax.set_ylabel(\"Time Elapsed (milliseconds)\");"
   ]
  },
  {
   "cell_type": "markdown",
   "metadata": {},
   "source": [
    "## Benchmarking Sorting Algorithms"
   ]
  },
  {
   "cell_type": "code",
   "execution_count": 34,
   "metadata": {},
   "outputs": [],
   "source": [
    "bench_ten_runs()"
   ]
  },
  {
   "cell_type": "code",
   "execution_count": 35,
   "metadata": {},
   "outputs": [
    {
     "data": {
      "text/html": [
       "<div>\n",
       "<style scoped>\n",
       "    .dataframe tbody tr th:only-of-type {\n",
       "        vertical-align: middle;\n",
       "    }\n",
       "\n",
       "    .dataframe tbody tr th {\n",
       "        vertical-align: top;\n",
       "    }\n",
       "\n",
       "    .dataframe thead th {\n",
       "        text-align: right;\n",
       "    }\n",
       "</style>\n",
       "<table border=\"1\" class=\"dataframe\">\n",
       "  <thead>\n",
       "    <tr style=\"text-align: right;\">\n",
       "      <th></th>\n",
       "      <th>Input Size</th>\n",
       "      <th>BubbleSort</th>\n",
       "      <th>InsertionSort</th>\n",
       "      <th>MergeSort</th>\n",
       "      <th>BucketSort</th>\n",
       "      <th>TimSort</th>\n",
       "    </tr>\n",
       "  </thead>\n",
       "  <tbody>\n",
       "    <tr>\n",
       "      <th>0</th>\n",
       "      <td>10</td>\n",
       "      <td>0.100</td>\n",
       "      <td>0.101</td>\n",
       "      <td>0.000</td>\n",
       "      <td>0.300</td>\n",
       "      <td>0.000</td>\n",
       "    </tr>\n",
       "    <tr>\n",
       "      <th>1</th>\n",
       "      <td>50</td>\n",
       "      <td>0.299</td>\n",
       "      <td>0.400</td>\n",
       "      <td>0.300</td>\n",
       "      <td>0.200</td>\n",
       "      <td>0.100</td>\n",
       "    </tr>\n",
       "    <tr>\n",
       "      <th>2</th>\n",
       "      <td>100</td>\n",
       "      <td>5.502</td>\n",
       "      <td>1.000</td>\n",
       "      <td>0.600</td>\n",
       "      <td>0.300</td>\n",
       "      <td>0.100</td>\n",
       "    </tr>\n",
       "    <tr>\n",
       "      <th>3</th>\n",
       "      <td>250</td>\n",
       "      <td>5.902</td>\n",
       "      <td>4.001</td>\n",
       "      <td>1.900</td>\n",
       "      <td>1.301</td>\n",
       "      <td>0.400</td>\n",
       "    </tr>\n",
       "    <tr>\n",
       "      <th>4</th>\n",
       "      <td>500</td>\n",
       "      <td>26.206</td>\n",
       "      <td>11.103</td>\n",
       "      <td>5.201</td>\n",
       "      <td>2.801</td>\n",
       "      <td>0.900</td>\n",
       "    </tr>\n",
       "    <tr>\n",
       "      <th>5</th>\n",
       "      <td>750</td>\n",
       "      <td>69.218</td>\n",
       "      <td>20.505</td>\n",
       "      <td>5.901</td>\n",
       "      <td>5.601</td>\n",
       "      <td>1.300</td>\n",
       "    </tr>\n",
       "    <tr>\n",
       "      <th>6</th>\n",
       "      <td>1000</td>\n",
       "      <td>110.127</td>\n",
       "      <td>37.809</td>\n",
       "      <td>7.802</td>\n",
       "      <td>7.802</td>\n",
       "      <td>2.101</td>\n",
       "    </tr>\n",
       "    <tr>\n",
       "      <th>7</th>\n",
       "      <td>5000</td>\n",
       "      <td>3294.835</td>\n",
       "      <td>515.730</td>\n",
       "      <td>48.413</td>\n",
       "      <td>105.027</td>\n",
       "      <td>9.603</td>\n",
       "    </tr>\n",
       "    <tr>\n",
       "      <th>8</th>\n",
       "      <td>7500</td>\n",
       "      <td>7575.973</td>\n",
       "      <td>1261.120</td>\n",
       "      <td>73.319</td>\n",
       "      <td>225.056</td>\n",
       "      <td>15.803</td>\n",
       "    </tr>\n",
       "    <tr>\n",
       "      <th>9</th>\n",
       "      <td>10000</td>\n",
       "      <td>14166.192</td>\n",
       "      <td>2473.527</td>\n",
       "      <td>102.226</td>\n",
       "      <td>383.497</td>\n",
       "      <td>23.806</td>\n",
       "    </tr>\n",
       "  </tbody>\n",
       "</table>\n",
       "</div>"
      ],
      "text/plain": [
       "   Input Size  BubbleSort  InsertionSort  MergeSort  BucketSort  TimSort\n",
       "0          10       0.100          0.101      0.000       0.300    0.000\n",
       "1          50       0.299          0.400      0.300       0.200    0.100\n",
       "2         100       5.502          1.000      0.600       0.300    0.100\n",
       "3         250       5.902          4.001      1.900       1.301    0.400\n",
       "4         500      26.206         11.103      5.201       2.801    0.900\n",
       "5         750      69.218         20.505      5.901       5.601    1.300\n",
       "6        1000     110.127         37.809      7.802       7.802    2.101\n",
       "7        5000    3294.835        515.730     48.413     105.027    9.603\n",
       "8        7500    7575.973       1261.120     73.319     225.056   15.803\n",
       "9       10000   14166.192       2473.527    102.226     383.497   23.806"
      ]
     },
     "execution_count": 35,
     "metadata": {},
     "output_type": "execute_result"
    }
   ],
   "source": [
    "df2 = pd.read_csv('data/avg_ten_runs.csv')\n",
    "df2"
   ]
  },
  {
   "cell_type": "code",
   "execution_count": 36,
   "metadata": {},
   "outputs": [
    {
     "data": {
      "image/png": "[encoded data removed]",
      "text/plain": [
       "<Figure size 432x288 with 1 Axes>"
      ]
     },
     "metadata": {},
     "output_type": "display_data"
    }
   ],
   "source": [
    "ax = df2.plot(x='Input Size', y=['BubbleSort','InsertionSort', 'MergeSort', 'BucketSort', 'TimSort'])\n",
    "ax.set_ylabel(\"Time Elapsed (milliseconds)\");"
   ]
  },
  {
   "cell_type": "code",
   "execution_count": 37,
   "metadata": {},
   "outputs": [
    {
     "data": {
      "image/png": "[encoded data removed]",
      "text/plain": [
       "<Figure size 432x288 with 1 Axes>"
      ]
     },
     "metadata": {},
     "output_type": "display_data"
    }
   ],
   "source": [
    "ax = df.plot(x='Input Size', y=['InsertionSort', 'MergeSort', 'BucketSort', 'TimSort'])\n",
    "ax.set_ylabel(\"Time Elapsed (milliseconds)\");"
   ]
  },
  {
   "cell_type": "markdown",
   "metadata": {},
   "source": [
    "## References\n"
   ]
  },
  {
   "cell_type": "markdown",
   "metadata": {},
   "source": [
    "#### Documentation\n",
    "* [The Python Standard Library](https://docs.python.org/3/library/)\n",
    "> * [Time](https://docs.python.org/3/library/time.html) function, accessed 13th April 2019. \n",
    "> * [Reading and Writing CSV files](https://docs.python.org/3/library/csv.html), accessed 13th April 2019.\n",
    "* [Pandas Documentation]()\n",
    "> * [pandas.DataFrame](https://pandas.pydata.org/pandas-docs/stable/reference/api/pandas.DataFrame.html) function, accessed 13th April 2019.\n",
    "___"
   ]
  },
  {
   "cell_type": "code",
   "execution_count": null,
   "metadata": {},
   "outputs": [],
   "source": []
  },
  {
   "cell_type": "code",
   "execution_count": null,
   "metadata": {},
   "outputs": [],
   "source": []
  }
 ],
 "metadata": {
  "kernelspec": {
   "display_name": "Python 3",
   "language": "python",
   "name": "python3"
  },
  "language_info": {
   "codemirror_mode": {
    "name": "ipython",
    "version": 3
   },
   "file_extension": ".py",
   "mimetype": "text/x-python",
   "name": "python",
   "nbconvert_exporter": "python",
   "pygments_lexer": "ipython3",
   "version": "3.6.5"
  }
 },
 "nbformat": 4,
 "nbformat_minor": 2
}
