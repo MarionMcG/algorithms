{
 "cells": [
  {
   "cell_type": "markdown",
   "metadata": {},
   "source": [
    "# An Investigation of Sorting Algorithms"
   ]
  },
  {
   "cell_type": "markdown",
   "metadata": {},
   "source": [
    "**Notes:** Code cells are structured so you can 'Restart and Run All' if required. May be useful as many code cells are dependent on previous code cells.\n"
   ]
  },
  {
   "cell_type": "markdown",
   "metadata": {},
   "source": [
    "### Libraries"
   ]
  },
  {
   "cell_type": "code",
   "execution_count": 1,
   "metadata": {},
   "outputs": [],
   "source": [
    "import numpy as np # For randomly generating numbers\n",
    "import pandas as pd #For reading csv files, generating dataframes and plots for same\n",
    "import time"
   ]
  },
  {
   "cell_type": "markdown",
   "metadata": {},
   "source": [
    "## Introduction"
   ]
  },
  {
   "cell_type": "markdown",
   "metadata": {},
   "source": [
    "<b>A sorting algorithm arranges a list of items in some predetermined order.</b> In terms of strings this may involve sorting elements in alphabethical order. For the purposes of this investigation, I'm going to look at ordering discrete numerical elements, in ascending order, for smallest to biggest. Sorting is essentially a permutation of list elements, and does not alter any of the elements in the list. \n",
    "\n",
    "Much of early computing advancements focused on finding effective sorting methods. This is because sorting elements allow for a number of tasks to be completed quicker than in a list of unsorted items. It's essential in data analysis, when determining the maximum, minimum, median and inter-quartile range. Also, sorting is often pre-processing step in search algorithms, allowing for more effective identification of specific or duplicate entries.\n",
    "\n",
    "**Terminology**\n",
    "\n",
    "* With respect to duplicate entries, a **stable sorting algorithm** will preserve the order of duplicate entries while an **unstable sorting algorithm** will not. \n",
    "* An **in-place sorting algorithm** uses a fixed additional amount of working space, and is independent of it's input size.  "
   ]
  },
  {
   "cell_type": "markdown",
   "metadata": {},
   "source": [
    "**Investigation Plan**\n",
    "\n",
    "In the course of this investigation, I will discuss and benchmark the following sorting algorithms:\n",
    "* Bubble Sort\n",
    "* Insertion Sort\n",
    "* Merge Sort\n",
    "* Bucket Sort\n",
    "* Tim Sort\n",
    "\n",
    "I have chosen these sorting algorithms as they include examples of simple and effective comparison based sorting algorithms, non-comparison based sorting algorithms and hybrid sorting algorithms. I will discuss these types of sortings algorithms with reference to the specific examples I have chosen, and plot their running time against the input size of lists to be sorted. To more effectively compare these algorithms, I will also run each algorithm ten times for each input, and determine the average running time."
   ]
  },
  {
   "cell_type": "markdown",
   "metadata": {},
   "source": [
    "## Functions"
   ]
  },
  {
   "cell_type": "markdown",
   "metadata": {},
   "source": [
    "### Generating Random Data"
   ]
  },
  {
   "cell_type": "code",
   "execution_count": 2,
   "metadata": {},
   "outputs": [],
   "source": [
    "def rand(n):\n",
    "    array = []\n",
    "    for i in range(0, n, 1): # for every integer between 1 and n\n",
    "        gen_rand= np.random.randint(0, 100) # generate a random number\n",
    "        array.append(gen_rand) # and add it to the array\n",
    "    return array"
   ]
  },
  {
   "cell_type": "markdown",
   "metadata": {},
   "source": [
    "### Benchmarking Functions"
   ]
  },
  {
   "cell_type": "code",
   "execution_count": 99,
   "metadata": {},
   "outputs": [],
   "source": [
    "#Inputs each random array to each function ONLY ONCE\n",
    "#Returns running time in milliseconds\n",
    "def compare_all():\n",
    "    array_1 = []    \n",
    "    rand_size = [10, 50, 100, 250, 500, 750, 1000, 5000, 7500, 10000]\n",
    "    functions = [bubbleSort, insertionSort, mergeSort, bucketSort, timSort]\n",
    "    \n",
    "    for func in functions: #For every function\n",
    "        for i in rand_size: #For every input size i\n",
    "                size = rand(i) #generate a random array of i values\n",
    "                start = time.time()\n",
    "                func(size) #pass the array to the function\n",
    "                end = time.time()\n",
    "                clock = round(((end - start)*1000), 3) #calculate running time in milliseconds\n",
    "                array_1.append(clock) #Add running time value to array_1\n",
    "\n",
    "    df = pd.DataFrame({'Input Size': rand_size, 'BubbleSort': array_1[slice(0, 10, 1)], \n",
    "                       'InsertionSort': array_1[slice(10, 20, 1)], 'MergeSort': array_1[slice(20, 30, 1)], \n",
    "                             'BucketSort':array_1[slice(30, 40, 1)], 'TimSort':array_1[slice(40, 50, 1)]})\n",
    "    \n",
    "    df.to_csv(\"data/run_once.csv\", index=False)"
   ]
  },
  {
   "cell_type": "code",
   "execution_count": 111,
   "metadata": {},
   "outputs": [],
   "source": [
    "#Input an array with 100 values\n",
    "#Returns the mean of every 10 values, as an array\n",
    "def mean_array(the_array):\n",
    "    average_time = []\n",
    "    y1 = np.mean(the_array[slice(0, 10, 1)])\n",
    "    y2 = np.mean(the_array[slice(10, 20, 1)])\n",
    "    y3 = np.mean(the_array[slice(20, 30, 1)])\n",
    "    y4 = np.mean(the_array[slice(30, 40, 1)])\n",
    "    y5 = np.mean(the_array[slice(40, 50, 1)])\n",
    "    y6 = np.mean(the_array[slice(50, 60, 1)])\n",
    "    y7 = np.mean(the_array[slice(60, 70, 1)])\n",
    "    y8 = np.mean(the_array[slice(70, 80, 1)])\n",
    "    y9 = np.mean(the_array[slice(80, 90, 1)])\n",
    "    y10 =np.mean(the_array[slice(90, 100, 1)])\n",
    "    \n",
    "    results = [y1, y2, y3, y4, y5, y6, y7, y8, y9, y10]\n",
    "    return results"
   ]
  },
  {
   "cell_type": "code",
   "execution_count": 101,
   "metadata": {},
   "outputs": [],
   "source": [
    "def bench_ten_runs():\n",
    "    results=[]\n",
    "    average_time = []\n",
    "    final_array= []\n",
    "    num_runs = 10\n",
    "    rand_size = [10, 50, 100, 250, 500, 750, 1000, 5000, 7500, 10000]\n",
    "    functions = [bubbleSort, insertionSort, mergeSort, bucketSort, timSort]\n",
    "    \n",
    "  \n",
    "    for func in functions: #For each function\n",
    "        for i in rand_size: #input a value\n",
    "            size = rand(i) \n",
    "            for r in range(num_runs):#ten times\n",
    "                start = time.time()\n",
    "                func(size) \n",
    "                end = time.time()\n",
    "                clock = (end - start)*1000\n",
    "                results.append(clock)  # Add time elapsed to array results\n",
    "        average_time = mean_array(results) # Find average time, for each i in rand_size, using mean_array()\n",
    "        average_time = np.round(average_time, 3) # Round result to 3 dps\n",
    "        final_array.append(average_time) # Append to final_array\n",
    "        average_time = [] #set both average_time\n",
    "        results=[]  #and results to [], before passing through the next function\n",
    "        \n",
    "    df4 = pd.DataFrame({'Input Size': rand_size, 'BubbleSort': final_array[0], \n",
    "                       'InsertionSort': final_array[1], 'MergeSort': final_array[2], \n",
    "                             'BucketSort':final_array[3], 'TimSort':final_array[4]})\n",
    "    \n",
    "    df4.to_csv(\"data/avg_ten_runs.csv\", index=False)"
   ]
  },
  {
   "cell_type": "markdown",
   "metadata": {},
   "source": [
    "## Bubble Sort"
   ]
  },
  {
   "cell_type": "code",
   "execution_count": 96,
   "metadata": {},
   "outputs": [],
   "source": [
    "def bubbleSort(alist):\n",
    "    for passnum in range(len(alist)-1,0,-1): \n",
    "        for i in range(passnum): #Goes through a list from last value to first\n",
    "            if alist[i]>alist[i+1]: # Compares every value to the values with a greater index\n",
    "                temp = alist[i]  \n",
    "                alist[i] = alist[i+1] \n",
    "                alist[i+1] = temp #If statement swap two values, so the larger value has the larger index\n",
    "            \n",
    "# Reference: interactivepython.org/runestone/static/pythonds/SortSearch/TheBubbleSort.html, accessed 13th April 2019."
   ]
  },
  {
   "cell_type": "code",
   "execution_count": 46,
   "metadata": {},
   "outputs": [
    {
     "name": "stdout",
     "output_type": "stream",
     "text": [
      "52 ns ± 2.94 ns per loop (mean ± std. dev. of 7 runs, 10000000 loops each)\n"
     ]
    }
   ],
   "source": [
    "%timeit(bubbleSort)"
   ]
  },
  {
   "cell_type": "code",
   "execution_count": 49,
   "metadata": {},
   "outputs": [
    {
     "data": {
      "text/plain": [
       "0.998"
      ]
     },
     "execution_count": 49,
     "metadata": {},
     "output_type": "execute_result"
    }
   ],
   "source": [
    "start =time.time()\n",
    "bubbleSort(rand(10)) #10 random variables\n",
    "end = time.time()\n",
    "\n",
    "np.round((end - start)* 1000, 3)"
   ]
  },
  {
   "cell_type": "code",
   "execution_count": 6,
   "metadata": {},
   "outputs": [
    {
     "data": {
      "text/plain": [
       "42124.685"
      ]
     },
     "execution_count": 6,
     "metadata": {},
     "output_type": "execute_result"
    }
   ],
   "source": [
    "start =time.time()\n",
    "bubbleSort(rand(10000)) #10,000\n",
    "end = time.time()\n",
    "\n",
    "\n",
    "np.round((end - start)* 1000, 3)"
   ]
  },
  {
   "cell_type": "markdown",
   "metadata": {},
   "source": [
    "## Insertion Sort"
   ]
  },
  {
   "cell_type": "code",
   "execution_count": 7,
   "metadata": {},
   "outputs": [],
   "source": [
    "def binary_search(the_array, item, start, end):\n",
    "    if start == end:\n",
    "        if the_array[start] > item:\n",
    "            return start\n",
    "        else:\n",
    "            return start + 1\n",
    "    if start > end:\n",
    "        return start\n",
    "\n",
    "    mid = round((start + end)/ 2) #Returns the mean of the range of indices \n",
    "    \n",
    "    # determine which side to search\n",
    "    if the_array[mid] < item:\n",
    "        return binary_search(the_array, item, mid + 1, end) # search array of indices above mid\n",
    "\n",
    "    elif the_array[mid] > item:\n",
    "        return binary_search(the_array, item, start, mid - 1) # search array of indices above mid\n",
    "\n",
    "    else:\n",
    "        return mid # Otherwise mid = item, so return mid"
   ]
  },
  {
   "cell_type": "code",
   "execution_count": 95,
   "metadata": {},
   "outputs": [],
   "source": [
    "def insertionSort(the_array):\n",
    "        \n",
    "    l = len(the_array) #set l to the number of values in array\n",
    "    for index in range(1, l): #for the every index\n",
    "        value = the_array[index] #set value\n",
    "        pos = binary_search(the_array, value, 0, index - 1) \n",
    "        the_array = the_array[:pos] + [value] + the_array[pos:index] + the_array[index+1:]\n",
    "    \n",
    "\n",
    "#Reference:http://interactivepython.org/courselib/static/pythonds/SortSearch/TheInsertionSort.html, accessed 13th April 2019.\n",
    "#Reference:http://skerritt.tech/blog/timsort/, accessed 13th April 2019."
   ]
  },
  {
   "cell_type": "code",
   "execution_count": 9,
   "metadata": {},
   "outputs": [
    {
     "name": "stdout",
     "output_type": "stream",
     "text": [
      "74.5 ns ± 6.12 ns per loop (mean ± std. dev. of 7 runs, 10000000 loops each)\n"
     ]
    }
   ],
   "source": [
    "%timeit(insertionSort)"
   ]
  },
  {
   "cell_type": "code",
   "execution_count": 52,
   "metadata": {},
   "outputs": [
    {
     "data": {
      "text/plain": [
       "0.0"
      ]
     },
     "execution_count": 52,
     "metadata": {},
     "output_type": "execute_result"
    }
   ],
   "source": [
    "start =time.time()\n",
    "insertionSort(rand(10)) #10 random variables\n",
    "end = time.time()\n",
    "np.round((end - start)* 1000, 3)"
   ]
  },
  {
   "cell_type": "code",
   "execution_count": 11,
   "metadata": {},
   "outputs": [
    {
     "data": {
      "text/plain": [
       "2199.553"
      ]
     },
     "execution_count": 11,
     "metadata": {},
     "output_type": "execute_result"
    }
   ],
   "source": [
    "start =time.time()\n",
    "insertionSort(rand(10000)) #10,000 random variables\n",
    "end = time.time()\n",
    "np.round((end - start)* 1000, 3)"
   ]
  },
  {
   "cell_type": "markdown",
   "metadata": {},
   "source": [
    "## Merge Sort"
   ]
  },
  {
   "cell_type": "code",
   "execution_count": 94,
   "metadata": {},
   "outputs": [],
   "source": [
    "def mergeSort(alist):\n",
    "\n",
    "    if len(alist)>1:\n",
    "        mid = len(alist)//2 #get value of middle index\n",
    "        lefthalf = alist[:mid] #lower subarray is below mid\n",
    "        righthalf = alist[mid:] #upper subarray is above mid\n",
    "\n",
    "        mergeSort(lefthalf) \n",
    "        mergeSort(righthalf) #Pass both subarrays back into merge sort\n",
    "\n",
    "        i=0\n",
    "        j=0\n",
    "        k=0\n",
    "        while i < len(lefthalf) and j < len(righthalf):\n",
    "            if lefthalf[i] < righthalf[j]:\n",
    "                alist[k]=lefthalf[i]\n",
    "                i=i+1 \n",
    "            else:\n",
    "                alist[k]=righthalf[j]\n",
    "                j=j+1\n",
    "            k=k+1\n",
    "\n",
    "        while i < len(lefthalf):\n",
    "            alist[k]=lefthalf[i]\n",
    "            i=i+1\n",
    "            k=k+1\n",
    "\n",
    "        while j < len(righthalf):\n",
    "            alist[k]=righthalf[j]\n",
    "            j=j+1\n",
    "            k=k+1 \n",
    "        \n",
    "            \n",
    "#Reference: http://interactivepython.org/courselib/static/pythonds/SortSearch/TheMergeSort.html, accessed 13th April 2019."
   ]
  },
  {
   "cell_type": "code",
   "execution_count": 13,
   "metadata": {},
   "outputs": [
    {
     "name": "stdout",
     "output_type": "stream",
     "text": [
      "59.2 ns ± 2.15 ns per loop (mean ± std. dev. of 7 runs, 10000000 loops each)\n"
     ]
    }
   ],
   "source": [
    "%timeit(mergeSort)"
   ]
  },
  {
   "cell_type": "code",
   "execution_count": 55,
   "metadata": {},
   "outputs": [
    {
     "data": {
      "text/plain": [
       "0.0"
      ]
     },
     "execution_count": 55,
     "metadata": {},
     "output_type": "execute_result"
    }
   ],
   "source": [
    "start =time.time()\n",
    "mergeSort(rand(10)) #10 random variables\n",
    "end = time.time()\n",
    "np.round((end - start)* 1000, 3)"
   ]
  },
  {
   "cell_type": "code",
   "execution_count": 15,
   "metadata": {},
   "outputs": [
    {
     "data": {
      "text/plain": [
       "222.055"
      ]
     },
     "execution_count": 15,
     "metadata": {},
     "output_type": "execute_result"
    }
   ],
   "source": [
    "start =time.time()\n",
    "mergeSort(rand(10000)) #10,000 random variables\n",
    "end = time.time()\n",
    "\n",
    "np.round((end - start)* 1000, 3)"
   ]
  },
  {
   "cell_type": "code",
   "execution_count": 16,
   "metadata": {},
   "outputs": [
    {
     "data": {
      "text/plain": [
       "2161.547"
      ]
     },
     "execution_count": 16,
     "metadata": {},
     "output_type": "execute_result"
    }
   ],
   "source": [
    "start =time.time()\n",
    "mergeSort(rand(100000))\n",
    "end = time.time()\n",
    "\n",
    "np.round((end - start)* 1000, 3)"
   ]
  },
  {
   "cell_type": "markdown",
   "metadata": {},
   "source": [
    "## Bucket Sort"
   ]
  },
  {
   "cell_type": "code",
   "execution_count": 93,
   "metadata": {},
   "outputs": [],
   "source": [
    "def bucketSort(alist):\n",
    "    largest = max(alist) #Set max\n",
    "    length = len(alist) #Set input size = length\n",
    "    size = largest/length\n",
    " \n",
    "    buckets = [[] for _ in range(length)]\n",
    "    for i in range(length):\n",
    "        j = int(alist[i]/size)\n",
    "        if j != length:\n",
    "            buckets[j].append(alist[i])\n",
    "        else:\n",
    "            buckets[length - 1].append(alist[i])\n",
    " \n",
    "    for i in range(length):\n",
    "        insertionSort(buckets[i])\n",
    " \n",
    "    result = []\n",
    "    for i in range(length):\n",
    "        result = result + buckets[i]\n",
    "\n",
    "#Reference: https://www.sanfoundry.com/python-program-implement-bucket-sort/, accessed 13th April 2019."
   ]
  },
  {
   "cell_type": "code",
   "execution_count": 19,
   "metadata": {},
   "outputs": [
    {
     "name": "stdout",
     "output_type": "stream",
     "text": [
      "74.9 ns ± 12.2 ns per loop (mean ± std. dev. of 7 runs, 10000000 loops each)\n"
     ]
    }
   ],
   "source": [
    "%timeit(bucketSort)"
   ]
  },
  {
   "cell_type": "code",
   "execution_count": 58,
   "metadata": {},
   "outputs": [
    {
     "data": {
      "text/plain": [
       "0.0"
      ]
     },
     "execution_count": 58,
     "metadata": {},
     "output_type": "execute_result"
    }
   ],
   "source": [
    "start =time.time()\n",
    "bucketSort(rand(10))\n",
    "end = time.time()\n",
    "np.round((end - start)* 1000, 3)"
   ]
  },
  {
   "cell_type": "code",
   "execution_count": 21,
   "metadata": {},
   "outputs": [
    {
     "data": {
      "text/plain": [
       "70664.917"
      ]
     },
     "execution_count": 21,
     "metadata": {},
     "output_type": "execute_result"
    }
   ],
   "source": [
    "start =time.time()\n",
    "bucketSort(rand(100000))\n",
    "end = time.time()\n",
    "\n",
    "np.round((end - start)* 1000, 3)"
   ]
  },
  {
   "cell_type": "markdown",
   "metadata": {},
   "source": [
    "## TimSort"
   ]
  },
  {
   "cell_type": "code",
   "execution_count": 22,
   "metadata": {},
   "outputs": [],
   "source": [
    "def merge(left, right): #Input is two sorted lists\n",
    "    if not left:\n",
    "        return right\n",
    "    if not right:\n",
    "        return left\n",
    "    if left[0] < right[0]:\n",
    "        return [left[0]] + merge(left[1:], right)\n",
    "    return [right[0]] + merge(left, right[1:])\n",
    "\n",
    "#Reference:http://skerritt.tech/blog/timsort/, accessed 13th April 2019."
   ]
  },
  {
   "cell_type": "code",
   "execution_count": 59,
   "metadata": {},
   "outputs": [],
   "source": [
    "def timSort(the_array):\n",
    " \n",
    "    runs, sorted_runs = [], []\n",
    "    length = len(the_array)\n",
    "    new_run = [the_array[0]]\n",
    "\n",
    "    # for every i in the range of 1 to length of array\n",
    "    for i in range(1, length):\n",
    "        # if i is at the end of the list\n",
    "        if i == length - 1:\n",
    "            new_run.append(the_array[i])\n",
    "            runs.append(new_run)\n",
    "            break\n",
    "        # if the i'th element of the array is less than the one before it\n",
    "        if the_array[i] < the_array[i-1]:\n",
    "            # if new_run is set to None (NULL)\n",
    "            if not new_run:\n",
    "                runs.append([the_array[i]])\n",
    "                new_run.append(the_array[i])\n",
    "            else:\n",
    "                runs.append(new_run)\n",
    "                new_run = []\n",
    "        # else if its equal to or more than\n",
    "        else:\n",
    "            new_run.append(the_array[i])\n",
    "\n",
    "    # for every item in runs, append it using insertion sort\n",
    "    for item in runs:\n",
    "        sorted_runs.append(insertionSort(item))\n",
    "    \n",
    "    # for every run in sorted_runs, merge them\n",
    "    sorted_array = []\n",
    "    for run in sorted_runs:\n",
    "        sorted_array = merge(sorted_array, run)\n",
    "\n",
    "\n",
    "#Reference:http://skerritt.tech/blog/timsort/, accessed 13th April 2019."
   ]
  },
  {
   "cell_type": "code",
   "execution_count": 24,
   "metadata": {},
   "outputs": [
    {
     "name": "stdout",
     "output_type": "stream",
     "text": [
      "66.8 ns ± 7.8 ns per loop (mean ± std. dev. of 7 runs, 10000000 loops each)\n"
     ]
    }
   ],
   "source": [
    "%timeit(timSort)"
   ]
  },
  {
   "cell_type": "code",
   "execution_count": null,
   "metadata": {},
   "outputs": [],
   "source": [
    "start =time.time()\n",
    "timSort(rand(100000))\n",
    "end = time.time()\n",
    "np.round((end - start)* 1000, 3)"
   ]
  },
  {
   "cell_type": "markdown",
   "metadata": {},
   "source": [
    "## Comparing Sorting Algorithms "
   ]
  },
  {
   "cell_type": "code",
   "execution_count": 102,
   "metadata": {},
   "outputs": [],
   "source": [
    "compare_all()"
   ]
  },
  {
   "cell_type": "code",
   "execution_count": 103,
   "metadata": {},
   "outputs": [
    {
     "data": {
      "text/html": [
       "<div>\n",
       "<style scoped>\n",
       "    .dataframe tbody tr th:only-of-type {\n",
       "        vertical-align: middle;\n",
       "    }\n",
       "\n",
       "    .dataframe tbody tr th {\n",
       "        vertical-align: top;\n",
       "    }\n",
       "\n",
       "    .dataframe thead th {\n",
       "        text-align: right;\n",
       "    }\n",
       "</style>\n",
       "<table border=\"1\" class=\"dataframe\">\n",
       "  <thead>\n",
       "    <tr style=\"text-align: right;\">\n",
       "      <th></th>\n",
       "      <th>Input Size</th>\n",
       "      <th>BubbleSort</th>\n",
       "      <th>InsertionSort</th>\n",
       "      <th>MergeSort</th>\n",
       "      <th>BucketSort</th>\n",
       "      <th>TimSort</th>\n",
       "    </tr>\n",
       "  </thead>\n",
       "  <tbody>\n",
       "    <tr>\n",
       "      <th>0</th>\n",
       "      <td>10</td>\n",
       "      <td>0.000</td>\n",
       "      <td>0.000</td>\n",
       "      <td>0.000</td>\n",
       "      <td>0.000</td>\n",
       "      <td>0.000</td>\n",
       "    </tr>\n",
       "    <tr>\n",
       "      <th>1</th>\n",
       "      <td>50</td>\n",
       "      <td>1.002</td>\n",
       "      <td>1.000</td>\n",
       "      <td>0.000</td>\n",
       "      <td>0.000</td>\n",
       "      <td>0.000</td>\n",
       "    </tr>\n",
       "    <tr>\n",
       "      <th>2</th>\n",
       "      <td>100</td>\n",
       "      <td>1.998</td>\n",
       "      <td>7.006</td>\n",
       "      <td>0.000</td>\n",
       "      <td>1.001</td>\n",
       "      <td>0.000</td>\n",
       "    </tr>\n",
       "    <tr>\n",
       "      <th>3</th>\n",
       "      <td>250</td>\n",
       "      <td>11.000</td>\n",
       "      <td>4.000</td>\n",
       "      <td>2.005</td>\n",
       "      <td>0.997</td>\n",
       "      <td>0.000</td>\n",
       "    </tr>\n",
       "    <tr>\n",
       "      <th>4</th>\n",
       "      <td>500</td>\n",
       "      <td>63.015</td>\n",
       "      <td>16.006</td>\n",
       "      <td>4.000</td>\n",
       "      <td>2.995</td>\n",
       "      <td>1.001</td>\n",
       "    </tr>\n",
       "    <tr>\n",
       "      <th>5</th>\n",
       "      <td>750</td>\n",
       "      <td>159.037</td>\n",
       "      <td>29.010</td>\n",
       "      <td>6.999</td>\n",
       "      <td>5.001</td>\n",
       "      <td>1.001</td>\n",
       "    </tr>\n",
       "    <tr>\n",
       "      <th>6</th>\n",
       "      <td>1000</td>\n",
       "      <td>217.059</td>\n",
       "      <td>43.010</td>\n",
       "      <td>10.004</td>\n",
       "      <td>7.998</td>\n",
       "      <td>3.008</td>\n",
       "    </tr>\n",
       "    <tr>\n",
       "      <th>7</th>\n",
       "      <td>5000</td>\n",
       "      <td>6839.732</td>\n",
       "      <td>697.179</td>\n",
       "      <td>56.012</td>\n",
       "      <td>107.028</td>\n",
       "      <td>11.999</td>\n",
       "    </tr>\n",
       "    <tr>\n",
       "      <th>8</th>\n",
       "      <td>7500</td>\n",
       "      <td>13737.485</td>\n",
       "      <td>1316.339</td>\n",
       "      <td>87.020</td>\n",
       "      <td>224.060</td>\n",
       "      <td>16.005</td>\n",
       "    </tr>\n",
       "    <tr>\n",
       "      <th>9</th>\n",
       "      <td>10000</td>\n",
       "      <td>36746.312</td>\n",
       "      <td>2321.589</td>\n",
       "      <td>115.026</td>\n",
       "      <td>383.100</td>\n",
       "      <td>28.010</td>\n",
       "    </tr>\n",
       "  </tbody>\n",
       "</table>\n",
       "</div>"
      ],
      "text/plain": [
       "   Input Size  BubbleSort  InsertionSort  MergeSort  BucketSort  TimSort\n",
       "0          10       0.000          0.000      0.000       0.000    0.000\n",
       "1          50       1.002          1.000      0.000       0.000    0.000\n",
       "2         100       1.998          7.006      0.000       1.001    0.000\n",
       "3         250      11.000          4.000      2.005       0.997    0.000\n",
       "4         500      63.015         16.006      4.000       2.995    1.001\n",
       "5         750     159.037         29.010      6.999       5.001    1.001\n",
       "6        1000     217.059         43.010     10.004       7.998    3.008\n",
       "7        5000    6839.732        697.179     56.012     107.028   11.999\n",
       "8        7500   13737.485       1316.339     87.020     224.060   16.005\n",
       "9       10000   36746.312       2321.589    115.026     383.100   28.010"
      ]
     },
     "execution_count": 103,
     "metadata": {},
     "output_type": "execute_result"
    }
   ],
   "source": [
    "df = pd.read_csv('data/run_once.csv')\n",
    "df"
   ]
  },
  {
   "cell_type": "code",
   "execution_count": 104,
   "metadata": {},
   "outputs": [
    {
     "data": {
      "image/png": "[encoded data removed]",
      "text/plain": [
       "<Figure size 432x288 with 1 Axes>"
      ]
     },
     "metadata": {},
     "output_type": "display_data"
    }
   ],
   "source": [
    "ax = df.plot(x='Input Size', y=['BubbleSort', 'InsertionSort', 'MergeSort', 'BucketSort', 'TimSort'])\n",
    "ax.set_ylabel(\"Time Elapsed (milliseconds)\");"
   ]
  },
  {
   "cell_type": "code",
   "execution_count": 105,
   "metadata": {},
   "outputs": [
    {
     "data": {
      "image/png": "[encoded data removed]",
      "text/plain": [
       "<Figure size 432x288 with 1 Axes>"
      ]
     },
     "metadata": {},
     "output_type": "display_data"
    }
   ],
   "source": [
    "ax = df.plot(x='Input Size', y=['InsertionSort', 'MergeSort', 'BucketSort', 'TimSort'])\n",
    "ax.set_ylabel(\"Time Elapsed (milliseconds)\");"
   ]
  },
  {
   "cell_type": "code",
   "execution_count": 106,
   "metadata": {},
   "outputs": [
    {
     "data": {
      "image/png": "[encoded data removed]",
      "text/plain": [
       "<Figure size 432x288 with 1 Axes>"
      ]
     },
     "metadata": {},
     "output_type": "display_data"
    }
   ],
   "source": [
    "ax = df.plot(x='Input Size', y=['MergeSort', 'BucketSort', 'TimSort'])\n",
    "ax.set_ylabel(\"Time Elapsed (milliseconds)\");"
   ]
  },
  {
   "cell_type": "markdown",
   "metadata": {},
   "source": [
    "## Benchmarking Sorting Algorithms"
   ]
  },
  {
   "cell_type": "code",
   "execution_count": 107,
   "metadata": {},
   "outputs": [],
   "source": [
    "bench_ten_runs()"
   ]
  },
  {
   "cell_type": "code",
   "execution_count": 108,
   "metadata": {},
   "outputs": [
    {
     "data": {
      "text/html": [
       "<div>\n",
       "<style scoped>\n",
       "    .dataframe tbody tr th:only-of-type {\n",
       "        vertical-align: middle;\n",
       "    }\n",
       "\n",
       "    .dataframe tbody tr th {\n",
       "        vertical-align: top;\n",
       "    }\n",
       "\n",
       "    .dataframe thead th {\n",
       "        text-align: right;\n",
       "    }\n",
       "</style>\n",
       "<table border=\"1\" class=\"dataframe\">\n",
       "  <thead>\n",
       "    <tr style=\"text-align: right;\">\n",
       "      <th></th>\n",
       "      <th>Input Size</th>\n",
       "      <th>BubbleSort</th>\n",
       "      <th>InsertionSort</th>\n",
       "      <th>MergeSort</th>\n",
       "      <th>BucketSort</th>\n",
       "      <th>TimSort</th>\n",
       "    </tr>\n",
       "  </thead>\n",
       "  <tbody>\n",
       "    <tr>\n",
       "      <th>0</th>\n",
       "      <td>10</td>\n",
       "      <td>0.000</td>\n",
       "      <td>0.000</td>\n",
       "      <td>1.200</td>\n",
       "      <td>0.000</td>\n",
       "      <td>0.000</td>\n",
       "    </tr>\n",
       "    <tr>\n",
       "      <th>1</th>\n",
       "      <td>50</td>\n",
       "      <td>0.300</td>\n",
       "      <td>1.701</td>\n",
       "      <td>0.200</td>\n",
       "      <td>0.500</td>\n",
       "      <td>0.100</td>\n",
       "    </tr>\n",
       "    <tr>\n",
       "      <th>2</th>\n",
       "      <td>100</td>\n",
       "      <td>5.001</td>\n",
       "      <td>5.601</td>\n",
       "      <td>0.500</td>\n",
       "      <td>0.300</td>\n",
       "      <td>0.200</td>\n",
       "    </tr>\n",
       "    <tr>\n",
       "      <th>3</th>\n",
       "      <td>250</td>\n",
       "      <td>6.702</td>\n",
       "      <td>27.507</td>\n",
       "      <td>3.701</td>\n",
       "      <td>1.800</td>\n",
       "      <td>0.500</td>\n",
       "    </tr>\n",
       "    <tr>\n",
       "      <th>4</th>\n",
       "      <td>500</td>\n",
       "      <td>28.607</td>\n",
       "      <td>20.706</td>\n",
       "      <td>6.702</td>\n",
       "      <td>5.502</td>\n",
       "      <td>1.200</td>\n",
       "    </tr>\n",
       "    <tr>\n",
       "      <th>5</th>\n",
       "      <td>750</td>\n",
       "      <td>58.815</td>\n",
       "      <td>24.507</td>\n",
       "      <td>5.601</td>\n",
       "      <td>11.003</td>\n",
       "      <td>2.301</td>\n",
       "    </tr>\n",
       "    <tr>\n",
       "      <th>6</th>\n",
       "      <td>1000</td>\n",
       "      <td>113.029</td>\n",
       "      <td>43.811</td>\n",
       "      <td>14.203</td>\n",
       "      <td>12.403</td>\n",
       "      <td>2.601</td>\n",
       "    </tr>\n",
       "    <tr>\n",
       "      <th>7</th>\n",
       "      <td>5000</td>\n",
       "      <td>4013.718</td>\n",
       "      <td>849.815</td>\n",
       "      <td>91.223</td>\n",
       "      <td>234.060</td>\n",
       "      <td>20.205</td>\n",
       "    </tr>\n",
       "    <tr>\n",
       "      <th>8</th>\n",
       "      <td>7500</td>\n",
       "      <td>8602.481</td>\n",
       "      <td>2453.423</td>\n",
       "      <td>143.737</td>\n",
       "      <td>741.888</td>\n",
       "      <td>62.816</td>\n",
       "    </tr>\n",
       "    <tr>\n",
       "      <th>9</th>\n",
       "      <td>10000</td>\n",
       "      <td>14201.001</td>\n",
       "      <td>4310.650</td>\n",
       "      <td>214.354</td>\n",
       "      <td>855.917</td>\n",
       "      <td>49.313</td>\n",
       "    </tr>\n",
       "  </tbody>\n",
       "</table>\n",
       "</div>"
      ],
      "text/plain": [
       "   Input Size  BubbleSort  InsertionSort  MergeSort  BucketSort  TimSort\n",
       "0          10       0.000          0.000      1.200       0.000    0.000\n",
       "1          50       0.300          1.701      0.200       0.500    0.100\n",
       "2         100       5.001          5.601      0.500       0.300    0.200\n",
       "3         250       6.702         27.507      3.701       1.800    0.500\n",
       "4         500      28.607         20.706      6.702       5.502    1.200\n",
       "5         750      58.815         24.507      5.601      11.003    2.301\n",
       "6        1000     113.029         43.811     14.203      12.403    2.601\n",
       "7        5000    4013.718        849.815     91.223     234.060   20.205\n",
       "8        7500    8602.481       2453.423    143.737     741.888   62.816\n",
       "9       10000   14201.001       4310.650    214.354     855.917   49.313"
      ]
     },
     "execution_count": 108,
     "metadata": {},
     "output_type": "execute_result"
    }
   ],
   "source": [
    "df2 = pd.read_csv('data/avg_ten_runs.csv')\n",
    "df2"
   ]
  },
  {
   "cell_type": "code",
   "execution_count": 109,
   "metadata": {},
   "outputs": [
    {
     "data": {
      "image/png": "[encoded data removed]",
      "text/plain": [
       "<Figure size 432x288 with 1 Axes>"
      ]
     },
     "metadata": {},
     "output_type": "display_data"
    }
   ],
   "source": [
    "ax = df2.plot(x='Input Size', y=['BubbleSort','InsertionSort', 'MergeSort', 'BucketSort', 'TimSort'])\n",
    "ax.set_ylabel(\"Time Elapsed (milliseconds)\");"
   ]
  },
  {
   "cell_type": "code",
   "execution_count": 110,
   "metadata": {},
   "outputs": [
    {
     "data": {
      "image/png": "[encoded data removed]",
      "text/plain": [
       "<Figure size 432x288 with 1 Axes>"
      ]
     },
     "metadata": {},
     "output_type": "display_data"
    }
   ],
   "source": [
    "ax = df.plot(x='Input Size', y=['InsertionSort', 'MergeSort', 'BucketSort', 'TimSort'])\n",
    "ax.set_ylabel(\"Time Elapsed (milliseconds)\");"
   ]
  },
  {
   "cell_type": "markdown",
   "metadata": {},
   "source": [
    "## References\n"
   ]
  },
  {
   "cell_type": "markdown",
   "metadata": {},
   "source": [
    "#### Documentation\n",
    "* [The Python Standard Library](https://docs.python.org/3/library/)\n",
    "> * [Time](https://docs.python.org/3/library/time.html) function, accessed 13th April 2019. \n",
    "> * [Reading and Writing CSV files](https://docs.python.org/3/library/csv.html), accessed 13th April 2019.\n",
    "* [Pandas Documentation]()\n",
    "> * [pandas.DataFrame](https://pandas.pydata.org/pandas-docs/stable/reference/api/pandas.DataFrame.html) function, accessed 13th April 2019.\n",
    "___"
   ]
  },
  {
   "cell_type": "code",
   "execution_count": null,
   "metadata": {},
   "outputs": [],
   "source": []
  },
  {
   "cell_type": "code",
   "execution_count": null,
   "metadata": {},
   "outputs": [],
   "source": []
  }
 ],
 "metadata": {
  "kernelspec": {
   "display_name": "Python 3",
   "language": "python",
   "name": "python3"
  },
  "language_info": {
   "codemirror_mode": {
    "name": "ipython",
    "version": 3
   },
   "file_extension": ".py",
   "mimetype": "text/x-python",
   "name": "python",
   "nbconvert_exporter": "python",
   "pygments_lexer": "ipython3",
   "version": "3.6.5"
  }
 },
 "nbformat": 4,
 "nbformat_minor": 2
}
