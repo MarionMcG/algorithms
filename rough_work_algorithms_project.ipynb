{
 "cells": [
  {
   "cell_type": "markdown",
   "metadata": {},
   "source": [
    "#### This notebook contains unused code, failed code or rough work from the the sorting_algorithms.ipynb project. "
   ]
  },
  {
   "cell_type": "code",
   "execution_count": 7,
   "metadata": {},
   "outputs": [],
   "source": [
    "import numpy as np # For randomly generating numbers\n",
    "import pandas as pd #For reading csv files, generating dataframes and plots for same\n",
    "import time"
   ]
  },
  {
   "cell_type": "code",
   "execution_count": 8,
   "metadata": {},
   "outputs": [],
   "source": [
    "def rand(n):\n",
    "    array = []\n",
    "    for i in range(0, n, 1): # for every integer between 1 and n\n",
    "        gen_rand= np.random.randint(0, 100) # generate a random number\n",
    "        array.append(gen_rand) # and add it to the array\n",
    "    return array"
   ]
  },
  {
   "cell_type": "code",
   "execution_count": 18,
   "metadata": {},
   "outputs": [],
   "source": [
    "#Input an array with 100 values\n",
    "#Returns the mean of every 10 values, as an array\n",
    "def mean_array(the_array):\n",
    "    average_time = []\n",
    "    y1 = np.mean(the_array[slice(0, 10, 1)])\n",
    "    y2 = np.mean(the_array[slice(10, 20, 1)])\n",
    "    y3 = np.mean(the_array[slice(20, 30, 1)])\n",
    "    y4 = np.mean(the_array[slice(30, 40, 1)])\n",
    "    y5 = np.mean(the_array[slice(40, 50, 1)])\n",
    "    y6 = np.mean(the_array[slice(50, 60, 1)])\n",
    "    y7 = np.mean(the_array[slice(60, 70, 1)])\n",
    "    y8 = np.mean(the_array[slice(70, 80, 1)])\n",
    "    y9 = np.mean(the_array[slice(80, 90, 1)])\n",
    "    y10 =np.mean(the_array[slice(90, 100, 1)])\n",
    "    \n",
    "    results = [y1, y2, y3, y4, y5, y6, y7, y8, y9, y10]\n",
    "    return results"
   ]
  },
  {
   "cell_type": "code",
   "execution_count": 9,
   "metadata": {},
   "outputs": [],
   "source": [
    "# Passes multiple randomly generated arrays to only 1 function\n",
    "# Helpful little function that I used to verify results when writing compare_all ()\n",
    "\n",
    "def bench(func):\n",
    "    array_1 = []\n",
    "    array_2 =[]\n",
    "    # Rand_size = input size of randomly generated datasets\n",
    "    rand_size = [10, 50, 100, 250, 500, 750, 1000, 5000, 7500, 10000]\n",
    "    for i in rand_size:\n",
    "            start = time.time()\n",
    "            func(rand(i)) #Pass each randomly generated dataset through the function\n",
    "            end = time.time()\n",
    "            y = round(((end - start)*1000), 3)\n",
    "            x = i #Set x equal to the size\n",
    "            array_1.append(x) #Add x values to array 1 \n",
    "            array_2.append(y) #Add y values to array 2\n",
    "         \n",
    "    d = {'Input Size': array_1, 'Time Elapsed': array_2} #Generate df with data\n",
    "    df2 = pd.DataFrame(data=d);\n",
    "    graph = df2.plot('Input Size', 'Time Elapsed');\n",
    "    display(df2, graph);"
   ]
  },
  {
   "cell_type": "markdown",
   "metadata": {},
   "source": [
    "## Failed Timsort Implementation\n"
   ]
  },
  {
   "cell_type": "code",
   "execution_count": 10,
   "metadata": {},
   "outputs": [],
   "source": [
    "#Ran benchmarking function with timsort and sorted only, following timsorts failure in bench_ten_runs\n",
    "def bench_tim():\n",
    "    results=[]\n",
    "    average_time = []\n",
    "    final_array= []\n",
    "    num_runs = 10\n",
    "    rand_size = [10, 50, 100, 250, 300, 500, 750, 1000, 1500, 2000] #Note the smaller input sizes\n",
    "    func = [timSort, sorted]\n",
    "    \n",
    "    for tim in func: # for my timsort algorithms\n",
    "        for i in rand_size: #input a value\n",
    "            size = rand(i) \n",
    "            for r in range(num_runs):#ten times\n",
    "                start = time.time()\n",
    "                tim(size) \n",
    "                end = time.time()\n",
    "                clock = (end - start)*1000\n",
    "                results.append(clock)  # Add time elapsed to array results\n",
    "        average_time = mean_array(results) # Find average time, for each i in rand_size, using mean_array()\n",
    "        average_time = np.round(average_time, 3) # Round result to 3 dps\n",
    "        final_array.append(average_time) # Append to final_array\n",
    "        average_time = [] #set both average_time\n",
    "        results=[]  #and results to [], before passing through the next function\n",
    "\n",
    "    df5 = pd.DataFrame({'Input': rand_size, 'TimSort': final_array[0], 'Sorted': final_array[1]})\n",
    "    df5.to_csv(\"data/run_tim.csv\", index=False)"
   ]
  },
  {
   "cell_type": "code",
   "execution_count": 15,
   "metadata": {},
   "outputs": [],
   "source": [
    "#Takes a new item, and return the appropriate index for item in sorted array\n",
    "\n",
    "def binary_search(the_array, item, start, end): #Input is a sorted array, item to be place in array, start and end\n",
    "    \n",
    "    if start == end: # if there's only one item in the sorted array\n",
    "        if the_array[start] > item: # and start item is bigger than the new item\n",
    "            return start #return start (so the smaller number has index 0)\n",
    "        else:\n",
    "            return start + 1 #otherwise return start+1 (so the bigger number has index 1)\n",
    "        \n",
    "    if start > end: #at the last element of the array\n",
    "        return start #return the index of the last element\n",
    "\n",
    "    mid = round((start + end)/ 2) #Returns the mean of the range of indices \n",
    "    \n",
    "    # determine which side to search\n",
    "    if the_array[mid] < item: # if new item is less than the middle value\n",
    "        return binary_search(the_array, item, mid + 1, end) # search array of indices above mid\n",
    "\n",
    "    elif the_array[mid] > item:\n",
    "        return binary_search(the_array, item, start, mid - 1) # search array of indices below mid\n",
    "\n",
    "    else:\n",
    "        return mid # Otherwise mid = item, so return mid\n",
    "\n",
    "def insertionSort(the_array):\n",
    "        \n",
    "    l = len(the_array) #set l to the number of values in array\n",
    "    for index in range(1, l): #for every index\n",
    "        value = the_array[index] #value is equal to element in that position\n",
    "        pos = binary_search(the_array, value, 0, index - 1) #perform binary search to find the appropriate index for value\n",
    "        the_array = the_array[:pos] + [value] + the_array[pos:index] + the_array[index+1:]\n",
    "    return the_array\n",
    "\n",
    "#Reference:http://interactivepython.org/courselib/static/pythonds/SortSearch/TheInsertionSort.html, accessed 13th April 2019.\n",
    "#Reference:http://skerritt.tech/blog/timsort/, accessed 13th April 2019."
   ]
  },
  {
   "cell_type": "markdown",
   "metadata": {},
   "source": [
    "Timsort is a hybrid stable sorting algorithm, using elements of both merge sort and insertion sort. It is designed to find short lists within the input that are already ordered. \n",
    "\n",
    "While I will be able to apply the binary search and insertion sorts algorithms already discussed in this project. I will use a variation of merge sort, different from the function previously encountered. Merge() is a function that takes two already sorted lists of numbers and puts them in order. This is different from mergeSort, which takes an unordered set and divides it into smaller subsets before merging. With TimSort, the subsets or runs, have already been ordered using Insertion Sort. "
   ]
  },
  {
   "cell_type": "code",
   "execution_count": null,
   "metadata": {},
   "outputs": [],
   "source": []
  },
  {
   "cell_type": "code",
   "execution_count": 11,
   "metadata": {},
   "outputs": [],
   "source": [
    "def merge(left, right):\n",
    "\n",
    "    if not left:\n",
    "        return right\n",
    "    if not right:\n",
    "        return left\n",
    "    if left[0] < right[0]:\n",
    "        return [left[0]] + merge(left[1:], right)\n",
    "    return [right[0]] + merge(left, right[1:])\n"
   ]
  },
  {
   "cell_type": "code",
   "execution_count": 12,
   "metadata": {},
   "outputs": [],
   "source": [
    "def timSort(the_array):\n",
    " \n",
    "    runs, sorted_runs = [], []\n",
    "    length = len(the_array)\n",
    "    new_run = [the_array[0]]\n",
    "\n",
    "    # for every i in the range of 1 to length of array\n",
    "    for i in range(1, length):\n",
    "        # if i is at the end of the list\n",
    "        if i == length - 1:\n",
    "            new_run.append(the_array[i])\n",
    "            runs.append(new_run)\n",
    "            break\n",
    "        # if the i'th element of the array is less than the one before it\n",
    "        if the_array[i] < the_array[i-1]:\n",
    "            # if new_run is set to None (NULL)\n",
    "            if not new_run:\n",
    "                runs.append([the_array[i]])\n",
    "                new_run.append(the_array[i])\n",
    "            else:\n",
    "                runs.append(new_run)\n",
    "                new_run = [the_array[i]]\n",
    "        # else if its equal to or more than\n",
    "        else:\n",
    "            new_run.append(the_array[i])\n",
    "\n",
    "    # for every item in runs, append it using binary insertion sort\n",
    "    for item in runs:\n",
    "        sorted_runs.append(insertionSort(item))\n",
    "    \n",
    "    # for every run in sorted_runs, merge them\n",
    "    sorted_array = []\n",
    "    for run in sorted_runs:\n",
    "        sorted_array = merge(sorted_array, run)\n",
    "    \n",
    "    return sorted_array\n",
    "    \n",
    "#Reference:http://skerritt.tech/blog/timsort/, accessed 13th April 2019."
   ]
  },
  {
   "cell_type": "code",
   "execution_count": 13,
   "metadata": {},
   "outputs": [
    {
     "data": {
      "text/plain": [
       "[98, 43, 4, 75, 45, 64, 47, 35, 98, 14]"
      ]
     },
     "execution_count": 13,
     "metadata": {},
     "output_type": "execute_result"
    }
   ],
   "source": [
    "mylist = rand(10)\n",
    "mylist"
   ]
  },
  {
   "cell_type": "code",
   "execution_count": 16,
   "metadata": {},
   "outputs": [
    {
     "data": {
      "text/plain": [
       "[4, 14, 35, 43, 45, 47, 64, 75, 98, 98]"
      ]
     },
     "execution_count": 16,
     "metadata": {},
     "output_type": "execute_result"
    }
   ],
   "source": [
    "timSort(mylist)"
   ]
  },
  {
   "cell_type": "markdown",
   "metadata": {},
   "source": [
    "While testing this sorting algorithm, the code I found online often returned duplicates or incomplete lists of sorted items. I was able to correct the code, to get it to return a correctly sorted list, but this led to a recursion error when doing multiple runs with large lists, with maximum recursion depth exceeded in comparison.\n",
    "\n",
    "The recursion error arose when passing large input sizes through the merge function using TimSort. I tried adapting my merge function to solve this problem. Using mergeSort function, and inbuilt functions like heapq.merge, the function ran without a recursion error. However neither of those functions were designed to run on already sorted sets, and took much longer than expected. They made TimSort ineffective, taking longer than BucketSort and MergeSort to execute. \n",
    "\n",
    "I will have to do some further investigations to determine why this function is returning a recursion error for certain input sizes. For the moment, I will remove TimSort from my benchmarking analysis, as I don't believe the code accurately reflects its capabilities. \n",
    "\n",
    "TimSort should be the most effective sorting algorithm I investigated as part of this project. It should have $O(nlogn)$ time complexity for worst case and $O(n)$ for best case scenarios, but at the moment, my code doesn't reflect this. \n",
    "\n",
    "Instead I will compare my implementation of TimSort to the python inbuilt sorting algorithm sorted, which also use Tim Peter's algorithm.\n",
    "\n"
   ]
  },
  {
   "cell_type": "code",
   "execution_count": 19,
   "metadata": {},
   "outputs": [
    {
     "data": {
      "text/html": [
       "<div>\n",
       "<style scoped>\n",
       "    .dataframe tbody tr th:only-of-type {\n",
       "        vertical-align: middle;\n",
       "    }\n",
       "\n",
       "    .dataframe tbody tr th {\n",
       "        vertical-align: top;\n",
       "    }\n",
       "\n",
       "    .dataframe thead th {\n",
       "        text-align: right;\n",
       "    }\n",
       "</style>\n",
       "<table border=\"1\" class=\"dataframe\">\n",
       "  <thead>\n",
       "    <tr style=\"text-align: right;\">\n",
       "      <th></th>\n",
       "      <th>Input</th>\n",
       "      <th>TimSort</th>\n",
       "      <th>Sorted</th>\n",
       "    </tr>\n",
       "  </thead>\n",
       "  <tbody>\n",
       "    <tr>\n",
       "      <th>0</th>\n",
       "      <td>10</td>\n",
       "      <td>0.000</td>\n",
       "      <td>0.0</td>\n",
       "    </tr>\n",
       "    <tr>\n",
       "      <th>1</th>\n",
       "      <td>50</td>\n",
       "      <td>0.700</td>\n",
       "      <td>0.0</td>\n",
       "    </tr>\n",
       "    <tr>\n",
       "      <th>2</th>\n",
       "      <td>100</td>\n",
       "      <td>3.101</td>\n",
       "      <td>0.0</td>\n",
       "    </tr>\n",
       "    <tr>\n",
       "      <th>3</th>\n",
       "      <td>250</td>\n",
       "      <td>42.811</td>\n",
       "      <td>0.0</td>\n",
       "    </tr>\n",
       "    <tr>\n",
       "      <th>4</th>\n",
       "      <td>300</td>\n",
       "      <td>57.115</td>\n",
       "      <td>0.0</td>\n",
       "    </tr>\n",
       "    <tr>\n",
       "      <th>5</th>\n",
       "      <td>500</td>\n",
       "      <td>321.582</td>\n",
       "      <td>0.2</td>\n",
       "    </tr>\n",
       "    <tr>\n",
       "      <th>6</th>\n",
       "      <td>750</td>\n",
       "      <td>1058.469</td>\n",
       "      <td>0.3</td>\n",
       "    </tr>\n",
       "    <tr>\n",
       "      <th>7</th>\n",
       "      <td>1000</td>\n",
       "      <td>2689.083</td>\n",
       "      <td>0.3</td>\n",
       "    </tr>\n",
       "    <tr>\n",
       "      <th>8</th>\n",
       "      <td>1500</td>\n",
       "      <td>8057.748</td>\n",
       "      <td>0.4</td>\n",
       "    </tr>\n",
       "    <tr>\n",
       "      <th>9</th>\n",
       "      <td>2000</td>\n",
       "      <td>15956.350</td>\n",
       "      <td>0.6</td>\n",
       "    </tr>\n",
       "  </tbody>\n",
       "</table>\n",
       "</div>"
      ],
      "text/plain": [
       "   Input    TimSort  Sorted\n",
       "0     10      0.000     0.0\n",
       "1     50      0.700     0.0\n",
       "2    100      3.101     0.0\n",
       "3    250     42.811     0.0\n",
       "4    300     57.115     0.0\n",
       "5    500    321.582     0.2\n",
       "6    750   1058.469     0.3\n",
       "7   1000   2689.083     0.3\n",
       "8   1500   8057.748     0.4\n",
       "9   2000  15956.350     0.6"
      ]
     },
     "execution_count": 19,
     "metadata": {},
     "output_type": "execute_result"
    }
   ],
   "source": [
    "bench_tim()\n",
    "df5 = pd.read_csv('data/run_tim.csv')\n",
    "df5"
   ]
  },
  {
   "cell_type": "code",
   "execution_count": 21,
   "metadata": {},
   "outputs": [
    {
     "data": {
      "image/png": "[encoded data removed]",
      "text/plain": [
       "<Figure size 432x288 with 1 Axes>"
      ]
     },
     "metadata": {},
     "output_type": "display_data"
    }
   ],
   "source": [
    "ax = df5.plot(x='Input', y=['TimSort', 'Sorted'])\n",
    "ax.set_ylabel(\"Time Elapsed (milliseconds)\");"
   ]
  },
  {
   "cell_type": "markdown",
   "metadata": {},
   "source": [
    "TimSort is performing nowhere near as well as expected and I am now convinced there is an error in the code implementing this algorithm. TimSort is performing worse than Bubble Sort on a similar input size. "
   ]
  }
 ],
 "metadata": {
  "kernelspec": {
   "display_name": "Python 3",
   "language": "python",
   "name": "python3"
  },
  "language_info": {
   "codemirror_mode": {
    "name": "ipython",
    "version": 3
   },
   "file_extension": ".py",
   "mimetype": "text/x-python",
   "name": "python",
   "nbconvert_exporter": "python",
   "pygments_lexer": "ipython3",
   "version": "3.6.5"
  }
 },
 "nbformat": 4,
 "nbformat_minor": 2
}
